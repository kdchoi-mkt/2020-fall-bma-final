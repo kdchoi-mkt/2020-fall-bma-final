{
 "cells": [
  {
   "cell_type": "markdown",
   "metadata": {},
   "source": [
    "### 시간에 대해서 clustering을 시도한 흔적입니다"
   ]
  },
  {
   "cell_type": "code",
   "execution_count": 65,
   "metadata": {},
   "outputs": [],
   "source": [
    "import click_stream\n",
    "import pandas as pd\n",
    "import matplotlib.pyplot as plt\n",
    "import plotly.express as px\n",
    "from sklearn.cluster import KMeans"
   ]
  },
  {
   "cell_type": "code",
   "execution_count": 104,
   "metadata": {},
   "outputs": [],
   "source": [
    "def derive_inertia_series(fit_data, cluster_range = (2, 10)):\n",
    "    \"\"\"Elbow method를 위한 KMeans inertia line plot function\"\"\"\n",
    "    inertia_list = list()\n",
    "    \n",
    "    for n_clusters in range(cluster_range[0], cluster_range[1]):\n",
    "        candidate = KMeans(n_clusters = n_clusters)\n",
    "        candidate.fit(fit_data)\n",
    "        inertia_list.append(candidate.inertia_)\n",
    "        \n",
    "    plt.plot(range(cluster_range[0], cluster_range[1]), inertia_list)\n",
    "    plt.show()\n",
    "    \n",
    "def derive_cluster(fit_data: pd.DataFrame, n_cluster):\n",
    "    \"\"\"데이터를 클러스터링 한 후에 그래프를 그립니다.\"\"\"\n",
    "    original_columns = fit_data.columns\n",
    "    \n",
    "    kmeans = KMeans(n_clusters = n_cluster)\n",
    "    kmeans.fit(fit_data)\n",
    "    \n",
    "    fit_data = fit_data.copy()\n",
    "    fit_data['ClusterLabel'] = kmeans.labels_\n",
    "    cluster_gp = fit_data.groupby('ClusterLabel')\n",
    "    \n",
    "    cluster_description = pd.DataFrame(\n",
    "        data = [cluster_gp[column].mean() for column in original_columns]\n",
    "    )\n",
    "\n",
    "    px.line(data_frame = cluster_description, x = cluster_description.index, y = [0, 1, 2, 3]).show()\n",
    "    \n",
    "    fit_data = fit_data.join(pd.read_excel('./train_profiles.xlsx')\n",
    "                               .set_index('CUS_ID'), \n",
    "                             how = 'inner')\n",
    "    \n",
    "    cross_tab = fit_data.groupby(['ClusterLabel', 'GROUP'])[[0]]\\\n",
    "                        .count()\\\n",
    "                        .reset_index()\\\n",
    "                        .pivot(columns = 'ClusterLabel', index = 'GROUP', values = 0)\n",
    "    cross_tab_summation = cross_tab.sum(axis = 1)\n",
    "\n",
    "    for col in cross_tab.columns:\n",
    "        cross_tab[col] /= cross_tab_summation\n",
    "    \n",
    "    return round(cross_tab * 100, 2)"
   ]
  },
  {
   "cell_type": "code",
   "execution_count": 85,
   "metadata": {},
   "outputs": [],
   "source": [
    "data = click_stream.read_click_stream(file_name = 'train_clickstreams.tab')\n",
    "data = click_stream.preprocess_time_column(data)"
   ]
  },
  {
   "cell_type": "code",
   "execution_count": 94,
   "metadata": {},
   "outputs": [],
   "source": [
    "cluster_data = pd.pivot_table(\n",
    "    data = data, \n",
    "    index = 'CUS_ID', \n",
    "    columns = ['WEEKDAY_TIME'], \n",
    "    values = ['ST_TIME'], \n",
    "    aggfunc = 'sum'\n",
    ")['ST_TIME'].fillna(0)"
   ]
  },
  {
   "cell_type": "code",
   "execution_count": 87,
   "metadata": {},
   "outputs": [
    {
     "data": {
      "image/png": "[encoded data removed]",
      "text/plain": [
       "<Figure size 432x288 with 1 Axes>"
      ]
     },
     "metadata": {
      "needs_background": "light"
     },
     "output_type": "display_data"
    }
   ],
   "source": [
    "derive_inertia_series(cluster_data)"
   ]
  },
  {
   "cell_type": "code",
   "execution_count": 105,
   "metadata": {},
   "outputs": [
    {
     "data": {
      "application/vnd.plotly.v1+json": {
       "config": {
        "plotlyServerURL": "https://plot.ly"
       },
       "data": [
        {
         "hovertemplate": "variable=0<br>index=%{x}<br>value=%{y}<extra></extra>",
         "legendgroup": "0",
         "line": {
          "color": "#636efa",
          "dash": "solid"
         },
         "mode": "lines",
         "name": "0",
         "orientation": "v",
         "showlegend": true,
         "type": "scatter",
         "x": [
          0,
          1,
          2,
          3,
          4,
          5,
          6,
          7,
          8,
          9,
          10,
          11,
          12,
          13,
          14,
          15,
          16,
          17,
          18,
          19,
          20,
          21,
          22,
          23,
          100,
          101,
          102,
          103,
          104,
          105,
          106,
          107,
          108,
          109,
          110,
          111,
          112,
          113,
          114,
          115,
          116,
          117,
          118,
          119,
          120,
          121,
          122,
          123,
          200,
          201,
          202,
          203,
          204,
          205,
          206,
          207,
          208,
          209,
          210,
          211,
          212,
          213,
          214,
          215,
          216,
          217,
          218,
          219,
          220,
          221,
          222,
          223,
          300,
          301,
          302,
          303,
          304,
          305,
          306,
          307,
          308,
          309,
          310,
          311,
          312,
          313,
          314,
          315,
          316,
          317,
          318,
          319,
          320,
          321,
          322,
          323,
          400,
          401,
          402,
          403,
          404,
          405,
          406,
          407,
          408,
          409,
          410,
          411,
          412,
          413,
          414,
          415,
          416,
          417,
          418,
          419,
          420,
          421,
          422,
          423,
          500,
          501,
          502,
          503,
          504,
          505,
          506,
          507,
          508,
          509,
          510,
          511,
          512,
          513,
          514,
          515,
          516,
          517,
          518,
          519,
          520,
          521,
          522,
          523,
          600,
          601,
          602,
          603,
          604,
          605,
          606,
          607,
          608,
          609,
          610,
          611,
          612,
          613,
          614,
          615,
          616,
          617,
          618,
          619,
          620,
          621,
          622,
          623
         ],
         "xaxis": "x",
         "y": [
          8600.765151515152,
          5767.075757575758,
          3403.8295454545455,
          1816.4886363636363,
          1078.159090909091,
          764.4280303030303,
          870.314393939394,
          1234.6780303030303,
          1835.753787878788,
          2775.844696969697,
          2999.587121212121,
          3520.0454545454545,
          3673.787878787879,
          3551.4204545454545,
          3893.0492424242425,
          4223.204545454545,
          4781.541666666667,
          4669.992424242424,
          4768.397727272727,
          5802.265151515152,
          7847.503787878788,
          10226.844696969696,
          11627.151515151516,
          10433.375,
          9249.689393939394,
          5703.727272727273,
          3238.060606060606,
          1958.409090909091,
          1102.875,
          786.9469696969697,
          973.2121212121212,
          1402.753787878788,
          2175.7613636363635,
          2887.056818181818,
          3254.1969696969695,
          3458.7613636363635,
          3459.128787878788,
          3242.503787878788,
          3403.253787878788,
          3937.556818181818,
          4358.469696969697,
          4837.583333333333,
          4927.973484848485,
          6110.962121212121,
          7932.761363636364,
          10126.522727272728,
          11359.602272727272,
          10623.378787878788,
          9085.55303030303,
          5576.617424242424,
          3120.8560606060605,
          1815.3484848484848,
          1161.534090909091,
          811.6212121212121,
          908.8825757575758,
          1280.5984848484848,
          1884.6818181818182,
          2819.8257575757575,
          3275.8219696969695,
          3659.284090909091,
          3290.2083333333335,
          3246.7992424242425,
          3555.935606060606,
          3919.8295454545455,
          4195.416666666667,
          4552.25,
          4931.393939393939,
          5441.435606060606,
          7406.189393939394,
          9764.208333333334,
          11545.575757575758,
          11025.09090909091,
          9126.98106060606,
          5838.007575757576,
          3338.117424242424,
          1872.3257575757575,
          1166.7348484848485,
          867.7386363636364,
          996.9280303030303,
          1292.003787878788,
          2151.3219696969695,
          2980.1742424242425,
          3281.094696969697,
          3781.412878787879,
          3390.7348484848485,
          3332.5416666666665,
          3602.128787878788,
          3694.037878787879,
          4054.9583333333335,
          4481.424242424242,
          4825.136363636364,
          5461.390151515152,
          7610.378787878788,
          10138.109848484848,
          11245.109848484848,
          10628.515151515152,
          9112.84090909091,
          5661.905303030303,
          3232.530303030303,
          1893.246212121212,
          1303.1780303030303,
          945.689393939394,
          1098.878787878788,
          1429.4469696969697,
          2019.9469696969697,
          2820.4886363636365,
          3074.530303030303,
          3255.8863636363635,
          3157.5833333333335,
          3029.068181818182,
          3168.5492424242425,
          3656.280303030303,
          3944.9583333333335,
          4550.905303030303,
          4671.136363636364,
          5205.598484848485,
          6750.556818181818,
          8472.825757575758,
          9965.17803030303,
          8740.564393939394,
          7936.079545454545,
          5222.253787878788,
          3130.2348484848485,
          1868.0795454545455,
          1130.814393939394,
          820.6174242424242,
          829.8219696969697,
          1213.314393939394,
          1834.3939393939395,
          2470.6060606060605,
          3040.939393939394,
          3560.8295454545455,
          3918.503787878788,
          3602.246212121212,
          3805.5189393939395,
          3892.6060606060605,
          4182.295454545455,
          4150.325757575758,
          4166.829545454545,
          4452.992424242424,
          5675.242424242424,
          7185.32196969697,
          7617.454545454545,
          7571.007575757576,
          6626.632575757576,
          4302.924242424242,
          2854.412878787879,
          1765.564393939394,
          1278.0151515151515,
          908.5416666666666,
          810.719696969697,
          1151.3219696969697,
          1509.9469696969697,
          2031.9848484848485,
          2749.537878787879,
          3323.094696969697,
          3463.257575757576,
          3696.5,
          4148.594696969697,
          4418.666666666667,
          4450.185606060606,
          4250.378787878788,
          4404.712121212121,
          4932.954545454545,
          6945.780303030303,
          8548.5,
          8622.128787878788,
          8408.325757575758
         ],
         "yaxis": "y"
        },
        {
         "hovertemplate": "variable=1<br>index=%{x}<br>value=%{y}<extra></extra>",
         "legendgroup": "1",
         "line": {
          "color": "#EF553B",
          "dash": "solid"
         },
         "mode": "lines",
         "name": "1",
         "orientation": "v",
         "showlegend": true,
         "type": "scatter",
         "x": [
          0,
          1,
          2,
          3,
          4,
          5,
          6,
          7,
          8,
          9,
          10,
          11,
          12,
          13,
          14,
          15,
          16,
          17,
          18,
          19,
          20,
          21,
          22,
          23,
          100,
          101,
          102,
          103,
          104,
          105,
          106,
          107,
          108,
          109,
          110,
          111,
          112,
          113,
          114,
          115,
          116,
          117,
          118,
          119,
          120,
          121,
          122,
          123,
          200,
          201,
          202,
          203,
          204,
          205,
          206,
          207,
          208,
          209,
          210,
          211,
          212,
          213,
          214,
          215,
          216,
          217,
          218,
          219,
          220,
          221,
          222,
          223,
          300,
          301,
          302,
          303,
          304,
          305,
          306,
          307,
          308,
          309,
          310,
          311,
          312,
          313,
          314,
          315,
          316,
          317,
          318,
          319,
          320,
          321,
          322,
          323,
          400,
          401,
          402,
          403,
          404,
          405,
          406,
          407,
          408,
          409,
          410,
          411,
          412,
          413,
          414,
          415,
          416,
          417,
          418,
          419,
          420,
          421,
          422,
          423,
          500,
          501,
          502,
          503,
          504,
          505,
          506,
          507,
          508,
          509,
          510,
          511,
          512,
          513,
          514,
          515,
          516,
          517,
          518,
          519,
          520,
          521,
          522,
          523,
          600,
          601,
          602,
          603,
          604,
          605,
          606,
          607,
          608,
          609,
          610,
          611,
          612,
          613,
          614,
          615,
          616,
          617,
          618,
          619,
          620,
          621,
          622,
          623
         ],
         "xaxis": "x",
         "y": [
          378.5138888888889,
          251.72395833333334,
          201.89236111111111,
          185.25520833333334,
          160.16840277777777,
          159.59027777777777,
          196.890625,
          634.8767361111111,
          3303.387152777778,
          9017.184027777777,
          11865.960069444445,
          12086.677083333334,
          9243.100694444445,
          11809.163194444445,
          11951.173611111111,
          11296.251736111111,
          11376.909722222223,
          10934.604166666666,
          7190.53125,
          3777.9166666666665,
          2261.9947916666665,
          1652.2309027777778,
          986.4982638888889,
          627.6684027777778,
          417.96527777777777,
          254.85763888888889,
          233.86631944444446,
          227.87326388888889,
          200.234375,
          220.60243055555554,
          274.9826388888889,
          672.203125,
          3589.7170138888887,
          9586.397569444445,
          11838.546875,
          11751.258680555555,
          8773.439236111111,
          11365.072916666666,
          11425.838541666666,
          11050.994791666666,
          11196.130208333334,
          10814.727430555555,
          7183.067708333333,
          3466.5138888888887,
          2223.7204861111113,
          1509.3541666666667,
          920.9583333333334,
          688.5173611111111,
          528.8177083333334,
          354.6076388888889,
          292.1302083333333,
          247.17361111111111,
          239.80729166666666,
          240.26388888888889,
          285.2864583333333,
          537.3854166666666,
          3317.4461805555557,
          9094.835069444445,
          10955.098958333334,
          11417.204861111111,
          8098.989583333333,
          10689.270833333334,
          10936.901041666666,
          10647.128472222223,
          10871.784722222223,
          10029.333333333334,
          6566.904513888889,
          3398.8385416666665,
          2197.8038194444443,
          1394.232638888889,
          1071.9184027777778,
          720.0642361111111,
          526.8836805555555,
          322.22743055555554,
          257.30555555555554,
          220.671875,
          177.5625,
          195.03645833333334,
          253.74479166666666,
          614.0868055555555,
          3527.8229166666665,
          9446.434027777777,
          12205,
          11984.243055555555,
          8489.809027777777,
          10951.958333333334,
          11308.470486111111,
          11185.989583333334,
          11414.532986111111,
          10771.637152777777,
          7270.128472222223,
          3584.315972222222,
          2298.5069444444443,
          1588.5190972222222,
          1034.25,
          745.171875,
          508.09027777777777,
          316.484375,
          233.90277777777777,
          184.63020833333334,
          174.64583333333334,
          188.91840277777777,
          265.78125,
          621.7065972222222,
          3355.2083333333335,
          9171.888888888889,
          11433.298611111111,
          11520.605902777777,
          8166.267361111111,
          10837.539930555555,
          11196.315972222223,
          10580.640625,
          10757.657986111111,
          9849.427083333334,
          6285.8125,
          3079.5208333333335,
          1958.8090277777778,
          1273.4270833333333,
          893.6979166666666,
          559.2309027777778,
          535.0607638888889,
          376.67534722222223,
          293.8072916666667,
          277.8020833333333,
          218.82118055555554,
          193.80555555555554,
          270.1892361111111,
          401.8385416666667,
          873.8628472222222,
          2292.7083333333335,
          3445.0364583333335,
          3861.5885416666665,
          3489.621527777778,
          3151.362847222222,
          3082.75,
          2802.8420138888887,
          2384.7395833333335,
          1772.3229166666667,
          1266.8802083333333,
          930.7430555555555,
          863.2013888888889,
          756.1631944444445,
          598.4409722222222,
          422.38194444444446,
          314.56944444444446,
          244.15451388888889,
          204.94965277777777,
          148.90277777777777,
          150.46875,
          151.73784722222223,
          211.26736111111111,
          277.27777777777777,
          437.2482638888889,
          635.7534722222222,
          924.9027777777778,
          1004.7934027777778,
          1183.4114583333333,
          1234.8541666666667,
          1379.1458333333333,
          1308.6770833333333,
          1261.9375,
          1128.7135416666667,
          922.0486111111111,
          800.8663194444445,
          881.7013888888889,
          758.9930555555555,
          661.7326388888889,
          535.3836805555555
         ],
         "yaxis": "y"
        },
        {
         "hovertemplate": "variable=2<br>index=%{x}<br>value=%{y}<extra></extra>",
         "legendgroup": "2",
         "line": {
          "color": "#00cc96",
          "dash": "solid"
         },
         "mode": "lines",
         "name": "2",
         "orientation": "v",
         "showlegend": true,
         "type": "scatter",
         "x": [
          0,
          1,
          2,
          3,
          4,
          5,
          6,
          7,
          8,
          9,
          10,
          11,
          12,
          13,
          14,
          15,
          16,
          17,
          18,
          19,
          20,
          21,
          22,
          23,
          100,
          101,
          102,
          103,
          104,
          105,
          106,
          107,
          108,
          109,
          110,
          111,
          112,
          113,
          114,
          115,
          116,
          117,
          118,
          119,
          120,
          121,
          122,
          123,
          200,
          201,
          202,
          203,
          204,
          205,
          206,
          207,
          208,
          209,
          210,
          211,
          212,
          213,
          214,
          215,
          216,
          217,
          218,
          219,
          220,
          221,
          222,
          223,
          300,
          301,
          302,
          303,
          304,
          305,
          306,
          307,
          308,
          309,
          310,
          311,
          312,
          313,
          314,
          315,
          316,
          317,
          318,
          319,
          320,
          321,
          322,
          323,
          400,
          401,
          402,
          403,
          404,
          405,
          406,
          407,
          408,
          409,
          410,
          411,
          412,
          413,
          414,
          415,
          416,
          417,
          418,
          419,
          420,
          421,
          422,
          423,
          500,
          501,
          502,
          503,
          504,
          505,
          506,
          507,
          508,
          509,
          510,
          511,
          512,
          513,
          514,
          515,
          516,
          517,
          518,
          519,
          520,
          521,
          522,
          523,
          600,
          601,
          602,
          603,
          604,
          605,
          606,
          607,
          608,
          609,
          610,
          611,
          612,
          613,
          614,
          615,
          616,
          617,
          618,
          619,
          620,
          621,
          622,
          623
         ],
         "xaxis": "x",
         "y": [
          1392.1227722772278,
          827.7432343234324,
          551.170297029703,
          358.6349834983498,
          253.1181518151815,
          240.6006600660066,
          361.2138613861386,
          548.1049504950495,
          1123.874587458746,
          2089.4732673267326,
          2564.3036303630365,
          2770.615181518152,
          2679.9643564356434,
          2757.261386138614,
          2704.308910891089,
          2806.749174917492,
          2854.908910891089,
          2863.3498349834986,
          2488.7689768976898,
          2191.959075907591,
          2002.7042904290429,
          2053.5557755775576,
          1982.122112211221,
          1730.7973597359735,
          1414.9953795379538,
          861.4613861386139,
          535.1135313531353,
          387.0924092409241,
          276.3425742574257,
          263.4092409240924,
          397.7095709570957,
          594.3881188118812,
          1176.390099009901,
          2152.1782178217823,
          2647.239603960396,
          2683.5511551155114,
          2539.1214521452143,
          2661.8475247524752,
          2643.3973597359736,
          2628.551815181518,
          2787.0719471947195,
          2809.4970297029704,
          2332.227722772277,
          2037.5306930693068,
          1915.5445544554455,
          2069.2310231023102,
          1936.8330033003301,
          1729.23300330033,
          1452.89900990099,
          928.7056105610561,
          520.5993399339934,
          385.8237623762376,
          301.6574257425743,
          292.7940594059406,
          353.4792079207921,
          600.4303630363037,
          1179.715511551155,
          2110.829702970297,
          2468.695709570957,
          2666.093729372937,
          2479.524092409241,
          2615.0620462046204,
          2590.7240924092407,
          2637.7300330033004,
          2802.1188118811883,
          2757.965676567657,
          2410.8653465346533,
          1978.4006600660066,
          1859.2079207920792,
          1995.2257425742575,
          1952.2356435643565,
          1637.7287128712871,
          1402.171617161716,
          877.3669966996699,
          523.6521452145214,
          369.639603960396,
          279.33927392739275,
          247.196699669967,
          341.15643564356435,
          629.2554455445545,
          1177.7346534653466,
          2194.5557755775576,
          2579.682508250825,
          2673.4046204620463,
          2445.319471947195,
          2601.1716171617163,
          2642.8924092409243,
          2683.492409240924,
          2811.0085808580857,
          2735.425082508251,
          2418.785478547855,
          1989.0805280528052,
          1925.1742574257426,
          1961.4151815181517,
          1884.885808580858,
          1642.160396039604,
          1294.3848184818482,
          849.0508250825083,
          524.6561056105611,
          366.25544554455445,
          273.46930693069305,
          285.5386138613861,
          385.53003300330033,
          638.2052805280528,
          1172.6442244224422,
          2096.80198019802,
          2478.8006600660065,
          2563.227722772277,
          2424.516831683168,
          2527.145214521452,
          2565.477887788779,
          2600.244884488449,
          2701.396699669967,
          2675.8983498349835,
          2282.646204620462,
          1844.46798679868,
          1670.968316831683,
          1622.4422442244224,
          1637.6369636963695,
          1383.656105610561,
          1121.8079207920791,
          772.3524752475248,
          485.8871287128713,
          358.4277227722772,
          280.5808580858086,
          265.9458745874587,
          315.55775577557756,
          521.9346534653465,
          789.4937293729373,
          1250.5042904290428,
          1588.4,
          1741.7221122112212,
          1664.0508250825083,
          1596.7148514851485,
          1625.4171617161717,
          1491.8844884488449,
          1548.1155115511551,
          1349.8653465346536,
          1143.282508250825,
          1101.196699669967,
          1217.5075907590758,
          1354.6475247524752,
          1353.6158415841585,
          1175.5346534653465,
          1073.5399339933992,
          747.4950495049505,
          472.49438943894387,
          346.21518151815184,
          269.1821782178218,
          224.2917491749175,
          276.77557755775575,
          404.9815181518152,
          589.8336633663366,
          779.3300330033003,
          958.0534653465346,
          1086.3465346534654,
          1151.1207920792078,
          1214.6019801980199,
          1224.360396039604,
          1282.2224422442243,
          1327.5940594059407,
          1283.102310231023,
          1090.23300330033,
          1230.724092409241,
          1459.2085808580857,
          1525.76501650165,
          1452.3650165016502,
          1411.1029702970297
         ],
         "yaxis": "y"
        },
        {
         "hovertemplate": "variable=3<br>index=%{x}<br>value=%{y}<extra></extra>",
         "legendgroup": "3",
         "line": {
          "color": "#ab63fa",
          "dash": "solid"
         },
         "mode": "lines",
         "name": "3",
         "orientation": "v",
         "showlegend": true,
         "type": "scatter",
         "x": [
          0,
          1,
          2,
          3,
          4,
          5,
          6,
          7,
          8,
          9,
          10,
          11,
          12,
          13,
          14,
          15,
          16,
          17,
          18,
          19,
          20,
          21,
          22,
          23,
          100,
          101,
          102,
          103,
          104,
          105,
          106,
          107,
          108,
          109,
          110,
          111,
          112,
          113,
          114,
          115,
          116,
          117,
          118,
          119,
          120,
          121,
          122,
          123,
          200,
          201,
          202,
          203,
          204,
          205,
          206,
          207,
          208,
          209,
          210,
          211,
          212,
          213,
          214,
          215,
          216,
          217,
          218,
          219,
          220,
          221,
          222,
          223,
          300,
          301,
          302,
          303,
          304,
          305,
          306,
          307,
          308,
          309,
          310,
          311,
          312,
          313,
          314,
          315,
          316,
          317,
          318,
          319,
          320,
          321,
          322,
          323,
          400,
          401,
          402,
          403,
          404,
          405,
          406,
          407,
          408,
          409,
          410,
          411,
          412,
          413,
          414,
          415,
          416,
          417,
          418,
          419,
          420,
          421,
          422,
          423,
          500,
          501,
          502,
          503,
          504,
          505,
          506,
          507,
          508,
          509,
          510,
          511,
          512,
          513,
          514,
          515,
          516,
          517,
          518,
          519,
          520,
          521,
          522,
          523,
          600,
          601,
          602,
          603,
          604,
          605,
          606,
          607,
          608,
          609,
          610,
          611,
          612,
          613,
          614,
          615,
          616,
          617,
          618,
          619,
          620,
          621,
          622,
          623
         ],
         "xaxis": "x",
         "y": [
          1226.848275862069,
          843.255172413793,
          715.6551724137931,
          523.1172413793104,
          447.19310344827585,
          394.8,
          465.13793103448273,
          1176.7931034482758,
          8354.689655172413,
          23568.97931034483,
          28174.78620689655,
          26549.868965517242,
          18874.068965517243,
          24388.972413793104,
          24894.68275862069,
          24806.834482758622,
          24525.689655172413,
          22582.262068965516,
          14478.924137931035,
          6554.475862068965,
          3418.7655172413793,
          2067.2413793103447,
          1394.751724137931,
          880.2275862068966,
          1022.1793103448276,
          916.9172413793103,
          688.351724137931,
          649.7310344827587,
          670.7931034482758,
          672.0206896551724,
          678.1655172413793,
          1780.1379310344828,
          8675.88275862069,
          23885.78620689655,
          27177.924137931033,
          25491.64827586207,
          17666.344827586207,
          22847.255172413792,
          24208.38620689655,
          23766.255172413792,
          24150.324137931035,
          21818.834482758622,
          13998.620689655172,
          6215.772413793104,
          3077.862068965517,
          2028,
          1641.8620689655172,
          1235.0827586206897,
          1324.9241379310345,
          1036.489655172414,
          833.0896551724138,
          758.1310344827587,
          652.0551724137931,
          631.2827586206896,
          662.0827586206897,
          1573.489655172414,
          8658.972413793104,
          24454.137931034482,
          26442.489655172412,
          25018.696551724137,
          17100.91724137931,
          22689.11724137931,
          23179.972413793104,
          23383.41379310345,
          23157.951724137933,
          22069.503448275864,
          13117.620689655172,
          5293.551724137931,
          2591.5310344827585,
          1836.6689655172413,
          1540.3862068965518,
          1097.7793103448275,
          1176.2206896551725,
          954.4620689655172,
          768.0344827586207,
          755.0206896551724,
          670.9793103448276,
          701.9448275862069,
          741.4827586206897,
          1644.9586206896552,
          9183.406896551724,
          24660.662068965517,
          27218.43448275862,
          26204.15172413793,
          17330.675862068965,
          23512.510344827588,
          24402.84827586207,
          24164.66896551724,
          23664.144827586206,
          22657.427586206897,
          13907.862068965518,
          6055.662068965517,
          3229.6620689655174,
          2262.1655172413793,
          1650.8896551724138,
          1227.151724137931,
          968.4344827586207,
          902.9655172413793,
          785.2620689655172,
          811.048275862069,
          703.7310344827587,
          745.4206896551724,
          593.2758620689655,
          1522.0758620689655,
          8183.172413793103,
          24736.06206896552,
          26375.744827586208,
          24717.262068965516,
          16725.73103448276,
          22906.958620689657,
          23542.951724137933,
          22652.724137931036,
          22146.875862068966,
          20788.041379310343,
          12201.255172413794,
          4619.76551724138,
          2582.462068965517,
          1517.6896551724137,
          1024.9172413793103,
          766.3241379310344,
          942.4344827586207,
          970.3793103448276,
          810.2413793103449,
          815.9793103448276,
          719.951724137931,
          596.303448275862,
          649.8827586206896,
          768.903448275862,
          2051.503448275862,
          4604.268965517242,
          5203.068965517241,
          4823.193103448276,
          3728.151724137931,
          3576.344827586207,
          3226.5862068965516,
          2924.344827586207,
          2502.3241379310343,
          2375.193103448276,
          1680.0689655172414,
          1404.606896551724,
          1290.6413793103447,
          1178.2275862068966,
          1062.848275862069,
          764.2689655172413,
          843.7172413793104,
          755.7172413793104,
          790.4275862068965,
          820.5655172413793,
          777.8551724137931,
          646.9793103448276,
          522.9931034482759,
          544.5448275862069,
          687.9862068965517,
          973.9310344827586,
          1227.4689655172415,
          1196.751724137931,
          1506.3586206896553,
          1873.5310344827585,
          1868.9862068965517,
          2107.8551724137933,
          2122.793103448276,
          1975.0896551724138,
          1676,
          1361.096551724138,
          1196.7172413793103,
          1137.496551724138,
          1144.9172413793103,
          1013.5379310344828
         ],
         "yaxis": "y"
        }
       ],
       "layout": {
        "autosize": true,
        "legend": {
         "title": {
          "text": "variable"
         },
         "tracegroupgap": 0
        },
        "margin": {
         "t": 60
        },
        "template": {
         "data": {
          "bar": [
           {
            "error_x": {
             "color": "#2a3f5f"
            },
            "error_y": {
             "color": "#2a3f5f"
            },
            "marker": {
             "line": {
              "color": "#E5ECF6",
              "width": 0.5
             }
            },
            "type": "bar"
           }
          ],
          "barpolar": [
           {
            "marker": {
             "line": {
              "color": "#E5ECF6",
              "width": 0.5
             }
            },
            "type": "barpolar"
           }
          ],
          "carpet": [
           {
            "aaxis": {
             "endlinecolor": "#2a3f5f",
             "gridcolor": "white",
             "linecolor": "white",
             "minorgridcolor": "white",
             "startlinecolor": "#2a3f5f"
            },
            "baxis": {
             "endlinecolor": "#2a3f5f",
             "gridcolor": "white",
             "linecolor": "white",
             "minorgridcolor": "white",
             "startlinecolor": "#2a3f5f"
            },
            "type": "carpet"
           }
          ],
          "choropleth": [
           {
            "colorbar": {
             "outlinewidth": 0,
             "ticks": ""
            },
            "type": "choropleth"
           }
          ],
          "contour": [
           {
            "colorbar": {
             "outlinewidth": 0,
             "ticks": ""
            },
            "colorscale": [
             [
              0,
              "#0d0887"
             ],
             [
              0.1111111111111111,
              "#46039f"
             ],
             [
              0.2222222222222222,
              "#7201a8"
             ],
             [
              0.3333333333333333,
              "#9c179e"
             ],
             [
              0.4444444444444444,
              "#bd3786"
             ],
             [
              0.5555555555555556,
              "#d8576b"
             ],
             [
              0.6666666666666666,
              "#ed7953"
             ],
             [
              0.7777777777777778,
              "#fb9f3a"
             ],
             [
              0.8888888888888888,
              "#fdca26"
             ],
             [
              1,
              "#f0f921"
             ]
            ],
            "type": "contour"
           }
          ],
          "contourcarpet": [
           {
            "colorbar": {
             "outlinewidth": 0,
             "ticks": ""
            },
            "type": "contourcarpet"
           }
          ],
          "heatmap": [
           {
            "colorbar": {
             "outlinewidth": 0,
             "ticks": ""
            },
            "colorscale": [
             [
              0,
              "#0d0887"
             ],
             [
              0.1111111111111111,
              "#46039f"
             ],
             [
              0.2222222222222222,
              "#7201a8"
             ],
             [
              0.3333333333333333,
              "#9c179e"
             ],
             [
              0.4444444444444444,
              "#bd3786"
             ],
             [
              0.5555555555555556,
              "#d8576b"
             ],
             [
              0.6666666666666666,
              "#ed7953"
             ],
             [
              0.7777777777777778,
              "#fb9f3a"
             ],
             [
              0.8888888888888888,
              "#fdca26"
             ],
             [
              1,
              "#f0f921"
             ]
            ],
            "type": "heatmap"
           }
          ],
          "heatmapgl": [
           {
            "colorbar": {
             "outlinewidth": 0,
             "ticks": ""
            },
            "colorscale": [
             [
              0,
              "#0d0887"
             ],
             [
              0.1111111111111111,
              "#46039f"
             ],
             [
              0.2222222222222222,
              "#7201a8"
             ],
             [
              0.3333333333333333,
              "#9c179e"
             ],
             [
              0.4444444444444444,
              "#bd3786"
             ],
             [
              0.5555555555555556,
              "#d8576b"
             ],
             [
              0.6666666666666666,
              "#ed7953"
             ],
             [
              0.7777777777777778,
              "#fb9f3a"
             ],
             [
              0.8888888888888888,
              "#fdca26"
             ],
             [
              1,
              "#f0f921"
             ]
            ],
            "type": "heatmapgl"
           }
          ],
          "histogram": [
           {
            "marker": {
             "colorbar": {
              "outlinewidth": 0,
              "ticks": ""
             }
            },
            "type": "histogram"
           }
          ],
          "histogram2d": [
           {
            "colorbar": {
             "outlinewidth": 0,
             "ticks": ""
            },
            "colorscale": [
             [
              0,
              "#0d0887"
             ],
             [
              0.1111111111111111,
              "#46039f"
             ],
             [
              0.2222222222222222,
              "#7201a8"
             ],
             [
              0.3333333333333333,
              "#9c179e"
             ],
             [
              0.4444444444444444,
              "#bd3786"
             ],
             [
              0.5555555555555556,
              "#d8576b"
             ],
             [
              0.6666666666666666,
              "#ed7953"
             ],
             [
              0.7777777777777778,
              "#fb9f3a"
             ],
             [
              0.8888888888888888,
              "#fdca26"
             ],
             [
              1,
              "#f0f921"
             ]
            ],
            "type": "histogram2d"
           }
          ],
          "histogram2dcontour": [
           {
            "colorbar": {
             "outlinewidth": 0,
             "ticks": ""
            },
            "colorscale": [
             [
              0,
              "#0d0887"
             ],
             [
              0.1111111111111111,
              "#46039f"
             ],
             [
              0.2222222222222222,
              "#7201a8"
             ],
             [
              0.3333333333333333,
              "#9c179e"
             ],
             [
              0.4444444444444444,
              "#bd3786"
             ],
             [
              0.5555555555555556,
              "#d8576b"
             ],
             [
              0.6666666666666666,
              "#ed7953"
             ],
             [
              0.7777777777777778,
              "#fb9f3a"
             ],
             [
              0.8888888888888888,
              "#fdca26"
             ],
             [
              1,
              "#f0f921"
             ]
            ],
            "type": "histogram2dcontour"
           }
          ],
          "mesh3d": [
           {
            "colorbar": {
             "outlinewidth": 0,
             "ticks": ""
            },
            "type": "mesh3d"
           }
          ],
          "parcoords": [
           {
            "line": {
             "colorbar": {
              "outlinewidth": 0,
              "ticks": ""
             }
            },
            "type": "parcoords"
           }
          ],
          "pie": [
           {
            "automargin": true,
            "type": "pie"
           }
          ],
          "scatter": [
           {
            "marker": {
             "colorbar": {
              "outlinewidth": 0,
              "ticks": ""
             }
            },
            "type": "scatter"
           }
          ],
          "scatter3d": [
           {
            "line": {
             "colorbar": {
              "outlinewidth": 0,
              "ticks": ""
             }
            },
            "marker": {
             "colorbar": {
              "outlinewidth": 0,
              "ticks": ""
             }
            },
            "type": "scatter3d"
           }
          ],
          "scattercarpet": [
           {
            "marker": {
             "colorbar": {
              "outlinewidth": 0,
              "ticks": ""
             }
            },
            "type": "scattercarpet"
           }
          ],
          "scattergeo": [
           {
            "marker": {
             "colorbar": {
              "outlinewidth": 0,
              "ticks": ""
             }
            },
            "type": "scattergeo"
           }
          ],
          "scattergl": [
           {
            "marker": {
             "colorbar": {
              "outlinewidth": 0,
              "ticks": ""
             }
            },
            "type": "scattergl"
           }
          ],
          "scattermapbox": [
           {
            "marker": {
             "colorbar": {
              "outlinewidth": 0,
              "ticks": ""
             }
            },
            "type": "scattermapbox"
           }
          ],
          "scatterpolar": [
           {
            "marker": {
             "colorbar": {
              "outlinewidth": 0,
              "ticks": ""
             }
            },
            "type": "scatterpolar"
           }
          ],
          "scatterpolargl": [
           {
            "marker": {
             "colorbar": {
              "outlinewidth": 0,
              "ticks": ""
             }
            },
            "type": "scatterpolargl"
           }
          ],
          "scatterternary": [
           {
            "marker": {
             "colorbar": {
              "outlinewidth": 0,
              "ticks": ""
             }
            },
            "type": "scatterternary"
           }
          ],
          "surface": [
           {
            "colorbar": {
             "outlinewidth": 0,
             "ticks": ""
            },
            "colorscale": [
             [
              0,
              "#0d0887"
             ],
             [
              0.1111111111111111,
              "#46039f"
             ],
             [
              0.2222222222222222,
              "#7201a8"
             ],
             [
              0.3333333333333333,
              "#9c179e"
             ],
             [
              0.4444444444444444,
              "#bd3786"
             ],
             [
              0.5555555555555556,
              "#d8576b"
             ],
             [
              0.6666666666666666,
              "#ed7953"
             ],
             [
              0.7777777777777778,
              "#fb9f3a"
             ],
             [
              0.8888888888888888,
              "#fdca26"
             ],
             [
              1,
              "#f0f921"
             ]
            ],
            "type": "surface"
           }
          ],
          "table": [
           {
            "cells": {
             "fill": {
              "color": "#EBF0F8"
             },
             "line": {
              "color": "white"
             }
            },
            "header": {
             "fill": {
              "color": "#C8D4E3"
             },
             "line": {
              "color": "white"
             }
            },
            "type": "table"
           }
          ]
         },
         "layout": {
          "annotationdefaults": {
           "arrowcolor": "#2a3f5f",
           "arrowhead": 0,
           "arrowwidth": 1
          },
          "coloraxis": {
           "colorbar": {
            "outlinewidth": 0,
            "ticks": ""
           }
          },
          "colorscale": {
           "diverging": [
            [
             0,
             "#8e0152"
            ],
            [
             0.1,
             "#c51b7d"
            ],
            [
             0.2,
             "#de77ae"
            ],
            [
             0.3,
             "#f1b6da"
            ],
            [
             0.4,
             "#fde0ef"
            ],
            [
             0.5,
             "#f7f7f7"
            ],
            [
             0.6,
             "#e6f5d0"
            ],
            [
             0.7,
             "#b8e186"
            ],
            [
             0.8,
             "#7fbc41"
            ],
            [
             0.9,
             "#4d9221"
            ],
            [
             1,
             "#276419"
            ]
           ],
           "sequential": [
            [
             0,
             "#0d0887"
            ],
            [
             0.1111111111111111,
             "#46039f"
            ],
            [
             0.2222222222222222,
             "#7201a8"
            ],
            [
             0.3333333333333333,
             "#9c179e"
            ],
            [
             0.4444444444444444,
             "#bd3786"
            ],
            [
             0.5555555555555556,
             "#d8576b"
            ],
            [
             0.6666666666666666,
             "#ed7953"
            ],
            [
             0.7777777777777778,
             "#fb9f3a"
            ],
            [
             0.8888888888888888,
             "#fdca26"
            ],
            [
             1,
             "#f0f921"
            ]
           ],
           "sequentialminus": [
            [
             0,
             "#0d0887"
            ],
            [
             0.1111111111111111,
             "#46039f"
            ],
            [
             0.2222222222222222,
             "#7201a8"
            ],
            [
             0.3333333333333333,
             "#9c179e"
            ],
            [
             0.4444444444444444,
             "#bd3786"
            ],
            [
             0.5555555555555556,
             "#d8576b"
            ],
            [
             0.6666666666666666,
             "#ed7953"
            ],
            [
             0.7777777777777778,
             "#fb9f3a"
            ],
            [
             0.8888888888888888,
             "#fdca26"
            ],
            [
             1,
             "#f0f921"
            ]
           ]
          },
          "colorway": [
           "#636efa",
           "#EF553B",
           "#00cc96",
           "#ab63fa",
           "#FFA15A",
           "#19d3f3",
           "#FF6692",
           "#B6E880",
           "#FF97FF",
           "#FECB52"
          ],
          "font": {
           "color": "#2a3f5f"
          },
          "geo": {
           "bgcolor": "white",
           "lakecolor": "white",
           "landcolor": "#E5ECF6",
           "showlakes": true,
           "showland": true,
           "subunitcolor": "white"
          },
          "hoverlabel": {
           "align": "left"
          },
          "hovermode": "closest",
          "mapbox": {
           "style": "light"
          },
          "paper_bgcolor": "white",
          "plot_bgcolor": "#E5ECF6",
          "polar": {
           "angularaxis": {
            "gridcolor": "white",
            "linecolor": "white",
            "ticks": ""
           },
           "bgcolor": "#E5ECF6",
           "radialaxis": {
            "gridcolor": "white",
            "linecolor": "white",
            "ticks": ""
           }
          },
          "scene": {
           "xaxis": {
            "backgroundcolor": "#E5ECF6",
            "gridcolor": "white",
            "gridwidth": 2,
            "linecolor": "white",
            "showbackground": true,
            "ticks": "",
            "zerolinecolor": "white"
           },
           "yaxis": {
            "backgroundcolor": "#E5ECF6",
            "gridcolor": "white",
            "gridwidth": 2,
            "linecolor": "white",
            "showbackground": true,
            "ticks": "",
            "zerolinecolor": "white"
           },
           "zaxis": {
            "backgroundcolor": "#E5ECF6",
            "gridcolor": "white",
            "gridwidth": 2,
            "linecolor": "white",
            "showbackground": true,
            "ticks": "",
            "zerolinecolor": "white"
           }
          },
          "shapedefaults": {
           "line": {
            "color": "#2a3f5f"
           }
          },
          "ternary": {
           "aaxis": {
            "gridcolor": "white",
            "linecolor": "white",
            "ticks": ""
           },
           "baxis": {
            "gridcolor": "white",
            "linecolor": "white",
            "ticks": ""
           },
           "bgcolor": "#E5ECF6",
           "caxis": {
            "gridcolor": "white",
            "linecolor": "white",
            "ticks": ""
           }
          },
          "title": {
           "x": 0.05
          },
          "xaxis": {
           "automargin": true,
           "gridcolor": "white",
           "linecolor": "white",
           "ticks": "",
           "title": {
            "standoff": 15
           },
           "zerolinecolor": "white",
           "zerolinewidth": 2
          },
          "yaxis": {
           "automargin": true,
           "gridcolor": "white",
           "linecolor": "white",
           "ticks": "",
           "title": {
            "standoff": 15
           },
           "zerolinecolor": "white",
           "zerolinewidth": 2
          }
         }
        },
        "xaxis": {
         "anchor": "y",
         "autorange": true,
         "domain": [
          0,
          1
         ],
         "range": [
          0,
          623
         ],
         "title": {
          "text": "index"
         },
         "type": "linear"
        },
        "yaxis": {
         "anchor": "x",
         "autorange": true,
         "domain": [
          0,
          1
         ],
         "range": [
          -1408.090746062154,
          29731.77973073648
         ],
         "title": {
          "text": "value"
         },
         "type": "linear"
        }
       }
      },
      "image/png": "[encoded data removed]",
      "text/html": [
       "<div>                            <div id=\"d759e92d-76a8-4427-afe6-0116093a7969\" class=\"plotly-graph-div\" style=\"height:525px; width:100%;\"></div>            <script type=\"text/javascript\">                require([\"plotly\"], function(Plotly) {                    window.PLOTLYENV=window.PLOTLYENV || {};                                    if (document.getElementById(\"d759e92d-76a8-4427-afe6-0116093a7969\")) {                    Plotly.newPlot(                        \"d759e92d-76a8-4427-afe6-0116093a7969\",                        [{\"hovertemplate\": \"variable=0<br>index=%{x}<br>value=%{y}<extra></extra>\", \"legendgroup\": \"0\", \"line\": {\"color\": \"#636efa\", \"dash\": \"solid\"}, \"mode\": \"lines\", \"name\": \"0\", \"orientation\": \"v\", \"showlegend\": true, \"type\": \"scatter\", \"x\": [0, 1, 2, 3, 4, 5, 6, 7, 8, 9, 10, 11, 12, 13, 14, 15, 16, 17, 18, 19, 20, 21, 22, 23, 100, 101, 102, 103, 104, 105, 106, 107, 108, 109, 110, 111, 112, 113, 114, 115, 116, 117, 118, 119, 120, 121, 122, 123, 200, 201, 202, 203, 204, 205, 206, 207, 208, 209, 210, 211, 212, 213, 214, 215, 216, 217, 218, 219, 220, 221, 222, 223, 300, 301, 302, 303, 304, 305, 306, 307, 308, 309, 310, 311, 312, 313, 314, 315, 316, 317, 318, 319, 320, 321, 322, 323, 400, 401, 402, 403, 404, 405, 406, 407, 408, 409, 410, 411, 412, 413, 414, 415, 416, 417, 418, 419, 420, 421, 422, 423, 500, 501, 502, 503, 504, 505, 506, 507, 508, 509, 510, 511, 512, 513, 514, 515, 516, 517, 518, 519, 520, 521, 522, 523, 600, 601, 602, 603, 604, 605, 606, 607, 608, 609, 610, 611, 612, 613, 614, 615, 616, 617, 618, 619, 620, 621, 622, 623], \"xaxis\": \"x\", \"y\": [8600.765151515152, 5767.075757575758, 3403.8295454545455, 1816.4886363636363, 1078.159090909091, 764.4280303030303, 870.314393939394, 1234.6780303030303, 1835.753787878788, 2775.844696969697, 2999.587121212121, 3520.0454545454545, 3673.787878787879, 3551.4204545454545, 3893.0492424242425, 4223.204545454545, 4781.541666666667, 4669.992424242424, 4768.397727272727, 5802.265151515152, 7847.503787878788, 10226.844696969696, 11627.151515151516, 10433.375, 9249.689393939394, 5703.727272727273, 3238.060606060606, 1958.409090909091, 1102.875, 786.9469696969697, 973.2121212121212, 1402.753787878788, 2175.7613636363635, 2887.056818181818, 3254.1969696969695, 3458.7613636363635, 3459.128787878788, 3242.503787878788, 3403.253787878788, 3937.556818181818, 4358.469696969697, 4837.583333333333, 4927.973484848485, 6110.962121212121, 7932.761363636364, 10126.522727272728, 11359.602272727272, 10623.378787878788, 9085.55303030303, 5576.617424242424, 3120.8560606060605, 1815.3484848484848, 1161.534090909091, 811.6212121212121, 908.8825757575758, 1280.5984848484848, 1884.6818181818182, 2819.8257575757575, 3275.8219696969695, 3659.284090909091, 3290.2083333333335, 3246.7992424242425, 3555.935606060606, 3919.8295454545455, 4195.416666666667, 4552.25, 4931.393939393939, 5441.435606060606, 7406.189393939394, 9764.208333333334, 11545.575757575758, 11025.09090909091, 9126.98106060606, 5838.007575757576, 3338.117424242424, 1872.3257575757575, 1166.7348484848485, 867.7386363636364, 996.9280303030303, 1292.003787878788, 2151.3219696969695, 2980.1742424242425, 3281.094696969697, 3781.412878787879, 3390.7348484848485, 3332.5416666666665, 3602.128787878788, 3694.037878787879, 4054.9583333333335, 4481.424242424242, 4825.136363636364, 5461.390151515152, 7610.378787878788, 10138.109848484848, 11245.109848484848, 10628.515151515152, 9112.84090909091, 5661.905303030303, 3232.530303030303, 1893.246212121212, 1303.1780303030303, 945.689393939394, 1098.878787878788, 1429.4469696969697, 2019.9469696969697, 2820.4886363636365, 3074.530303030303, 3255.8863636363635, 3157.5833333333335, 3029.068181818182, 3168.5492424242425, 3656.280303030303, 3944.9583333333335, 4550.905303030303, 4671.136363636364, 5205.598484848485, 6750.556818181818, 8472.825757575758, 9965.17803030303, 8740.564393939394, 7936.079545454545, 5222.253787878788, 3130.2348484848485, 1868.0795454545455, 1130.814393939394, 820.6174242424242, 829.8219696969697, 1213.314393939394, 1834.3939393939395, 2470.6060606060605, 3040.939393939394, 3560.8295454545455, 3918.503787878788, 3602.246212121212, 3805.5189393939395, 3892.6060606060605, 4182.295454545455, 4150.325757575758, 4166.829545454545, 4452.992424242424, 5675.242424242424, 7185.32196969697, 7617.454545454545, 7571.007575757576, 6626.632575757576, 4302.924242424242, 2854.412878787879, 1765.564393939394, 1278.0151515151515, 908.5416666666666, 810.719696969697, 1151.3219696969697, 1509.9469696969697, 2031.9848484848485, 2749.537878787879, 3323.094696969697, 3463.257575757576, 3696.5, 4148.594696969697, 4418.666666666667, 4450.185606060606, 4250.378787878788, 4404.712121212121, 4932.954545454545, 6945.780303030303, 8548.5, 8622.128787878788, 8408.325757575758], \"yaxis\": \"y\"}, {\"hovertemplate\": \"variable=1<br>index=%{x}<br>value=%{y}<extra></extra>\", \"legendgroup\": \"1\", \"line\": {\"color\": \"#EF553B\", \"dash\": \"solid\"}, \"mode\": \"lines\", \"name\": \"1\", \"orientation\": \"v\", \"showlegend\": true, \"type\": \"scatter\", \"x\": [0, 1, 2, 3, 4, 5, 6, 7, 8, 9, 10, 11, 12, 13, 14, 15, 16, 17, 18, 19, 20, 21, 22, 23, 100, 101, 102, 103, 104, 105, 106, 107, 108, 109, 110, 111, 112, 113, 114, 115, 116, 117, 118, 119, 120, 121, 122, 123, 200, 201, 202, 203, 204, 205, 206, 207, 208, 209, 210, 211, 212, 213, 214, 215, 216, 217, 218, 219, 220, 221, 222, 223, 300, 301, 302, 303, 304, 305, 306, 307, 308, 309, 310, 311, 312, 313, 314, 315, 316, 317, 318, 319, 320, 321, 322, 323, 400, 401, 402, 403, 404, 405, 406, 407, 408, 409, 410, 411, 412, 413, 414, 415, 416, 417, 418, 419, 420, 421, 422, 423, 500, 501, 502, 503, 504, 505, 506, 507, 508, 509, 510, 511, 512, 513, 514, 515, 516, 517, 518, 519, 520, 521, 522, 523, 600, 601, 602, 603, 604, 605, 606, 607, 608, 609, 610, 611, 612, 613, 614, 615, 616, 617, 618, 619, 620, 621, 622, 623], \"xaxis\": \"x\", \"y\": [378.5138888888889, 251.72395833333334, 201.89236111111111, 185.25520833333334, 160.16840277777777, 159.59027777777777, 196.890625, 634.8767361111111, 3303.387152777778, 9017.184027777777, 11865.960069444445, 12086.677083333334, 9243.100694444445, 11809.163194444445, 11951.173611111111, 11296.251736111111, 11376.909722222223, 10934.604166666666, 7190.53125, 3777.9166666666665, 2261.9947916666665, 1652.2309027777778, 986.4982638888889, 627.6684027777778, 417.96527777777777, 254.85763888888889, 233.86631944444446, 227.87326388888889, 200.234375, 220.60243055555554, 274.9826388888889, 672.203125, 3589.7170138888887, 9586.397569444445, 11838.546875, 11751.258680555555, 8773.439236111111, 11365.072916666666, 11425.838541666666, 11050.994791666666, 11196.130208333334, 10814.727430555555, 7183.067708333333, 3466.5138888888887, 2223.7204861111113, 1509.3541666666667, 920.9583333333334, 688.5173611111111, 528.8177083333334, 354.6076388888889, 292.1302083333333, 247.17361111111111, 239.80729166666666, 240.26388888888889, 285.2864583333333, 537.3854166666666, 3317.4461805555557, 9094.835069444445, 10955.098958333334, 11417.204861111111, 8098.989583333333, 10689.270833333334, 10936.901041666666, 10647.128472222223, 10871.784722222223, 10029.333333333334, 6566.904513888889, 3398.8385416666665, 2197.8038194444443, 1394.232638888889, 1071.9184027777778, 720.0642361111111, 526.8836805555555, 322.22743055555554, 257.30555555555554, 220.671875, 177.5625, 195.03645833333334, 253.74479166666666, 614.0868055555555, 3527.8229166666665, 9446.434027777777, 12205.0, 11984.243055555555, 8489.809027777777, 10951.958333333334, 11308.470486111111, 11185.989583333334, 11414.532986111111, 10771.637152777777, 7270.128472222223, 3584.315972222222, 2298.5069444444443, 1588.5190972222222, 1034.25, 745.171875, 508.09027777777777, 316.484375, 233.90277777777777, 184.63020833333334, 174.64583333333334, 188.91840277777777, 265.78125, 621.7065972222222, 3355.2083333333335, 9171.888888888889, 11433.298611111111, 11520.605902777777, 8166.267361111111, 10837.539930555555, 11196.315972222223, 10580.640625, 10757.657986111111, 9849.427083333334, 6285.8125, 3079.5208333333335, 1958.8090277777778, 1273.4270833333333, 893.6979166666666, 559.2309027777778, 535.0607638888889, 376.67534722222223, 293.8072916666667, 277.8020833333333, 218.82118055555554, 193.80555555555554, 270.1892361111111, 401.8385416666667, 873.8628472222222, 2292.7083333333335, 3445.0364583333335, 3861.5885416666665, 3489.621527777778, 3151.362847222222, 3082.75, 2802.8420138888887, 2384.7395833333335, 1772.3229166666667, 1266.8802083333333, 930.7430555555555, 863.2013888888889, 756.1631944444445, 598.4409722222222, 422.38194444444446, 314.56944444444446, 244.15451388888889, 204.94965277777777, 148.90277777777777, 150.46875, 151.73784722222223, 211.26736111111111, 277.27777777777777, 437.2482638888889, 635.7534722222222, 924.9027777777778, 1004.7934027777778, 1183.4114583333333, 1234.8541666666667, 1379.1458333333333, 1308.6770833333333, 1261.9375, 1128.7135416666667, 922.0486111111111, 800.8663194444445, 881.7013888888889, 758.9930555555555, 661.7326388888889, 535.3836805555555], \"yaxis\": \"y\"}, {\"hovertemplate\": \"variable=2<br>index=%{x}<br>value=%{y}<extra></extra>\", \"legendgroup\": \"2\", \"line\": {\"color\": \"#00cc96\", \"dash\": \"solid\"}, \"mode\": \"lines\", \"name\": \"2\", \"orientation\": \"v\", \"showlegend\": true, \"type\": \"scatter\", \"x\": [0, 1, 2, 3, 4, 5, 6, 7, 8, 9, 10, 11, 12, 13, 14, 15, 16, 17, 18, 19, 20, 21, 22, 23, 100, 101, 102, 103, 104, 105, 106, 107, 108, 109, 110, 111, 112, 113, 114, 115, 116, 117, 118, 119, 120, 121, 122, 123, 200, 201, 202, 203, 204, 205, 206, 207, 208, 209, 210, 211, 212, 213, 214, 215, 216, 217, 218, 219, 220, 221, 222, 223, 300, 301, 302, 303, 304, 305, 306, 307, 308, 309, 310, 311, 312, 313, 314, 315, 316, 317, 318, 319, 320, 321, 322, 323, 400, 401, 402, 403, 404, 405, 406, 407, 408, 409, 410, 411, 412, 413, 414, 415, 416, 417, 418, 419, 420, 421, 422, 423, 500, 501, 502, 503, 504, 505, 506, 507, 508, 509, 510, 511, 512, 513, 514, 515, 516, 517, 518, 519, 520, 521, 522, 523, 600, 601, 602, 603, 604, 605, 606, 607, 608, 609, 610, 611, 612, 613, 614, 615, 616, 617, 618, 619, 620, 621, 622, 623], \"xaxis\": \"x\", \"y\": [1392.1227722772278, 827.7432343234324, 551.170297029703, 358.6349834983498, 253.1181518151815, 240.6006600660066, 361.2138613861386, 548.1049504950495, 1123.874587458746, 2089.4732673267326, 2564.3036303630365, 2770.615181518152, 2679.9643564356434, 2757.261386138614, 2704.308910891089, 2806.749174917492, 2854.908910891089, 2863.3498349834986, 2488.7689768976898, 2191.959075907591, 2002.7042904290429, 2053.5557755775576, 1982.122112211221, 1730.7973597359735, 1414.9953795379538, 861.4613861386139, 535.1135313531353, 387.0924092409241, 276.3425742574257, 263.4092409240924, 397.7095709570957, 594.3881188118812, 1176.390099009901, 2152.1782178217823, 2647.239603960396, 2683.5511551155114, 2539.1214521452143, 2661.8475247524752, 2643.3973597359736, 2628.551815181518, 2787.0719471947195, 2809.4970297029704, 2332.227722772277, 2037.5306930693068, 1915.5445544554455, 2069.2310231023102, 1936.8330033003301, 1729.23300330033, 1452.89900990099, 928.7056105610561, 520.5993399339934, 385.8237623762376, 301.6574257425743, 292.7940594059406, 353.4792079207921, 600.4303630363037, 1179.715511551155, 2110.829702970297, 2468.695709570957, 2666.093729372937, 2479.524092409241, 2615.0620462046204, 2590.7240924092407, 2637.7300330033004, 2802.1188118811883, 2757.965676567657, 2410.8653465346533, 1978.4006600660066, 1859.2079207920792, 1995.2257425742575, 1952.2356435643565, 1637.7287128712871, 1402.171617161716, 877.3669966996699, 523.6521452145214, 369.639603960396, 279.33927392739275, 247.196699669967, 341.15643564356435, 629.2554455445545, 1177.7346534653466, 2194.5557755775576, 2579.682508250825, 2673.4046204620463, 2445.319471947195, 2601.1716171617163, 2642.8924092409243, 2683.492409240924, 2811.0085808580857, 2735.425082508251, 2418.785478547855, 1989.0805280528052, 1925.1742574257426, 1961.4151815181517, 1884.885808580858, 1642.160396039604, 1294.3848184818482, 849.0508250825083, 524.6561056105611, 366.25544554455445, 273.46930693069305, 285.5386138613861, 385.53003300330033, 638.2052805280528, 1172.6442244224422, 2096.80198019802, 2478.8006600660065, 2563.227722772277, 2424.516831683168, 2527.145214521452, 2565.477887788779, 2600.244884488449, 2701.396699669967, 2675.8983498349835, 2282.646204620462, 1844.46798679868, 1670.968316831683, 1622.4422442244224, 1637.6369636963695, 1383.656105610561, 1121.8079207920791, 772.3524752475248, 485.8871287128713, 358.4277227722772, 280.5808580858086, 265.9458745874587, 315.55775577557756, 521.9346534653465, 789.4937293729373, 1250.5042904290428, 1588.4, 1741.7221122112212, 1664.0508250825083, 1596.7148514851485, 1625.4171617161717, 1491.8844884488449, 1548.1155115511551, 1349.8653465346536, 1143.282508250825, 1101.196699669967, 1217.5075907590758, 1354.6475247524752, 1353.6158415841585, 1175.5346534653465, 1073.5399339933992, 747.4950495049505, 472.49438943894387, 346.21518151815184, 269.1821782178218, 224.2917491749175, 276.77557755775575, 404.9815181518152, 589.8336633663366, 779.3300330033003, 958.0534653465346, 1086.3465346534654, 1151.1207920792078, 1214.6019801980199, 1224.360396039604, 1282.2224422442243, 1327.5940594059407, 1283.102310231023, 1090.23300330033, 1230.724092409241, 1459.2085808580857, 1525.76501650165, 1452.3650165016502, 1411.1029702970297], \"yaxis\": \"y\"}, {\"hovertemplate\": \"variable=3<br>index=%{x}<br>value=%{y}<extra></extra>\", \"legendgroup\": \"3\", \"line\": {\"color\": \"#ab63fa\", \"dash\": \"solid\"}, \"mode\": \"lines\", \"name\": \"3\", \"orientation\": \"v\", \"showlegend\": true, \"type\": \"scatter\", \"x\": [0, 1, 2, 3, 4, 5, 6, 7, 8, 9, 10, 11, 12, 13, 14, 15, 16, 17, 18, 19, 20, 21, 22, 23, 100, 101, 102, 103, 104, 105, 106, 107, 108, 109, 110, 111, 112, 113, 114, 115, 116, 117, 118, 119, 120, 121, 122, 123, 200, 201, 202, 203, 204, 205, 206, 207, 208, 209, 210, 211, 212, 213, 214, 215, 216, 217, 218, 219, 220, 221, 222, 223, 300, 301, 302, 303, 304, 305, 306, 307, 308, 309, 310, 311, 312, 313, 314, 315, 316, 317, 318, 319, 320, 321, 322, 323, 400, 401, 402, 403, 404, 405, 406, 407, 408, 409, 410, 411, 412, 413, 414, 415, 416, 417, 418, 419, 420, 421, 422, 423, 500, 501, 502, 503, 504, 505, 506, 507, 508, 509, 510, 511, 512, 513, 514, 515, 516, 517, 518, 519, 520, 521, 522, 523, 600, 601, 602, 603, 604, 605, 606, 607, 608, 609, 610, 611, 612, 613, 614, 615, 616, 617, 618, 619, 620, 621, 622, 623], \"xaxis\": \"x\", \"y\": [1226.848275862069, 843.255172413793, 715.6551724137931, 523.1172413793104, 447.19310344827585, 394.8, 465.13793103448273, 1176.7931034482758, 8354.689655172413, 23568.97931034483, 28174.78620689655, 26549.868965517242, 18874.068965517243, 24388.972413793104, 24894.68275862069, 24806.834482758622, 24525.689655172413, 22582.262068965516, 14478.924137931035, 6554.475862068965, 3418.7655172413793, 2067.2413793103447, 1394.751724137931, 880.2275862068966, 1022.1793103448276, 916.9172413793103, 688.351724137931, 649.7310344827587, 670.7931034482758, 672.0206896551724, 678.1655172413793, 1780.1379310344828, 8675.88275862069, 23885.78620689655, 27177.924137931033, 25491.64827586207, 17666.344827586207, 22847.255172413792, 24208.38620689655, 23766.255172413792, 24150.324137931035, 21818.834482758622, 13998.620689655172, 6215.772413793104, 3077.862068965517, 2028.0, 1641.8620689655172, 1235.0827586206897, 1324.9241379310345, 1036.489655172414, 833.0896551724138, 758.1310344827587, 652.0551724137931, 631.2827586206896, 662.0827586206897, 1573.489655172414, 8658.972413793104, 24454.137931034482, 26442.489655172412, 25018.696551724137, 17100.91724137931, 22689.11724137931, 23179.972413793104, 23383.41379310345, 23157.951724137933, 22069.503448275864, 13117.620689655172, 5293.551724137931, 2591.5310344827585, 1836.6689655172413, 1540.3862068965518, 1097.7793103448275, 1176.2206896551725, 954.4620689655172, 768.0344827586207, 755.0206896551724, 670.9793103448276, 701.9448275862069, 741.4827586206897, 1644.9586206896552, 9183.406896551724, 24660.662068965517, 27218.43448275862, 26204.15172413793, 17330.675862068965, 23512.510344827588, 24402.84827586207, 24164.66896551724, 23664.144827586206, 22657.427586206897, 13907.862068965518, 6055.662068965517, 3229.6620689655174, 2262.1655172413793, 1650.8896551724138, 1227.151724137931, 968.4344827586207, 902.9655172413793, 785.2620689655172, 811.048275862069, 703.7310344827587, 745.4206896551724, 593.2758620689655, 1522.0758620689655, 8183.172413793103, 24736.06206896552, 26375.744827586208, 24717.262068965516, 16725.73103448276, 22906.958620689657, 23542.951724137933, 22652.724137931036, 22146.875862068966, 20788.041379310343, 12201.255172413794, 4619.76551724138, 2582.462068965517, 1517.6896551724137, 1024.9172413793103, 766.3241379310344, 942.4344827586207, 970.3793103448276, 810.2413793103449, 815.9793103448276, 719.951724137931, 596.303448275862, 649.8827586206896, 768.903448275862, 2051.503448275862, 4604.268965517242, 5203.068965517241, 4823.193103448276, 3728.151724137931, 3576.344827586207, 3226.5862068965516, 2924.344827586207, 2502.3241379310343, 2375.193103448276, 1680.0689655172414, 1404.606896551724, 1290.6413793103447, 1178.2275862068966, 1062.848275862069, 764.2689655172413, 843.7172413793104, 755.7172413793104, 790.4275862068965, 820.5655172413793, 777.8551724137931, 646.9793103448276, 522.9931034482759, 544.5448275862069, 687.9862068965517, 973.9310344827586, 1227.4689655172415, 1196.751724137931, 1506.3586206896553, 1873.5310344827585, 1868.9862068965517, 2107.8551724137933, 2122.793103448276, 1975.0896551724138, 1676.0, 1361.096551724138, 1196.7172413793103, 1137.496551724138, 1144.9172413793103, 1013.5379310344828], \"yaxis\": \"y\"}],                        {\"legend\": {\"title\": {\"text\": \"variable\"}, \"tracegroupgap\": 0}, \"margin\": {\"t\": 60}, \"template\": {\"data\": {\"bar\": [{\"error_x\": {\"color\": \"#2a3f5f\"}, \"error_y\": {\"color\": \"#2a3f5f\"}, \"marker\": {\"line\": {\"color\": \"#E5ECF6\", \"width\": 0.5}}, \"type\": \"bar\"}], \"barpolar\": [{\"marker\": {\"line\": {\"color\": \"#E5ECF6\", \"width\": 0.5}}, \"type\": \"barpolar\"}], \"carpet\": [{\"aaxis\": {\"endlinecolor\": \"#2a3f5f\", \"gridcolor\": \"white\", \"linecolor\": \"white\", \"minorgridcolor\": \"white\", \"startlinecolor\": \"#2a3f5f\"}, \"baxis\": {\"endlinecolor\": \"#2a3f5f\", \"gridcolor\": \"white\", \"linecolor\": \"white\", \"minorgridcolor\": \"white\", \"startlinecolor\": \"#2a3f5f\"}, \"type\": \"carpet\"}], \"choropleth\": [{\"colorbar\": {\"outlinewidth\": 0, \"ticks\": \"\"}, \"type\": \"choropleth\"}], \"contour\": [{\"colorbar\": {\"outlinewidth\": 0, \"ticks\": \"\"}, \"colorscale\": [[0.0, \"#0d0887\"], [0.1111111111111111, \"#46039f\"], [0.2222222222222222, \"#7201a8\"], [0.3333333333333333, \"#9c179e\"], [0.4444444444444444, \"#bd3786\"], [0.5555555555555556, \"#d8576b\"], [0.6666666666666666, \"#ed7953\"], [0.7777777777777778, \"#fb9f3a\"], [0.8888888888888888, \"#fdca26\"], [1.0, \"#f0f921\"]], \"type\": \"contour\"}], \"contourcarpet\": [{\"colorbar\": {\"outlinewidth\": 0, \"ticks\": \"\"}, \"type\": \"contourcarpet\"}], \"heatmap\": [{\"colorbar\": {\"outlinewidth\": 0, \"ticks\": \"\"}, \"colorscale\": [[0.0, \"#0d0887\"], [0.1111111111111111, \"#46039f\"], [0.2222222222222222, \"#7201a8\"], [0.3333333333333333, \"#9c179e\"], [0.4444444444444444, \"#bd3786\"], [0.5555555555555556, \"#d8576b\"], [0.6666666666666666, \"#ed7953\"], [0.7777777777777778, \"#fb9f3a\"], [0.8888888888888888, \"#fdca26\"], [1.0, \"#f0f921\"]], \"type\": \"heatmap\"}], \"heatmapgl\": [{\"colorbar\": {\"outlinewidth\": 0, \"ticks\": \"\"}, \"colorscale\": [[0.0, \"#0d0887\"], [0.1111111111111111, \"#46039f\"], [0.2222222222222222, \"#7201a8\"], [0.3333333333333333, \"#9c179e\"], [0.4444444444444444, \"#bd3786\"], [0.5555555555555556, \"#d8576b\"], [0.6666666666666666, \"#ed7953\"], [0.7777777777777778, \"#fb9f3a\"], [0.8888888888888888, \"#fdca26\"], [1.0, \"#f0f921\"]], \"type\": \"heatmapgl\"}], \"histogram\": [{\"marker\": {\"colorbar\": {\"outlinewidth\": 0, \"ticks\": \"\"}}, \"type\": \"histogram\"}], \"histogram2d\": [{\"colorbar\": {\"outlinewidth\": 0, \"ticks\": \"\"}, \"colorscale\": [[0.0, \"#0d0887\"], [0.1111111111111111, \"#46039f\"], [0.2222222222222222, \"#7201a8\"], [0.3333333333333333, \"#9c179e\"], [0.4444444444444444, \"#bd3786\"], [0.5555555555555556, \"#d8576b\"], [0.6666666666666666, \"#ed7953\"], [0.7777777777777778, \"#fb9f3a\"], [0.8888888888888888, \"#fdca26\"], [1.0, \"#f0f921\"]], \"type\": \"histogram2d\"}], \"histogram2dcontour\": [{\"colorbar\": {\"outlinewidth\": 0, \"ticks\": \"\"}, \"colorscale\": [[0.0, \"#0d0887\"], [0.1111111111111111, \"#46039f\"], [0.2222222222222222, \"#7201a8\"], [0.3333333333333333, \"#9c179e\"], [0.4444444444444444, \"#bd3786\"], [0.5555555555555556, \"#d8576b\"], [0.6666666666666666, \"#ed7953\"], [0.7777777777777778, \"#fb9f3a\"], [0.8888888888888888, \"#fdca26\"], [1.0, \"#f0f921\"]], \"type\": \"histogram2dcontour\"}], \"mesh3d\": [{\"colorbar\": {\"outlinewidth\": 0, \"ticks\": \"\"}, \"type\": \"mesh3d\"}], \"parcoords\": [{\"line\": {\"colorbar\": {\"outlinewidth\": 0, \"ticks\": \"\"}}, \"type\": \"parcoords\"}], \"pie\": [{\"automargin\": true, \"type\": \"pie\"}], \"scatter\": [{\"marker\": {\"colorbar\": {\"outlinewidth\": 0, \"ticks\": \"\"}}, \"type\": \"scatter\"}], \"scatter3d\": [{\"line\": {\"colorbar\": {\"outlinewidth\": 0, \"ticks\": \"\"}}, \"marker\": {\"colorbar\": {\"outlinewidth\": 0, \"ticks\": \"\"}}, \"type\": \"scatter3d\"}], \"scattercarpet\": [{\"marker\": {\"colorbar\": {\"outlinewidth\": 0, \"ticks\": \"\"}}, \"type\": \"scattercarpet\"}], \"scattergeo\": [{\"marker\": {\"colorbar\": {\"outlinewidth\": 0, \"ticks\": \"\"}}, \"type\": \"scattergeo\"}], \"scattergl\": [{\"marker\": {\"colorbar\": {\"outlinewidth\": 0, \"ticks\": \"\"}}, \"type\": \"scattergl\"}], \"scattermapbox\": [{\"marker\": {\"colorbar\": {\"outlinewidth\": 0, \"ticks\": \"\"}}, \"type\": \"scattermapbox\"}], \"scatterpolar\": [{\"marker\": {\"colorbar\": {\"outlinewidth\": 0, \"ticks\": \"\"}}, \"type\": \"scatterpolar\"}], \"scatterpolargl\": [{\"marker\": {\"colorbar\": {\"outlinewidth\": 0, \"ticks\": \"\"}}, \"type\": \"scatterpolargl\"}], \"scatterternary\": [{\"marker\": {\"colorbar\": {\"outlinewidth\": 0, \"ticks\": \"\"}}, \"type\": \"scatterternary\"}], \"surface\": [{\"colorbar\": {\"outlinewidth\": 0, \"ticks\": \"\"}, \"colorscale\": [[0.0, \"#0d0887\"], [0.1111111111111111, \"#46039f\"], [0.2222222222222222, \"#7201a8\"], [0.3333333333333333, \"#9c179e\"], [0.4444444444444444, \"#bd3786\"], [0.5555555555555556, \"#d8576b\"], [0.6666666666666666, \"#ed7953\"], [0.7777777777777778, \"#fb9f3a\"], [0.8888888888888888, \"#fdca26\"], [1.0, \"#f0f921\"]], \"type\": \"surface\"}], \"table\": [{\"cells\": {\"fill\": {\"color\": \"#EBF0F8\"}, \"line\": {\"color\": \"white\"}}, \"header\": {\"fill\": {\"color\": \"#C8D4E3\"}, \"line\": {\"color\": \"white\"}}, \"type\": \"table\"}]}, \"layout\": {\"annotationdefaults\": {\"arrowcolor\": \"#2a3f5f\", \"arrowhead\": 0, \"arrowwidth\": 1}, \"coloraxis\": {\"colorbar\": {\"outlinewidth\": 0, \"ticks\": \"\"}}, \"colorscale\": {\"diverging\": [[0, \"#8e0152\"], [0.1, \"#c51b7d\"], [0.2, \"#de77ae\"], [0.3, \"#f1b6da\"], [0.4, \"#fde0ef\"], [0.5, \"#f7f7f7\"], [0.6, \"#e6f5d0\"], [0.7, \"#b8e186\"], [0.8, \"#7fbc41\"], [0.9, \"#4d9221\"], [1, \"#276419\"]], \"sequential\": [[0.0, \"#0d0887\"], [0.1111111111111111, \"#46039f\"], [0.2222222222222222, \"#7201a8\"], [0.3333333333333333, \"#9c179e\"], [0.4444444444444444, \"#bd3786\"], [0.5555555555555556, \"#d8576b\"], [0.6666666666666666, \"#ed7953\"], [0.7777777777777778, \"#fb9f3a\"], [0.8888888888888888, \"#fdca26\"], [1.0, \"#f0f921\"]], \"sequentialminus\": [[0.0, \"#0d0887\"], [0.1111111111111111, \"#46039f\"], [0.2222222222222222, \"#7201a8\"], [0.3333333333333333, \"#9c179e\"], [0.4444444444444444, \"#bd3786\"], [0.5555555555555556, \"#d8576b\"], [0.6666666666666666, \"#ed7953\"], [0.7777777777777778, \"#fb9f3a\"], [0.8888888888888888, \"#fdca26\"], [1.0, \"#f0f921\"]]}, \"colorway\": [\"#636efa\", \"#EF553B\", \"#00cc96\", \"#ab63fa\", \"#FFA15A\", \"#19d3f3\", \"#FF6692\", \"#B6E880\", \"#FF97FF\", \"#FECB52\"], \"font\": {\"color\": \"#2a3f5f\"}, \"geo\": {\"bgcolor\": \"white\", \"lakecolor\": \"white\", \"landcolor\": \"#E5ECF6\", \"showlakes\": true, \"showland\": true, \"subunitcolor\": \"white\"}, \"hoverlabel\": {\"align\": \"left\"}, \"hovermode\": \"closest\", \"mapbox\": {\"style\": \"light\"}, \"paper_bgcolor\": \"white\", \"plot_bgcolor\": \"#E5ECF6\", \"polar\": {\"angularaxis\": {\"gridcolor\": \"white\", \"linecolor\": \"white\", \"ticks\": \"\"}, \"bgcolor\": \"#E5ECF6\", \"radialaxis\": {\"gridcolor\": \"white\", \"linecolor\": \"white\", \"ticks\": \"\"}}, \"scene\": {\"xaxis\": {\"backgroundcolor\": \"#E5ECF6\", \"gridcolor\": \"white\", \"gridwidth\": 2, \"linecolor\": \"white\", \"showbackground\": true, \"ticks\": \"\", \"zerolinecolor\": \"white\"}, \"yaxis\": {\"backgroundcolor\": \"#E5ECF6\", \"gridcolor\": \"white\", \"gridwidth\": 2, \"linecolor\": \"white\", \"showbackground\": true, \"ticks\": \"\", \"zerolinecolor\": \"white\"}, \"zaxis\": {\"backgroundcolor\": \"#E5ECF6\", \"gridcolor\": \"white\", \"gridwidth\": 2, \"linecolor\": \"white\", \"showbackground\": true, \"ticks\": \"\", \"zerolinecolor\": \"white\"}}, \"shapedefaults\": {\"line\": {\"color\": \"#2a3f5f\"}}, \"ternary\": {\"aaxis\": {\"gridcolor\": \"white\", \"linecolor\": \"white\", \"ticks\": \"\"}, \"baxis\": {\"gridcolor\": \"white\", \"linecolor\": \"white\", \"ticks\": \"\"}, \"bgcolor\": \"#E5ECF6\", \"caxis\": {\"gridcolor\": \"white\", \"linecolor\": \"white\", \"ticks\": \"\"}}, \"title\": {\"x\": 0.05}, \"xaxis\": {\"automargin\": true, \"gridcolor\": \"white\", \"linecolor\": \"white\", \"ticks\": \"\", \"title\": {\"standoff\": 15}, \"zerolinecolor\": \"white\", \"zerolinewidth\": 2}, \"yaxis\": {\"automargin\": true, \"gridcolor\": \"white\", \"linecolor\": \"white\", \"ticks\": \"\", \"title\": {\"standoff\": 15}, \"zerolinecolor\": \"white\", \"zerolinewidth\": 2}}}, \"xaxis\": {\"anchor\": \"y\", \"domain\": [0.0, 1.0], \"title\": {\"text\": \"index\"}}, \"yaxis\": {\"anchor\": \"x\", \"domain\": [0.0, 1.0], \"title\": {\"text\": \"value\"}}},                        {\"responsive\": true}                    ).then(function(){\n",
       "                            \n",
       "var gd = document.getElementById('d759e92d-76a8-4427-afe6-0116093a7969');\n",
       "var x = new MutationObserver(function (mutations, observer) {{\n",
       "        var display = window.getComputedStyle(gd).display;\n",
       "        if (!display || display === 'none') {{\n",
       "            console.log([gd, 'removed!']);\n",
       "            Plotly.purge(gd);\n",
       "            observer.disconnect();\n",
       "        }}\n",
       "}});\n",
       "\n",
       "// Listen for the removal of the full notebook cells\n",
       "var notebookContainer = gd.closest('#notebook-container');\n",
       "if (notebookContainer) {{\n",
       "    x.observe(notebookContainer, {childList: true});\n",
       "}}\n",
       "\n",
       "// Listen for the clearing of the current output cell\n",
       "var outputEl = gd.closest('.output');\n",
       "if (outputEl) {{\n",
       "    x.observe(outputEl, {childList: true});\n",
       "}}\n",
       "\n",
       "                        })                };                });            </script>        </div>"
      ]
     },
     "metadata": {},
     "output_type": "display_data"
    },
    {
     "data": {
      "text/html": [
       "<div>\n",
       "<style scoped>\n",
       "    .dataframe tbody tr th:only-of-type {\n",
       "        vertical-align: middle;\n",
       "    }\n",
       "\n",
       "    .dataframe tbody tr th {\n",
       "        vertical-align: top;\n",
       "    }\n",
       "\n",
       "    .dataframe thead th {\n",
       "        text-align: right;\n",
       "    }\n",
       "</style>\n",
       "<table border=\"1\" class=\"dataframe\">\n",
       "  <thead>\n",
       "    <tr style=\"text-align: right;\">\n",
       "      <th>ClusterLabel</th>\n",
       "      <th>0</th>\n",
       "      <th>1</th>\n",
       "      <th>2</th>\n",
       "      <th>3</th>\n",
       "    </tr>\n",
       "    <tr>\n",
       "      <th>GROUP</th>\n",
       "      <th></th>\n",
       "      <th></th>\n",
       "      <th></th>\n",
       "      <th></th>\n",
       "    </tr>\n",
       "  </thead>\n",
       "  <tbody>\n",
       "    <tr>\n",
       "      <th>F20-</th>\n",
       "      <td>10.37</td>\n",
       "      <td>29.46</td>\n",
       "      <td>52.70</td>\n",
       "      <td>7.47</td>\n",
       "    </tr>\n",
       "    <tr>\n",
       "      <th>F30</th>\n",
       "      <td>11.46</td>\n",
       "      <td>27.51</td>\n",
       "      <td>53.30</td>\n",
       "      <td>7.74</td>\n",
       "    </tr>\n",
       "    <tr>\n",
       "      <th>F40+</th>\n",
       "      <td>5.25</td>\n",
       "      <td>21.91</td>\n",
       "      <td>67.59</td>\n",
       "      <td>5.25</td>\n",
       "    </tr>\n",
       "    <tr>\n",
       "      <th>M20-</th>\n",
       "      <td>7.73</td>\n",
       "      <td>20.60</td>\n",
       "      <td>69.10</td>\n",
       "      <td>2.58</td>\n",
       "    </tr>\n",
       "    <tr>\n",
       "      <th>M30</th>\n",
       "      <td>10.66</td>\n",
       "      <td>21.48</td>\n",
       "      <td>61.15</td>\n",
       "      <td>6.72</td>\n",
       "    </tr>\n",
       "    <tr>\n",
       "      <th>M40+</th>\n",
       "      <td>13.32</td>\n",
       "      <td>21.40</td>\n",
       "      <td>60.43</td>\n",
       "      <td>4.85</td>\n",
       "    </tr>\n",
       "  </tbody>\n",
       "</table>\n",
       "</div>"
      ],
      "text/plain": [
       "ClusterLabel      0      1      2     3\n",
       "GROUP                                  \n",
       "F20-          10.37  29.46  52.70  7.47\n",
       "F30           11.46  27.51  53.30  7.74\n",
       "F40+           5.25  21.91  67.59  5.25\n",
       "M20-           7.73  20.60  69.10  2.58\n",
       "M30           10.66  21.48  61.15  6.72\n",
       "M40+          13.32  21.40  60.43  4.85"
      ]
     },
     "execution_count": 105,
     "metadata": {},
     "output_type": "execute_result"
    }
   ],
   "source": [
    "derive_cluster(cluster_data, 4)"
   ]
  },
  {
   "cell_type": "markdown",
   "metadata": {},
   "source": [
    "### 클러스터를 했을 때 그렇게 유의한 결과를 보여주지는 않음"
   ]
  }
 ],
 "metadata": {
  "kernelspec": {
   "display_name": "Python 3",
   "language": "python",
   "name": "python3"
  },
  "language_info": {
   "codemirror_mode": {
    "name": "ipython",
    "version": 3
   },
   "file_extension": ".py",
   "mimetype": "text/x-python",
   "name": "python",
   "nbconvert_exporter": "python",
   "pygments_lexer": "ipython3",
   "version": "3.8.2"
  }
 },
 "nbformat": 4,
 "nbformat_minor": 4
}
