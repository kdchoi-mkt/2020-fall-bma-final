{
 "cells": [
  {
   "cell_type": "code",
   "execution_count": 5,
   "metadata": {},
   "outputs": [],
   "source": [
    "from gensim.models import Word2Vec"
   ]
  },
  {
   "cell_type": "code",
   "execution_count": 132,
   "metadata": {},
   "outputs": [],
   "source": [
    "import requests\n",
    "from bs4 import BeautifulSoup\n",
    "from tqdm.notebook import tqdm\n",
    "import pandas as pd"
   ]
  },
  {
   "cell_type": "code",
   "execution_count": 123,
   "metadata": {},
   "outputs": [],
   "source": [
    "START_POINT = 1000000\n",
    "END_POINT = 1046816\n",
    "LINK = \"https://sports.news.naver.com/news.nhn?oid=082&aid=\""
   ]
  },
  {
   "cell_type": "code",
   "execution_count": 124,
   "metadata": {},
   "outputs": [],
   "source": [
    "def fill_zero(point: int):\n",
    "    str_point = str(point)\n",
    "    length = len(str_point)\n",
    "    zero_seq = ''.join([\"0\" for _ in range(10 - length)])\n",
    "    return zero_seq + str_point"
   ]
  },
  {
   "cell_type": "code",
   "execution_count": 169,
   "metadata": {
    "collapsed": true,
    "jupyter": {
     "outputs_hidden": true
    }
   },
   "outputs": [
    {
     "data": {
      "application/vnd.jupyter.widget-view+json": {
       "model_id": "b76fa5acbe0e4e3d93a167b36fabd112",
       "version_major": 2,
       "version_minor": 0
      },
      "text/plain": [
       "HBox(children=(HTML(value=''), FloatProgress(value=0.0, max=46816.0), HTML(value='')))"
      ]
     },
     "metadata": {},
     "output_type": "display_data"
    },
    {
     "name": "stdout",
     "output_type": "stream",
     "text": [
      "https://sports.news.naver.com/news.nhn?oid=082&aid=0001000201\n",
      "list index out of range\n",
      "https://sports.news.naver.com/news.nhn?oid=082&aid=0001000489\n",
      "list index out of range\n",
      "https://sports.news.naver.com/news.nhn?oid=082&aid=0001000764\n",
      "list index out of range\n",
      "https://sports.news.naver.com/news.nhn?oid=082&aid=0001000765\n",
      "list index out of range\n",
      "https://sports.news.naver.com/news.nhn?oid=082&aid=0001000779\n",
      "list index out of range\n",
      "https://sports.news.naver.com/news.nhn?oid=082&aid=0001000819\n",
      "list index out of range\n",
      "https://sports.news.naver.com/news.nhn?oid=082&aid=0001000846\n",
      "list index out of range\n",
      "https://sports.news.naver.com/news.nhn?oid=082&aid=0001000944\n",
      "list index out of range\n",
      "https://sports.news.naver.com/news.nhn?oid=082&aid=0001000969\n",
      "list index out of range\n",
      "https://sports.news.naver.com/news.nhn?oid=082&aid=0001000989\n",
      "list index out of range\n",
      "https://sports.news.naver.com/news.nhn?oid=082&aid=0001001497\n",
      "list index out of range\n",
      "https://sports.news.naver.com/news.nhn?oid=082&aid=0001001515\n",
      "list index out of range\n",
      "https://sports.news.naver.com/news.nhn?oid=082&aid=0001001748\n",
      "list index out of range\n",
      "https://sports.news.naver.com/news.nhn?oid=082&aid=0001001780\n",
      "list index out of range\n",
      "https://sports.news.naver.com/news.nhn?oid=082&aid=0001002335\n",
      "list index out of range\n",
      "https://sports.news.naver.com/news.nhn?oid=082&aid=0001002407\n",
      "list index out of range\n",
      "https://sports.news.naver.com/news.nhn?oid=082&aid=0001002408\n",
      "list index out of range\n",
      "https://sports.news.naver.com/news.nhn?oid=082&aid=0001002420\n",
      "list index out of range\n",
      "https://sports.news.naver.com/news.nhn?oid=082&aid=0001002658\n",
      "list index out of range\n",
      "https://sports.news.naver.com/news.nhn?oid=082&aid=0001002794\n",
      "list index out of range\n",
      "https://sports.news.naver.com/news.nhn?oid=082&aid=0001003303\n",
      "list index out of range\n",
      "https://sports.news.naver.com/news.nhn?oid=082&aid=0001003335\n",
      "list index out of range\n",
      "https://sports.news.naver.com/news.nhn?oid=082&aid=0001003366\n",
      "list index out of range\n",
      "https://sports.news.naver.com/news.nhn?oid=082&aid=0001003378\n",
      "list index out of range\n",
      "https://sports.news.naver.com/news.nhn?oid=082&aid=0001003471\n",
      "list index out of range\n",
      "https://sports.news.naver.com/news.nhn?oid=082&aid=0001003923\n",
      "list index out of range\n",
      "https://sports.news.naver.com/news.nhn?oid=082&aid=0001004041\n",
      "list index out of range\n",
      "https://sports.news.naver.com/news.nhn?oid=082&aid=0001004430\n",
      "list index out of range\n",
      "https://sports.news.naver.com/news.nhn?oid=082&aid=0001004443\n",
      "list index out of range\n",
      "https://sports.news.naver.com/news.nhn?oid=082&aid=0001004458\n",
      "list index out of range\n",
      "https://sports.news.naver.com/news.nhn?oid=082&aid=0001004660\n",
      "list index out of range\n",
      "https://sports.news.naver.com/news.nhn?oid=082&aid=0001004833\n",
      "list index out of range\n",
      "https://sports.news.naver.com/news.nhn?oid=082&aid=0001004951\n",
      "list index out of range\n",
      "https://sports.news.naver.com/news.nhn?oid=082&aid=0001004952\n",
      "list index out of range\n",
      "https://sports.news.naver.com/news.nhn?oid=082&aid=0001004961\n",
      "list index out of range\n",
      "https://sports.news.naver.com/news.nhn?oid=082&aid=0001004973\n",
      "list index out of range\n",
      "https://sports.news.naver.com/news.nhn?oid=082&aid=0001005314\n",
      "list index out of range\n",
      "https://sports.news.naver.com/news.nhn?oid=082&aid=0001005330\n",
      "list index out of range\n",
      "https://sports.news.naver.com/news.nhn?oid=082&aid=0001005843\n",
      "list index out of range\n",
      "https://sports.news.naver.com/news.nhn?oid=082&aid=0001005920\n",
      "list index out of range\n",
      "https://sports.news.naver.com/news.nhn?oid=082&aid=0001005923\n",
      "list index out of range\n",
      "https://sports.news.naver.com/news.nhn?oid=082&aid=0001005993\n",
      "list index out of range\n",
      "https://sports.news.naver.com/news.nhn?oid=082&aid=0001006208\n",
      "list index out of range\n",
      "https://sports.news.naver.com/news.nhn?oid=082&aid=0001006473\n",
      "list index out of range\n",
      "https://sports.news.naver.com/news.nhn?oid=082&aid=0001006760\n",
      "list index out of range\n",
      "https://sports.news.naver.com/news.nhn?oid=082&aid=0001007130\n",
      "list index out of range\n",
      "https://sports.news.naver.com/news.nhn?oid=082&aid=0001007425\n",
      "list index out of range\n",
      "https://sports.news.naver.com/news.nhn?oid=082&aid=0001007548\n",
      "list index out of range\n",
      "https://sports.news.naver.com/news.nhn?oid=082&aid=0001007572\n",
      "list index out of range\n",
      "https://sports.news.naver.com/news.nhn?oid=082&aid=0001007732\n",
      "list index out of range\n",
      "https://sports.news.naver.com/news.nhn?oid=082&aid=0001008546\n",
      "list index out of range\n",
      "https://sports.news.naver.com/news.nhn?oid=082&aid=0001008783\n",
      "list index out of range\n",
      "https://sports.news.naver.com/news.nhn?oid=082&aid=0001008929\n",
      "list index out of range\n",
      "https://sports.news.naver.com/news.nhn?oid=082&aid=0001009438\n",
      "list index out of range\n",
      "https://sports.news.naver.com/news.nhn?oid=082&aid=0001009589\n",
      "list index out of range\n",
      "https://sports.news.naver.com/news.nhn?oid=082&aid=0001010288\n",
      "list index out of range\n",
      "https://sports.news.naver.com/news.nhn?oid=082&aid=0001010432\n",
      "list index out of range\n",
      "https://sports.news.naver.com/news.nhn?oid=082&aid=0001010531\n",
      "list index out of range\n",
      "https://sports.news.naver.com/news.nhn?oid=082&aid=0001010605\n",
      "list index out of range\n",
      "https://sports.news.naver.com/news.nhn?oid=082&aid=0001010643\n",
      "list index out of range\n",
      "https://sports.news.naver.com/news.nhn?oid=082&aid=0001010652\n",
      "list index out of range\n",
      "https://sports.news.naver.com/news.nhn?oid=082&aid=0001010943\n",
      "list index out of range\n",
      "https://sports.news.naver.com/news.nhn?oid=082&aid=0001011473\n",
      "list index out of range\n",
      "https://sports.news.naver.com/news.nhn?oid=082&aid=0001011706\n",
      "list index out of range\n",
      "https://sports.news.naver.com/news.nhn?oid=082&aid=0001011820\n",
      "list index out of range\n",
      "https://sports.news.naver.com/news.nhn?oid=082&aid=0001012250\n",
      "list index out of range\n",
      "https://sports.news.naver.com/news.nhn?oid=082&aid=0001012308\n",
      "list index out of range\n",
      "https://sports.news.naver.com/news.nhn?oid=082&aid=0001012455\n",
      "list index out of range\n",
      "https://sports.news.naver.com/news.nhn?oid=082&aid=0001012658\n",
      "list index out of range\n",
      "https://sports.news.naver.com/news.nhn?oid=082&aid=0001012762\n",
      "list index out of range\n",
      "https://sports.news.naver.com/news.nhn?oid=082&aid=0001012861\n",
      "list index out of range\n",
      "https://sports.news.naver.com/news.nhn?oid=082&aid=0001012901\n",
      "list index out of range\n",
      "https://sports.news.naver.com/news.nhn?oid=082&aid=0001013085\n",
      "list index out of range\n",
      "https://sports.news.naver.com/news.nhn?oid=082&aid=0001013105\n",
      "list index out of range\n",
      "https://sports.news.naver.com/news.nhn?oid=082&aid=0001013127\n",
      "list index out of range\n",
      "https://sports.news.naver.com/news.nhn?oid=082&aid=0001013183\n",
      "list index out of range\n",
      "https://sports.news.naver.com/news.nhn?oid=082&aid=0001013286\n",
      "list index out of range\n",
      "https://sports.news.naver.com/news.nhn?oid=082&aid=0001013353\n",
      "list index out of range\n",
      "https://sports.news.naver.com/news.nhn?oid=082&aid=0001013819\n",
      "list index out of range\n",
      "https://sports.news.naver.com/news.nhn?oid=082&aid=0001013940\n",
      "list index out of range\n",
      "https://sports.news.naver.com/news.nhn?oid=082&aid=0001014037\n",
      "list index out of range\n",
      "https://sports.news.naver.com/news.nhn?oid=082&aid=0001014127\n",
      "list index out of range\n",
      "https://sports.news.naver.com/news.nhn?oid=082&aid=0001014406\n",
      "list index out of range\n",
      "https://sports.news.naver.com/news.nhn?oid=082&aid=0001014496\n",
      "list index out of range\n",
      "https://sports.news.naver.com/news.nhn?oid=082&aid=0001014543\n",
      "list index out of range\n",
      "https://sports.news.naver.com/news.nhn?oid=082&aid=0001014611\n",
      "list index out of range\n",
      "https://sports.news.naver.com/news.nhn?oid=082&aid=0001014674\n",
      "list index out of range\n",
      "https://sports.news.naver.com/news.nhn?oid=082&aid=0001014934\n",
      "list index out of range\n",
      "https://sports.news.naver.com/news.nhn?oid=082&aid=0001015434\n",
      "list index out of range\n",
      "https://sports.news.naver.com/news.nhn?oid=082&aid=0001015493\n",
      "list index out of range\n",
      "https://sports.news.naver.com/news.nhn?oid=082&aid=0001015975\n",
      "list index out of range\n",
      "https://sports.news.naver.com/news.nhn?oid=082&aid=0001016106\n",
      "list index out of range\n",
      "https://sports.news.naver.com/news.nhn?oid=082&aid=0001016305\n",
      "list index out of range\n",
      "https://sports.news.naver.com/news.nhn?oid=082&aid=0001016473\n",
      "list index out of range\n",
      "https://sports.news.naver.com/news.nhn?oid=082&aid=0001016904\n",
      "list index out of range\n",
      "https://sports.news.naver.com/news.nhn?oid=082&aid=0001017274\n",
      "list index out of range\n",
      "https://sports.news.naver.com/news.nhn?oid=082&aid=0001017708\n",
      "list index out of range\n",
      "https://sports.news.naver.com/news.nhn?oid=082&aid=0001017895\n",
      "list index out of range\n",
      "https://sports.news.naver.com/news.nhn?oid=082&aid=0001017971\n",
      "list index out of range\n",
      "https://sports.news.naver.com/news.nhn?oid=082&aid=0001018055\n",
      "list index out of range\n",
      "https://sports.news.naver.com/news.nhn?oid=082&aid=0001018108\n",
      "list index out of range\n",
      "https://sports.news.naver.com/news.nhn?oid=082&aid=0001018486\n",
      "list index out of range\n",
      "https://sports.news.naver.com/news.nhn?oid=082&aid=0001018813\n",
      "list index out of range\n",
      "https://sports.news.naver.com/news.nhn?oid=082&aid=0001019302\n",
      "list index out of range\n",
      "https://sports.news.naver.com/news.nhn?oid=082&aid=0001019836\n",
      "list index out of range\n",
      "https://sports.news.naver.com/news.nhn?oid=082&aid=0001019839\n",
      "list index out of range\n",
      "https://sports.news.naver.com/news.nhn?oid=082&aid=0001020009\n",
      "list index out of range\n",
      "https://sports.news.naver.com/news.nhn?oid=082&aid=0001020060\n",
      "list index out of range\n",
      "https://sports.news.naver.com/news.nhn?oid=082&aid=0001020071\n",
      "list index out of range\n",
      "https://sports.news.naver.com/news.nhn?oid=082&aid=0001020152\n",
      "list index out of range\n",
      "https://sports.news.naver.com/news.nhn?oid=082&aid=0001020249\n",
      "list index out of range\n",
      "https://sports.news.naver.com/news.nhn?oid=082&aid=0001020259\n",
      "list index out of range\n",
      "https://sports.news.naver.com/news.nhn?oid=082&aid=0001020294\n",
      "list index out of range\n",
      "https://sports.news.naver.com/news.nhn?oid=082&aid=0001020302\n",
      "list index out of range\n",
      "https://sports.news.naver.com/news.nhn?oid=082&aid=0001020543\n",
      "list index out of range\n",
      "https://sports.news.naver.com/news.nhn?oid=082&aid=0001020547\n",
      "list index out of range\n",
      "https://sports.news.naver.com/news.nhn?oid=082&aid=0001020622\n",
      "list index out of range\n",
      "https://sports.news.naver.com/news.nhn?oid=082&aid=0001020702\n",
      "list index out of range\n",
      "https://sports.news.naver.com/news.nhn?oid=082&aid=0001020739\n",
      "list index out of range\n",
      "https://sports.news.naver.com/news.nhn?oid=082&aid=0001020886\n",
      "list index out of range\n",
      "https://sports.news.naver.com/news.nhn?oid=082&aid=0001021431\n",
      "list index out of range\n",
      "https://sports.news.naver.com/news.nhn?oid=082&aid=0001021466\n",
      "list index out of range\n",
      "https://sports.news.naver.com/news.nhn?oid=082&aid=0001021819\n",
      "list index out of range\n",
      "https://sports.news.naver.com/news.nhn?oid=082&aid=0001022140\n",
      "list index out of range\n",
      "https://sports.news.naver.com/news.nhn?oid=082&aid=0001022220\n",
      "list index out of range\n",
      "https://sports.news.naver.com/news.nhn?oid=082&aid=0001022286\n",
      "list index out of range\n",
      "https://sports.news.naver.com/news.nhn?oid=082&aid=0001022441\n",
      "list index out of range\n",
      "https://sports.news.naver.com/news.nhn?oid=082&aid=0001022490\n",
      "list index out of range\n",
      "https://sports.news.naver.com/news.nhn?oid=082&aid=0001022512\n",
      "list index out of range\n",
      "https://sports.news.naver.com/news.nhn?oid=082&aid=0001022799\n",
      "list index out of range\n",
      "https://sports.news.naver.com/news.nhn?oid=082&aid=0001022818\n",
      "list index out of range\n",
      "https://sports.news.naver.com/news.nhn?oid=082&aid=0001022990\n",
      "list index out of range\n",
      "https://sports.news.naver.com/news.nhn?oid=082&aid=0001023210\n",
      "list index out of range\n",
      "https://sports.news.naver.com/news.nhn?oid=082&aid=0001023545\n",
      "list index out of range\n",
      "https://sports.news.naver.com/news.nhn?oid=082&aid=0001023553\n",
      "list index out of range\n",
      "https://sports.news.naver.com/news.nhn?oid=082&aid=0001023930\n",
      "list index out of range\n",
      "https://sports.news.naver.com/news.nhn?oid=082&aid=0001023981\n",
      "list index out of range\n",
      "https://sports.news.naver.com/news.nhn?oid=082&aid=0001024357\n",
      "list index out of range\n",
      "https://sports.news.naver.com/news.nhn?oid=082&aid=0001024458\n",
      "list index out of range\n",
      "https://sports.news.naver.com/news.nhn?oid=082&aid=0001024623\n",
      "list index out of range\n",
      "https://sports.news.naver.com/news.nhn?oid=082&aid=0001024719\n",
      "list index out of range\n",
      "https://sports.news.naver.com/news.nhn?oid=082&aid=0001024778\n",
      "list index out of range\n",
      "https://sports.news.naver.com/news.nhn?oid=082&aid=0001024933\n",
      "list index out of range\n",
      "https://sports.news.naver.com/news.nhn?oid=082&aid=0001025049\n",
      "list index out of range\n",
      "https://sports.news.naver.com/news.nhn?oid=082&aid=0001025081\n",
      "list index out of range\n",
      "https://sports.news.naver.com/news.nhn?oid=082&aid=0001025380\n",
      "list index out of range\n",
      "https://sports.news.naver.com/news.nhn?oid=082&aid=0001025473\n",
      "list index out of range\n",
      "https://sports.news.naver.com/news.nhn?oid=082&aid=0001025487\n",
      "list index out of range\n",
      "https://sports.news.naver.com/news.nhn?oid=082&aid=0001025773\n",
      "list index out of range\n",
      "https://sports.news.naver.com/news.nhn?oid=082&aid=0001025784\n",
      "list index out of range\n",
      "https://sports.news.naver.com/news.nhn?oid=082&aid=0001025796\n",
      "list index out of range\n",
      "https://sports.news.naver.com/news.nhn?oid=082&aid=0001025814\n",
      "list index out of range\n",
      "https://sports.news.naver.com/news.nhn?oid=082&aid=0001025954\n",
      "list index out of range\n",
      "https://sports.news.naver.com/news.nhn?oid=082&aid=0001026065\n",
      "list index out of range\n",
      "https://sports.news.naver.com/news.nhn?oid=082&aid=0001026159\n",
      "list index out of range\n",
      "https://sports.news.naver.com/news.nhn?oid=082&aid=0001026175\n",
      "list index out of range\n",
      "https://sports.news.naver.com/news.nhn?oid=082&aid=0001026495\n",
      "list index out of range\n",
      "https://sports.news.naver.com/news.nhn?oid=082&aid=0001026496\n",
      "list index out of range\n",
      "https://sports.news.naver.com/news.nhn?oid=082&aid=0001026497\n",
      "list index out of range\n",
      "https://sports.news.naver.com/news.nhn?oid=082&aid=0001026498\n",
      "list index out of range\n",
      "https://sports.news.naver.com/news.nhn?oid=082&aid=0001026499\n",
      "list index out of range\n",
      "https://sports.news.naver.com/news.nhn?oid=082&aid=0001026500\n",
      "list index out of range\n",
      "https://sports.news.naver.com/news.nhn?oid=082&aid=0001026501\n",
      "list index out of range\n",
      "https://sports.news.naver.com/news.nhn?oid=082&aid=0001026502\n",
      "list index out of range\n",
      "https://sports.news.naver.com/news.nhn?oid=082&aid=0001026503\n",
      "list index out of range\n",
      "https://sports.news.naver.com/news.nhn?oid=082&aid=0001026504\n",
      "list index out of range\n",
      "https://sports.news.naver.com/news.nhn?oid=082&aid=0001026505\n",
      "list index out of range\n",
      "https://sports.news.naver.com/news.nhn?oid=082&aid=0001026506\n",
      "list index out of range\n",
      "https://sports.news.naver.com/news.nhn?oid=082&aid=0001026507\n",
      "list index out of range\n",
      "https://sports.news.naver.com/news.nhn?oid=082&aid=0001026508\n",
      "list index out of range\n",
      "https://sports.news.naver.com/news.nhn?oid=082&aid=0001026509\n",
      "list index out of range\n",
      "https://sports.news.naver.com/news.nhn?oid=082&aid=0001026510\n",
      "list index out of range\n",
      "https://sports.news.naver.com/news.nhn?oid=082&aid=0001026511\n",
      "list index out of range\n",
      "https://sports.news.naver.com/news.nhn?oid=082&aid=0001026512\n",
      "list index out of range\n",
      "https://sports.news.naver.com/news.nhn?oid=082&aid=0001026513\n",
      "list index out of range\n",
      "https://sports.news.naver.com/news.nhn?oid=082&aid=0001026514\n",
      "list index out of range\n",
      "https://sports.news.naver.com/news.nhn?oid=082&aid=0001026515\n",
      "list index out of range\n",
      "https://sports.news.naver.com/news.nhn?oid=082&aid=0001026516\n",
      "list index out of range\n",
      "https://sports.news.naver.com/news.nhn?oid=082&aid=0001026517\n",
      "list index out of range\n",
      "https://sports.news.naver.com/news.nhn?oid=082&aid=0001026518\n",
      "list index out of range\n",
      "https://sports.news.naver.com/news.nhn?oid=082&aid=0001026519\n",
      "list index out of range\n",
      "https://sports.news.naver.com/news.nhn?oid=082&aid=0001026520\n",
      "list index out of range\n",
      "https://sports.news.naver.com/news.nhn?oid=082&aid=0001026521\n",
      "list index out of range\n",
      "https://sports.news.naver.com/news.nhn?oid=082&aid=0001026522\n",
      "list index out of range\n",
      "https://sports.news.naver.com/news.nhn?oid=082&aid=0001026523\n",
      "list index out of range\n",
      "https://sports.news.naver.com/news.nhn?oid=082&aid=0001026524\n",
      "list index out of range\n",
      "https://sports.news.naver.com/news.nhn?oid=082&aid=0001026525\n",
      "list index out of range\n",
      "https://sports.news.naver.com/news.nhn?oid=082&aid=0001026526\n",
      "list index out of range\n",
      "https://sports.news.naver.com/news.nhn?oid=082&aid=0001026527\n",
      "list index out of range\n",
      "https://sports.news.naver.com/news.nhn?oid=082&aid=0001026528\n",
      "list index out of range\n",
      "https://sports.news.naver.com/news.nhn?oid=082&aid=0001026529\n",
      "list index out of range\n",
      "https://sports.news.naver.com/news.nhn?oid=082&aid=0001026530\n",
      "list index out of range\n",
      "https://sports.news.naver.com/news.nhn?oid=082&aid=0001026531\n",
      "list index out of range\n",
      "https://sports.news.naver.com/news.nhn?oid=082&aid=0001026532\n",
      "list index out of range\n",
      "https://sports.news.naver.com/news.nhn?oid=082&aid=0001026533\n",
      "list index out of range\n",
      "https://sports.news.naver.com/news.nhn?oid=082&aid=0001026534\n",
      "list index out of range\n",
      "https://sports.news.naver.com/news.nhn?oid=082&aid=0001026535\n",
      "list index out of range\n",
      "https://sports.news.naver.com/news.nhn?oid=082&aid=0001026536\n",
      "list index out of range\n",
      "https://sports.news.naver.com/news.nhn?oid=082&aid=0001026537\n",
      "list index out of range\n",
      "https://sports.news.naver.com/news.nhn?oid=082&aid=0001026538\n",
      "list index out of range\n",
      "https://sports.news.naver.com/news.nhn?oid=082&aid=0001026539\n",
      "list index out of range\n",
      "https://sports.news.naver.com/news.nhn?oid=082&aid=0001026540\n",
      "list index out of range\n",
      "https://sports.news.naver.com/news.nhn?oid=082&aid=0001026541\n",
      "list index out of range\n",
      "https://sports.news.naver.com/news.nhn?oid=082&aid=0001026542\n",
      "list index out of range\n",
      "https://sports.news.naver.com/news.nhn?oid=082&aid=0001026543\n",
      "list index out of range\n",
      "https://sports.news.naver.com/news.nhn?oid=082&aid=0001026544\n",
      "list index out of range\n",
      "https://sports.news.naver.com/news.nhn?oid=082&aid=0001026545\n",
      "list index out of range\n",
      "https://sports.news.naver.com/news.nhn?oid=082&aid=0001026546\n",
      "list index out of range\n",
      "https://sports.news.naver.com/news.nhn?oid=082&aid=0001026547\n",
      "list index out of range\n",
      "https://sports.news.naver.com/news.nhn?oid=082&aid=0001026548\n",
      "list index out of range\n",
      "https://sports.news.naver.com/news.nhn?oid=082&aid=0001026549\n",
      "list index out of range\n",
      "https://sports.news.naver.com/news.nhn?oid=082&aid=0001026550\n",
      "list index out of range\n",
      "https://sports.news.naver.com/news.nhn?oid=082&aid=0001026551\n",
      "list index out of range\n",
      "https://sports.news.naver.com/news.nhn?oid=082&aid=0001026552\n",
      "list index out of range\n",
      "https://sports.news.naver.com/news.nhn?oid=082&aid=0001026553\n",
      "list index out of range\n",
      "https://sports.news.naver.com/news.nhn?oid=082&aid=0001026554\n",
      "list index out of range\n",
      "https://sports.news.naver.com/news.nhn?oid=082&aid=0001026555\n",
      "list index out of range\n",
      "https://sports.news.naver.com/news.nhn?oid=082&aid=0001026556\n",
      "list index out of range\n",
      "https://sports.news.naver.com/news.nhn?oid=082&aid=0001026557\n",
      "list index out of range\n",
      "https://sports.news.naver.com/news.nhn?oid=082&aid=0001026558\n",
      "list index out of range\n",
      "https://sports.news.naver.com/news.nhn?oid=082&aid=0001026559\n",
      "list index out of range\n",
      "https://sports.news.naver.com/news.nhn?oid=082&aid=0001026560\n",
      "list index out of range\n",
      "https://sports.news.naver.com/news.nhn?oid=082&aid=0001026561\n",
      "list index out of range\n",
      "https://sports.news.naver.com/news.nhn?oid=082&aid=0001026562\n",
      "list index out of range\n",
      "https://sports.news.naver.com/news.nhn?oid=082&aid=0001026563\n",
      "list index out of range\n",
      "https://sports.news.naver.com/news.nhn?oid=082&aid=0001026564\n",
      "list index out of range\n",
      "https://sports.news.naver.com/news.nhn?oid=082&aid=0001026565\n",
      "list index out of range\n",
      "https://sports.news.naver.com/news.nhn?oid=082&aid=0001026566\n",
      "list index out of range\n",
      "https://sports.news.naver.com/news.nhn?oid=082&aid=0001026606\n",
      "list index out of range\n",
      "https://sports.news.naver.com/news.nhn?oid=082&aid=0001026614\n",
      "list index out of range\n",
      "https://sports.news.naver.com/news.nhn?oid=082&aid=0001026808\n",
      "list index out of range\n",
      "https://sports.news.naver.com/news.nhn?oid=082&aid=0001026910\n",
      "list index out of range\n",
      "https://sports.news.naver.com/news.nhn?oid=082&aid=0001026940\n",
      "list index out of range\n",
      "https://sports.news.naver.com/news.nhn?oid=082&aid=0001027196\n",
      "list index out of range\n",
      "https://sports.news.naver.com/news.nhn?oid=082&aid=0001027258\n",
      "list index out of range\n",
      "https://sports.news.naver.com/news.nhn?oid=082&aid=0001027276\n",
      "list index out of range\n",
      "https://sports.news.naver.com/news.nhn?oid=082&aid=0001027284\n",
      "list index out of range\n",
      "https://sports.news.naver.com/news.nhn?oid=082&aid=0001027366\n",
      "list index out of range\n",
      "https://sports.news.naver.com/news.nhn?oid=082&aid=0001027478\n",
      "list index out of range\n",
      "https://sports.news.naver.com/news.nhn?oid=082&aid=0001027608\n",
      "list index out of range\n",
      "https://sports.news.naver.com/news.nhn?oid=082&aid=0001027719\n",
      "list index out of range\n",
      "https://sports.news.naver.com/news.nhn?oid=082&aid=0001028010\n",
      "list index out of range\n",
      "https://sports.news.naver.com/news.nhn?oid=082&aid=0001028151\n",
      "list index out of range\n",
      "https://sports.news.naver.com/news.nhn?oid=082&aid=0001028168\n",
      "list index out of range\n",
      "https://sports.news.naver.com/news.nhn?oid=082&aid=0001028172\n",
      "list index out of range\n",
      "https://sports.news.naver.com/news.nhn?oid=082&aid=0001028335\n",
      "list index out of range\n",
      "https://sports.news.naver.com/news.nhn?oid=082&aid=0001028395\n",
      "list index out of range\n",
      "https://sports.news.naver.com/news.nhn?oid=082&aid=0001028450\n",
      "list index out of range\n",
      "https://sports.news.naver.com/news.nhn?oid=082&aid=0001028804\n",
      "list index out of range\n",
      "https://sports.news.naver.com/news.nhn?oid=082&aid=0001028891\n",
      "list index out of range\n",
      "https://sports.news.naver.com/news.nhn?oid=082&aid=0001028928\n",
      "list index out of range\n",
      "https://sports.news.naver.com/news.nhn?oid=082&aid=0001029044\n",
      "list index out of range\n",
      "https://sports.news.naver.com/news.nhn?oid=082&aid=0001029138\n",
      "list index out of range\n",
      "https://sports.news.naver.com/news.nhn?oid=082&aid=0001029363\n",
      "list index out of range\n",
      "https://sports.news.naver.com/news.nhn?oid=082&aid=0001029599\n",
      "list index out of range\n",
      "https://sports.news.naver.com/news.nhn?oid=082&aid=0001030112\n",
      "list index out of range\n",
      "https://sports.news.naver.com/news.nhn?oid=082&aid=0001030113\n",
      "list index out of range\n",
      "https://sports.news.naver.com/news.nhn?oid=082&aid=0001030207\n",
      "list index out of range\n",
      "https://sports.news.naver.com/news.nhn?oid=082&aid=0001030610\n",
      "list index out of range\n",
      "https://sports.news.naver.com/news.nhn?oid=082&aid=0001030806\n",
      "list index out of range\n",
      "https://sports.news.naver.com/news.nhn?oid=082&aid=0001031336\n",
      "list index out of range\n",
      "https://sports.news.naver.com/news.nhn?oid=082&aid=0001031386\n",
      "list index out of range\n",
      "https://sports.news.naver.com/news.nhn?oid=082&aid=0001032089\n",
      "list index out of range\n",
      "https://sports.news.naver.com/news.nhn?oid=082&aid=0001032094\n",
      "list index out of range\n",
      "https://sports.news.naver.com/news.nhn?oid=082&aid=0001032557\n",
      "list index out of range\n",
      "https://sports.news.naver.com/news.nhn?oid=082&aid=0001032592\n",
      "list index out of range\n",
      "https://sports.news.naver.com/news.nhn?oid=082&aid=0001032901\n",
      "list index out of range\n",
      "https://sports.news.naver.com/news.nhn?oid=082&aid=0001032952\n",
      "list index out of range\n",
      "https://sports.news.naver.com/news.nhn?oid=082&aid=0001032990\n",
      "list index out of range\n",
      "https://sports.news.naver.com/news.nhn?oid=082&aid=0001033128\n",
      "list index out of range\n",
      "https://sports.news.naver.com/news.nhn?oid=082&aid=0001033161\n",
      "list index out of range\n",
      "https://sports.news.naver.com/news.nhn?oid=082&aid=0001033205\n",
      "list index out of range\n",
      "https://sports.news.naver.com/news.nhn?oid=082&aid=0001033576\n",
      "list index out of range\n",
      "https://sports.news.naver.com/news.nhn?oid=082&aid=0001033865\n",
      "list index out of range\n",
      "https://sports.news.naver.com/news.nhn?oid=082&aid=0001034178\n",
      "list index out of range\n",
      "https://sports.news.naver.com/news.nhn?oid=082&aid=0001034432\n",
      "list index out of range\n",
      "https://sports.news.naver.com/news.nhn?oid=082&aid=0001034463\n",
      "list index out of range\n",
      "https://sports.news.naver.com/news.nhn?oid=082&aid=0001034476\n",
      "list index out of range\n",
      "https://sports.news.naver.com/news.nhn?oid=082&aid=0001034590\n",
      "list index out of range\n",
      "https://sports.news.naver.com/news.nhn?oid=082&aid=0001034676\n",
      "list index out of range\n",
      "https://sports.news.naver.com/news.nhn?oid=082&aid=0001034731\n",
      "list index out of range\n",
      "https://sports.news.naver.com/news.nhn?oid=082&aid=0001035105\n",
      "list index out of range\n",
      "https://sports.news.naver.com/news.nhn?oid=082&aid=0001035555\n",
      "list index out of range\n",
      "https://sports.news.naver.com/news.nhn?oid=082&aid=0001035807\n",
      "list index out of range\n",
      "https://sports.news.naver.com/news.nhn?oid=082&aid=0001035875\n",
      "list index out of range\n",
      "https://sports.news.naver.com/news.nhn?oid=082&aid=0001036029\n",
      "list index out of range\n",
      "https://sports.news.naver.com/news.nhn?oid=082&aid=0001036033\n",
      "list index out of range\n",
      "https://sports.news.naver.com/news.nhn?oid=082&aid=0001036177\n",
      "list index out of range\n",
      "https://sports.news.naver.com/news.nhn?oid=082&aid=0001036909\n",
      "list index out of range\n",
      "https://sports.news.naver.com/news.nhn?oid=082&aid=0001037129\n",
      "list index out of range\n",
      "https://sports.news.naver.com/news.nhn?oid=082&aid=0001037233\n",
      "list index out of range\n",
      "https://sports.news.naver.com/news.nhn?oid=082&aid=0001037434\n",
      "list index out of range\n",
      "https://sports.news.naver.com/news.nhn?oid=082&aid=0001037440\n",
      "list index out of range\n",
      "https://sports.news.naver.com/news.nhn?oid=082&aid=0001037450\n",
      "list index out of range\n",
      "https://sports.news.naver.com/news.nhn?oid=082&aid=0001037453\n",
      "list index out of range\n",
      "https://sports.news.naver.com/news.nhn?oid=082&aid=0001037471\n",
      "list index out of range\n",
      "https://sports.news.naver.com/news.nhn?oid=082&aid=0001037526\n",
      "list index out of range\n",
      "https://sports.news.naver.com/news.nhn?oid=082&aid=0001037551\n",
      "list index out of range\n",
      "https://sports.news.naver.com/news.nhn?oid=082&aid=0001037797\n",
      "list index out of range\n",
      "https://sports.news.naver.com/news.nhn?oid=082&aid=0001037871\n",
      "list index out of range\n",
      "https://sports.news.naver.com/news.nhn?oid=082&aid=0001038080\n",
      "list index out of range\n",
      "https://sports.news.naver.com/news.nhn?oid=082&aid=0001038171\n",
      "list index out of range\n",
      "https://sports.news.naver.com/news.nhn?oid=082&aid=0001038239\n",
      "list index out of range\n",
      "https://sports.news.naver.com/news.nhn?oid=082&aid=0001038351\n",
      "list index out of range\n",
      "https://sports.news.naver.com/news.nhn?oid=082&aid=0001038353\n",
      "list index out of range\n",
      "https://sports.news.naver.com/news.nhn?oid=082&aid=0001038447\n",
      "list index out of range\n",
      "https://sports.news.naver.com/news.nhn?oid=082&aid=0001038528\n",
      "list index out of range\n",
      "https://sports.news.naver.com/news.nhn?oid=082&aid=0001038679\n",
      "list index out of range\n",
      "https://sports.news.naver.com/news.nhn?oid=082&aid=0001038756\n",
      "list index out of range\n",
      "https://sports.news.naver.com/news.nhn?oid=082&aid=0001039009\n",
      "list index out of range\n",
      "https://sports.news.naver.com/news.nhn?oid=082&aid=0001039422\n",
      "list index out of range\n",
      "https://sports.news.naver.com/news.nhn?oid=082&aid=0001039635\n",
      "list index out of range\n",
      "https://sports.news.naver.com/news.nhn?oid=082&aid=0001040361\n",
      "list index out of range\n",
      "https://sports.news.naver.com/news.nhn?oid=082&aid=0001040846\n",
      "list index out of range\n",
      "https://sports.news.naver.com/news.nhn?oid=082&aid=0001040970\n",
      "list index out of range\n",
      "https://sports.news.naver.com/news.nhn?oid=082&aid=0001040972\n",
      "list index out of range\n",
      "https://sports.news.naver.com/news.nhn?oid=082&aid=0001040973\n",
      "list index out of range\n",
      "https://sports.news.naver.com/news.nhn?oid=082&aid=0001041001\n",
      "list index out of range\n",
      "https://sports.news.naver.com/news.nhn?oid=082&aid=0001041395\n",
      "list index out of range\n",
      "https://sports.news.naver.com/news.nhn?oid=082&aid=0001042257\n",
      "list index out of range\n",
      "https://sports.news.naver.com/news.nhn?oid=082&aid=0001042411\n",
      "list index out of range\n",
      "https://sports.news.naver.com/news.nhn?oid=082&aid=0001042412\n",
      "list index out of range\n",
      "https://sports.news.naver.com/news.nhn?oid=082&aid=0001042413\n",
      "list index out of range\n",
      "https://sports.news.naver.com/news.nhn?oid=082&aid=0001042530\n",
      "list index out of range\n",
      "https://sports.news.naver.com/news.nhn?oid=082&aid=0001042729\n",
      "list index out of range\n",
      "https://sports.news.naver.com/news.nhn?oid=082&aid=0001042836\n",
      "list index out of range\n",
      "https://sports.news.naver.com/news.nhn?oid=082&aid=0001042837\n",
      "list index out of range\n",
      "https://sports.news.naver.com/news.nhn?oid=082&aid=0001042967\n",
      "list index out of range\n",
      "https://sports.news.naver.com/news.nhn?oid=082&aid=0001043085\n",
      "list index out of range\n",
      "https://sports.news.naver.com/news.nhn?oid=082&aid=0001043141\n",
      "list index out of range\n",
      "https://sports.news.naver.com/news.nhn?oid=082&aid=0001043153\n",
      "list index out of range\n",
      "https://sports.news.naver.com/news.nhn?oid=082&aid=0001043262\n",
      "list index out of range\n",
      "https://sports.news.naver.com/news.nhn?oid=082&aid=0001043384\n",
      "list index out of range\n",
      "https://sports.news.naver.com/news.nhn?oid=082&aid=0001043728\n",
      "list index out of range\n",
      "https://sports.news.naver.com/news.nhn?oid=082&aid=0001043864\n",
      "list index out of range\n",
      "https://sports.news.naver.com/news.nhn?oid=082&aid=0001044078\n",
      "list index out of range\n",
      "https://sports.news.naver.com/news.nhn?oid=082&aid=0001044287\n",
      "list index out of range\n",
      "https://sports.news.naver.com/news.nhn?oid=082&aid=0001044290\n",
      "list index out of range\n",
      "https://sports.news.naver.com/news.nhn?oid=082&aid=0001044305\n",
      "list index out of range\n",
      "https://sports.news.naver.com/news.nhn?oid=082&aid=0001044393\n",
      "list index out of range\n",
      "https://sports.news.naver.com/news.nhn?oid=082&aid=0001045050\n",
      "list index out of range\n",
      "https://sports.news.naver.com/news.nhn?oid=082&aid=0001045153\n",
      "list index out of range\n",
      "https://sports.news.naver.com/news.nhn?oid=082&aid=0001045415\n",
      "list index out of range\n",
      "https://sports.news.naver.com/news.nhn?oid=082&aid=0001045472\n",
      "list index out of range\n",
      "https://sports.news.naver.com/news.nhn?oid=082&aid=0001045479\n",
      "list index out of range\n",
      "https://sports.news.naver.com/news.nhn?oid=082&aid=0001045594\n",
      "list index out of range\n",
      "https://sports.news.naver.com/news.nhn?oid=082&aid=0001045752\n",
      "list index out of range\n",
      "https://sports.news.naver.com/news.nhn?oid=082&aid=0001046029\n",
      "list index out of range\n",
      "https://sports.news.naver.com/news.nhn?oid=082&aid=0001046150\n",
      "list index out of range\n",
      "https://sports.news.naver.com/news.nhn?oid=082&aid=0001046156\n",
      "list index out of range\n",
      "https://sports.news.naver.com/news.nhn?oid=082&aid=0001046611\n",
      "list index out of range\n",
      "https://sports.news.naver.com/news.nhn?oid=082&aid=0001046729\n",
      "list index out of range\n",
      "https://sports.news.naver.com/news.nhn?oid=082&aid=0001046783\n",
      "list index out of range\n",
      "\n"
     ]
    }
   ],
   "source": [
    "total_body = pd.DataFrame(columns = ['sentence', 'link'])\n",
    "\n",
    "for item in tqdm(range(START_POINT, END_POINT)):\n",
    "    item_str = fill_zero(item)\n",
    "    item_link = LINK + item_str\n",
    "    \n",
    "    req = requests.get(item_link)\n",
    "    soup = BeautifulSoup(req.text, 'html.parser')\n",
    "    \n",
    "    try:\n",
    "        body = str(soup.select('div.news_end')[0]).split('<br/>')\n",
    "        body = [text for text in body if '<' not in text and len(text) > 0 and '기자' not in text]\n",
    "        body = ' '.join(body)\n",
    "        body = body.split('. ')\n",
    "        \n",
    "        if len(body) == 0:\n",
    "            raise ValueError(\"Body missing!\")\n",
    "        \n",
    "        body = pd.DataFrame([body], index = ['sentence']).transpose()\n",
    "        body['link'] = item_str\n",
    "        \n",
    "        total_body = pd.concat([total_body, body])\n",
    "        \n",
    "    except Exception as ex:\n",
    "        print(item_link)\n",
    "        print(ex)\n",
    "        pass"
   ]
  },
  {
   "cell_type": "code",
   "execution_count": 170,
   "metadata": {},
   "outputs": [],
   "source": [
    "from konlpy.tag import Okt\n",
    "Token = Okt()\n",
    "total_body['tokenizer'] = total_body['sentence'].apply(lambda x: Token.nouns(x))"
   ]
  },
  {
   "cell_type": "code",
   "execution_count": 171,
   "metadata": {},
   "outputs": [
    {
     "data": {
      "text/html": [
       "<div>\n",
       "<style scoped>\n",
       "    .dataframe tbody tr th:only-of-type {\n",
       "        vertical-align: middle;\n",
       "    }\n",
       "\n",
       "    .dataframe tbody tr th {\n",
       "        vertical-align: top;\n",
       "    }\n",
       "\n",
       "    .dataframe thead th {\n",
       "        text-align: right;\n",
       "    }\n",
       "</style>\n",
       "<table border=\"1\" class=\"dataframe\">\n",
       "  <thead>\n",
       "    <tr style=\"text-align: right;\">\n",
       "      <th></th>\n",
       "      <th>sentence</th>\n",
       "      <th>link</th>\n",
       "      <th>tokenizer</th>\n",
       "    </tr>\n",
       "  </thead>\n",
       "  <tbody>\n",
       "    <tr>\n",
       "      <th>0</th>\n",
       "      <td>코로나19 사태가 확산하면서 연초부터 글로벌 교역이 얼어붙었다</td>\n",
       "      <td>0001000000</td>\n",
       "      <td>[코로나, 사태, 확산, 연초, 글로벌, 교역]</td>\n",
       "    </tr>\n",
       "    <tr>\n",
       "      <th>1</th>\n",
       "      <td>지난 2월 세계 각국 수출액을 비교한 결과 68개 조사대상국 가운데 37곳의 무역액...</td>\n",
       "      <td>0001000000</td>\n",
       "      <td>[지난, 세계, 각국, 수출, 액, 비교, 결과, 개, 상국, 가운데, 곳, 무역,...</td>\n",
       "    </tr>\n",
       "    <tr>\n",
       "      <th>2</th>\n",
       "      <td>특히 한국은 2월 수출액이 4% 가까이 증가하면서 주요 선진국 가운데 증가율로 3위...</td>\n",
       "      <td>0001000000</td>\n",
       "      <td>[한국, 수출, 액, 가까이, 증가, 주요, 선진국, 가운데, 증가, 율, 위, 기록]</td>\n",
       "    </tr>\n",
       "    <tr>\n",
       "      <th>3</th>\n",
       "      <td>이는 조업일수 증가에 따른 결과로, 전망은 밝지 않은 상태다</td>\n",
       "      <td>0001000000</td>\n",
       "      <td>[조업, 일수, 증가, 결과, 전망, 상태]</td>\n",
       "    </tr>\n",
       "    <tr>\n",
       "      <th>4</th>\n",
       "      <td>3일 세계무역기구(WTO)의 월간 상품무역 통계를 분석한 결과, 한국의 2월 수출액...</td>\n",
       "      <td>0001000000</td>\n",
       "      <td>[세계, 무역, 기구, 의, 월간, 상품, 무역, 통계, 분석, 결과, 한국, 수출...</td>\n",
       "    </tr>\n",
       "    <tr>\n",
       "      <th>...</th>\n",
       "      <td>...</td>\n",
       "      <td>...</td>\n",
       "      <td>...</td>\n",
       "    </tr>\n",
       "    <tr>\n",
       "      <th>4</th>\n",
       "      <td>또 노 전대통령 생가 입구 봉하로 구간에는 ‘하의로’ 도로명을 부여했다</td>\n",
       "      <td>0001046815</td>\n",
       "      <td>[또, 노, 전대통령, 생가, 입구, 봉하, 구간, 하의, 도로명, 부여]</td>\n",
       "    </tr>\n",
       "    <tr>\n",
       "      <th>5</th>\n",
       "      <td>또 노 전 대통령 생가인 봉하마을 관광안내소 주변에 이번 명예도로명 부여 경위와 의...</td>\n",
       "      <td>0001046815</td>\n",
       "      <td>[또, 노, 전, 대통령, 생가, 봉하마을, 관광, 안내소, 주변, 이번, 명예, ...</td>\n",
       "    </tr>\n",
       "    <tr>\n",
       "      <th>6</th>\n",
       "      <td>앞서 전남 신안군은 지난달 김해시와의 자매결연 1주년 맞아 김대중 전 대통령의 고향...</td>\n",
       "      <td>0001046815</td>\n",
       "      <td>[앞서, 전남, 신안군, 지난달, 김해시, 자매, 결연, 주년, 김대중, 전, 대통...</td>\n",
       "    </tr>\n",
       "    <tr>\n",
       "      <th>7</th>\n",
       "      <td>가야왕도인 김해시와 천사의 섬으로 불리는 신안군은 지난해 9월 24일 전직 대통령을...</td>\n",
       "      <td>0001046815</td>\n",
       "      <td>[가야, 왕도, 김해시, 천사, 섬, 신안군, 지난해, 전직, 대통령, 배출, 고장...</td>\n",
       "    </tr>\n",
       "    <tr>\n",
       "      <th>8</th>\n",
       "      <td>홍성옥 김해시 행정자치국장은 “이번 명예도로 부여는 민주주의와 평화를 실현하기 위해...</td>\n",
       "      <td>0001046815</td>\n",
       "      <td>[홍성, 옥, 김해시, 행정, 자치, 국장, 이번, 명예, 도로, 부여, 민주주의,...</td>\n",
       "    </tr>\n",
       "  </tbody>\n",
       "</table>\n",
       "<p>468428 rows × 3 columns</p>\n",
       "</div>"
      ],
      "text/plain": [
       "                                             sentence        link  \\\n",
       "0                  코로나19 사태가 확산하면서 연초부터 글로벌 교역이 얼어붙었다  0001000000   \n",
       "1   지난 2월 세계 각국 수출액을 비교한 결과 68개 조사대상국 가운데 37곳의 무역액...  0001000000   \n",
       "2   특히 한국은 2월 수출액이 4% 가까이 증가하면서 주요 선진국 가운데 증가율로 3위...  0001000000   \n",
       "3                   이는 조업일수 증가에 따른 결과로, 전망은 밝지 않은 상태다  0001000000   \n",
       "4   3일 세계무역기구(WTO)의 월간 상품무역 통계를 분석한 결과, 한국의 2월 수출액...  0001000000   \n",
       "..                                                ...         ...   \n",
       "4             또 노 전대통령 생가 입구 봉하로 구간에는 ‘하의로’ 도로명을 부여했다  0001046815   \n",
       "5   또 노 전 대통령 생가인 봉하마을 관광안내소 주변에 이번 명예도로명 부여 경위와 의...  0001046815   \n",
       "6   앞서 전남 신안군은 지난달 김해시와의 자매결연 1주년 맞아 김대중 전 대통령의 고향...  0001046815   \n",
       "7   가야왕도인 김해시와 천사의 섬으로 불리는 신안군은 지난해 9월 24일 전직 대통령을...  0001046815   \n",
       "8   홍성옥 김해시 행정자치국장은 “이번 명예도로 부여는 민주주의와 평화를 실현하기 위해...  0001046815   \n",
       "\n",
       "                                            tokenizer  \n",
       "0                          [코로나, 사태, 확산, 연초, 글로벌, 교역]  \n",
       "1   [지난, 세계, 각국, 수출, 액, 비교, 결과, 개, 상국, 가운데, 곳, 무역,...  \n",
       "2    [한국, 수출, 액, 가까이, 증가, 주요, 선진국, 가운데, 증가, 율, 위, 기록]  \n",
       "3                            [조업, 일수, 증가, 결과, 전망, 상태]  \n",
       "4   [세계, 무역, 기구, 의, 월간, 상품, 무역, 통계, 분석, 결과, 한국, 수출...  \n",
       "..                                                ...  \n",
       "4           [또, 노, 전대통령, 생가, 입구, 봉하, 구간, 하의, 도로명, 부여]  \n",
       "5   [또, 노, 전, 대통령, 생가, 봉하마을, 관광, 안내소, 주변, 이번, 명예, ...  \n",
       "6   [앞서, 전남, 신안군, 지난달, 김해시, 자매, 결연, 주년, 김대중, 전, 대통...  \n",
       "7   [가야, 왕도, 김해시, 천사, 섬, 신안군, 지난해, 전직, 대통령, 배출, 고장...  \n",
       "8   [홍성, 옥, 김해시, 행정, 자치, 국장, 이번, 명예, 도로, 부여, 민주주의,...  \n",
       "\n",
       "[468428 rows x 3 columns]"
      ]
     },
     "execution_count": 171,
     "metadata": {},
     "output_type": "execute_result"
    }
   ],
   "source": [
    "total_body"
   ]
  },
  {
   "cell_type": "code",
   "execution_count": 172,
   "metadata": {},
   "outputs": [],
   "source": [
    "model = Word2Vec(sentences = total_body['tokenizer'], size = 100, window = 5, min_count = 5, workers = 4, sg = 0)"
   ]
  },
  {
   "cell_type": "code",
   "execution_count": 248,
   "metadata": {},
   "outputs": [],
   "source": [
    "from sklearn.cluster import KMeans\n",
    "\n",
    "data = pd.DataFrame([model.wv.vocab.keys()], index = ['word']).transpose()"
   ]
  },
  {
   "cell_type": "code",
   "execution_count": 290,
   "metadata": {},
   "outputs": [
    {
     "data": {
      "application/vnd.jupyter.widget-view+json": {
       "model_id": "b94ab9867c394a9bb248ddaff66136e9",
       "version_major": 2,
       "version_minor": 0
      },
      "text/plain": [
       "HBox(children=(HTML(value=''), FloatProgress(value=0.0, max=27.0), HTML(value='')))"
      ]
     },
     "metadata": {},
     "output_type": "display_data"
    },
    {
     "name": "stdout",
     "output_type": "stream",
     "text": [
      "\n"
     ]
    }
   ],
   "source": [
    "inertia = list()\n",
    "for e in tqdm(range(3, 30)):\n",
    "    kmeans = KMeans(n_clusters = e)\n",
    "    kmeans.fit(X)\n",
    "    inertia.append(kmeans.inertia_)"
   ]
  },
  {
   "cell_type": "code",
   "execution_count": 292,
   "metadata": {},
   "outputs": [
    {
     "data": {
      "application/vnd.plotly.v1+json": {
       "config": {
        "plotlyServerURL": "https://plot.ly"
       },
       "data": [
        {
         "hovertemplate": "x=%{x}<br>y=%{y}<extra></extra>",
         "legendgroup": "",
         "line": {
          "color": "#636efa",
          "dash": "solid"
         },
         "mode": "lines",
         "name": "",
         "orientation": "v",
         "showlegend": false,
         "type": "scatter",
         "x": [
          3,
          4,
          5,
          6,
          7,
          8,
          9,
          10,
          11,
          12,
          13,
          14,
          15,
          16,
          17,
          18,
          19,
          20,
          21,
          22,
          23,
          24,
          25,
          26,
          27,
          28,
          29
         ],
         "xaxis": "x",
         "y": [
          609863.1875,
          594877.5625,
          583285.0625,
          573044.875,
          563449.9375,
          556784.8125,
          550478.625,
          544473.6875,
          538780.5,
          533951.1875,
          529566.875,
          525505.875,
          521448.40625,
          518537.875,
          514571.84375,
          511311.28125,
          508322.84375,
          504935.59375,
          502774.25,
          499674.5,
          497406.4375,
          494538,
          492739.3125,
          490741.34375,
          489029.125,
          486627.78125,
          484832.59375
         ],
         "yaxis": "y"
        }
       ],
       "layout": {
        "autosize": true,
        "legend": {
         "tracegroupgap": 0
        },
        "margin": {
         "t": 60
        },
        "template": {
         "data": {
          "bar": [
           {
            "error_x": {
             "color": "#2a3f5f"
            },
            "error_y": {
             "color": "#2a3f5f"
            },
            "marker": {
             "line": {
              "color": "#E5ECF6",
              "width": 0.5
             }
            },
            "type": "bar"
           }
          ],
          "barpolar": [
           {
            "marker": {
             "line": {
              "color": "#E5ECF6",
              "width": 0.5
             }
            },
            "type": "barpolar"
           }
          ],
          "carpet": [
           {
            "aaxis": {
             "endlinecolor": "#2a3f5f",
             "gridcolor": "white",
             "linecolor": "white",
             "minorgridcolor": "white",
             "startlinecolor": "#2a3f5f"
            },
            "baxis": {
             "endlinecolor": "#2a3f5f",
             "gridcolor": "white",
             "linecolor": "white",
             "minorgridcolor": "white",
             "startlinecolor": "#2a3f5f"
            },
            "type": "carpet"
           }
          ],
          "choropleth": [
           {
            "colorbar": {
             "outlinewidth": 0,
             "ticks": ""
            },
            "type": "choropleth"
           }
          ],
          "contour": [
           {
            "colorbar": {
             "outlinewidth": 0,
             "ticks": ""
            },
            "colorscale": [
             [
              0,
              "#0d0887"
             ],
             [
              0.1111111111111111,
              "#46039f"
             ],
             [
              0.2222222222222222,
              "#7201a8"
             ],
             [
              0.3333333333333333,
              "#9c179e"
             ],
             [
              0.4444444444444444,
              "#bd3786"
             ],
             [
              0.5555555555555556,
              "#d8576b"
             ],
             [
              0.6666666666666666,
              "#ed7953"
             ],
             [
              0.7777777777777778,
              "#fb9f3a"
             ],
             [
              0.8888888888888888,
              "#fdca26"
             ],
             [
              1,
              "#f0f921"
             ]
            ],
            "type": "contour"
           }
          ],
          "contourcarpet": [
           {
            "colorbar": {
             "outlinewidth": 0,
             "ticks": ""
            },
            "type": "contourcarpet"
           }
          ],
          "heatmap": [
           {
            "colorbar": {
             "outlinewidth": 0,
             "ticks": ""
            },
            "colorscale": [
             [
              0,
              "#0d0887"
             ],
             [
              0.1111111111111111,
              "#46039f"
             ],
             [
              0.2222222222222222,
              "#7201a8"
             ],
             [
              0.3333333333333333,
              "#9c179e"
             ],
             [
              0.4444444444444444,
              "#bd3786"
             ],
             [
              0.5555555555555556,
              "#d8576b"
             ],
             [
              0.6666666666666666,
              "#ed7953"
             ],
             [
              0.7777777777777778,
              "#fb9f3a"
             ],
             [
              0.8888888888888888,
              "#fdca26"
             ],
             [
              1,
              "#f0f921"
             ]
            ],
            "type": "heatmap"
           }
          ],
          "heatmapgl": [
           {
            "colorbar": {
             "outlinewidth": 0,
             "ticks": ""
            },
            "colorscale": [
             [
              0,
              "#0d0887"
             ],
             [
              0.1111111111111111,
              "#46039f"
             ],
             [
              0.2222222222222222,
              "#7201a8"
             ],
             [
              0.3333333333333333,
              "#9c179e"
             ],
             [
              0.4444444444444444,
              "#bd3786"
             ],
             [
              0.5555555555555556,
              "#d8576b"
             ],
             [
              0.6666666666666666,
              "#ed7953"
             ],
             [
              0.7777777777777778,
              "#fb9f3a"
             ],
             [
              0.8888888888888888,
              "#fdca26"
             ],
             [
              1,
              "#f0f921"
             ]
            ],
            "type": "heatmapgl"
           }
          ],
          "histogram": [
           {
            "marker": {
             "colorbar": {
              "outlinewidth": 0,
              "ticks": ""
             }
            },
            "type": "histogram"
           }
          ],
          "histogram2d": [
           {
            "colorbar": {
             "outlinewidth": 0,
             "ticks": ""
            },
            "colorscale": [
             [
              0,
              "#0d0887"
             ],
             [
              0.1111111111111111,
              "#46039f"
             ],
             [
              0.2222222222222222,
              "#7201a8"
             ],
             [
              0.3333333333333333,
              "#9c179e"
             ],
             [
              0.4444444444444444,
              "#bd3786"
             ],
             [
              0.5555555555555556,
              "#d8576b"
             ],
             [
              0.6666666666666666,
              "#ed7953"
             ],
             [
              0.7777777777777778,
              "#fb9f3a"
             ],
             [
              0.8888888888888888,
              "#fdca26"
             ],
             [
              1,
              "#f0f921"
             ]
            ],
            "type": "histogram2d"
           }
          ],
          "histogram2dcontour": [
           {
            "colorbar": {
             "outlinewidth": 0,
             "ticks": ""
            },
            "colorscale": [
             [
              0,
              "#0d0887"
             ],
             [
              0.1111111111111111,
              "#46039f"
             ],
             [
              0.2222222222222222,
              "#7201a8"
             ],
             [
              0.3333333333333333,
              "#9c179e"
             ],
             [
              0.4444444444444444,
              "#bd3786"
             ],
             [
              0.5555555555555556,
              "#d8576b"
             ],
             [
              0.6666666666666666,
              "#ed7953"
             ],
             [
              0.7777777777777778,
              "#fb9f3a"
             ],
             [
              0.8888888888888888,
              "#fdca26"
             ],
             [
              1,
              "#f0f921"
             ]
            ],
            "type": "histogram2dcontour"
           }
          ],
          "mesh3d": [
           {
            "colorbar": {
             "outlinewidth": 0,
             "ticks": ""
            },
            "type": "mesh3d"
           }
          ],
          "parcoords": [
           {
            "line": {
             "colorbar": {
              "outlinewidth": 0,
              "ticks": ""
             }
            },
            "type": "parcoords"
           }
          ],
          "pie": [
           {
            "automargin": true,
            "type": "pie"
           }
          ],
          "scatter": [
           {
            "marker": {
             "colorbar": {
              "outlinewidth": 0,
              "ticks": ""
             }
            },
            "type": "scatter"
           }
          ],
          "scatter3d": [
           {
            "line": {
             "colorbar": {
              "outlinewidth": 0,
              "ticks": ""
             }
            },
            "marker": {
             "colorbar": {
              "outlinewidth": 0,
              "ticks": ""
             }
            },
            "type": "scatter3d"
           }
          ],
          "scattercarpet": [
           {
            "marker": {
             "colorbar": {
              "outlinewidth": 0,
              "ticks": ""
             }
            },
            "type": "scattercarpet"
           }
          ],
          "scattergeo": [
           {
            "marker": {
             "colorbar": {
              "outlinewidth": 0,
              "ticks": ""
             }
            },
            "type": "scattergeo"
           }
          ],
          "scattergl": [
           {
            "marker": {
             "colorbar": {
              "outlinewidth": 0,
              "ticks": ""
             }
            },
            "type": "scattergl"
           }
          ],
          "scattermapbox": [
           {
            "marker": {
             "colorbar": {
              "outlinewidth": 0,
              "ticks": ""
             }
            },
            "type": "scattermapbox"
           }
          ],
          "scatterpolar": [
           {
            "marker": {
             "colorbar": {
              "outlinewidth": 0,
              "ticks": ""
             }
            },
            "type": "scatterpolar"
           }
          ],
          "scatterpolargl": [
           {
            "marker": {
             "colorbar": {
              "outlinewidth": 0,
              "ticks": ""
             }
            },
            "type": "scatterpolargl"
           }
          ],
          "scatterternary": [
           {
            "marker": {
             "colorbar": {
              "outlinewidth": 0,
              "ticks": ""
             }
            },
            "type": "scatterternary"
           }
          ],
          "surface": [
           {
            "colorbar": {
             "outlinewidth": 0,
             "ticks": ""
            },
            "colorscale": [
             [
              0,
              "#0d0887"
             ],
             [
              0.1111111111111111,
              "#46039f"
             ],
             [
              0.2222222222222222,
              "#7201a8"
             ],
             [
              0.3333333333333333,
              "#9c179e"
             ],
             [
              0.4444444444444444,
              "#bd3786"
             ],
             [
              0.5555555555555556,
              "#d8576b"
             ],
             [
              0.6666666666666666,
              "#ed7953"
             ],
             [
              0.7777777777777778,
              "#fb9f3a"
             ],
             [
              0.8888888888888888,
              "#fdca26"
             ],
             [
              1,
              "#f0f921"
             ]
            ],
            "type": "surface"
           }
          ],
          "table": [
           {
            "cells": {
             "fill": {
              "color": "#EBF0F8"
             },
             "line": {
              "color": "white"
             }
            },
            "header": {
             "fill": {
              "color": "#C8D4E3"
             },
             "line": {
              "color": "white"
             }
            },
            "type": "table"
           }
          ]
         },
         "layout": {
          "annotationdefaults": {
           "arrowcolor": "#2a3f5f",
           "arrowhead": 0,
           "arrowwidth": 1
          },
          "coloraxis": {
           "colorbar": {
            "outlinewidth": 0,
            "ticks": ""
           }
          },
          "colorscale": {
           "diverging": [
            [
             0,
             "#8e0152"
            ],
            [
             0.1,
             "#c51b7d"
            ],
            [
             0.2,
             "#de77ae"
            ],
            [
             0.3,
             "#f1b6da"
            ],
            [
             0.4,
             "#fde0ef"
            ],
            [
             0.5,
             "#f7f7f7"
            ],
            [
             0.6,
             "#e6f5d0"
            ],
            [
             0.7,
             "#b8e186"
            ],
            [
             0.8,
             "#7fbc41"
            ],
            [
             0.9,
             "#4d9221"
            ],
            [
             1,
             "#276419"
            ]
           ],
           "sequential": [
            [
             0,
             "#0d0887"
            ],
            [
             0.1111111111111111,
             "#46039f"
            ],
            [
             0.2222222222222222,
             "#7201a8"
            ],
            [
             0.3333333333333333,
             "#9c179e"
            ],
            [
             0.4444444444444444,
             "#bd3786"
            ],
            [
             0.5555555555555556,
             "#d8576b"
            ],
            [
             0.6666666666666666,
             "#ed7953"
            ],
            [
             0.7777777777777778,
             "#fb9f3a"
            ],
            [
             0.8888888888888888,
             "#fdca26"
            ],
            [
             1,
             "#f0f921"
            ]
           ],
           "sequentialminus": [
            [
             0,
             "#0d0887"
            ],
            [
             0.1111111111111111,
             "#46039f"
            ],
            [
             0.2222222222222222,
             "#7201a8"
            ],
            [
             0.3333333333333333,
             "#9c179e"
            ],
            [
             0.4444444444444444,
             "#bd3786"
            ],
            [
             0.5555555555555556,
             "#d8576b"
            ],
            [
             0.6666666666666666,
             "#ed7953"
            ],
            [
             0.7777777777777778,
             "#fb9f3a"
            ],
            [
             0.8888888888888888,
             "#fdca26"
            ],
            [
             1,
             "#f0f921"
            ]
           ]
          },
          "colorway": [
           "#636efa",
           "#EF553B",
           "#00cc96",
           "#ab63fa",
           "#FFA15A",
           "#19d3f3",
           "#FF6692",
           "#B6E880",
           "#FF97FF",
           "#FECB52"
          ],
          "font": {
           "color": "#2a3f5f"
          },
          "geo": {
           "bgcolor": "white",
           "lakecolor": "white",
           "landcolor": "#E5ECF6",
           "showlakes": true,
           "showland": true,
           "subunitcolor": "white"
          },
          "hoverlabel": {
           "align": "left"
          },
          "hovermode": "closest",
          "mapbox": {
           "style": "light"
          },
          "paper_bgcolor": "white",
          "plot_bgcolor": "#E5ECF6",
          "polar": {
           "angularaxis": {
            "gridcolor": "white",
            "linecolor": "white",
            "ticks": ""
           },
           "bgcolor": "#E5ECF6",
           "radialaxis": {
            "gridcolor": "white",
            "linecolor": "white",
            "ticks": ""
           }
          },
          "scene": {
           "xaxis": {
            "backgroundcolor": "#E5ECF6",
            "gridcolor": "white",
            "gridwidth": 2,
            "linecolor": "white",
            "showbackground": true,
            "ticks": "",
            "zerolinecolor": "white"
           },
           "yaxis": {
            "backgroundcolor": "#E5ECF6",
            "gridcolor": "white",
            "gridwidth": 2,
            "linecolor": "white",
            "showbackground": true,
            "ticks": "",
            "zerolinecolor": "white"
           },
           "zaxis": {
            "backgroundcolor": "#E5ECF6",
            "gridcolor": "white",
            "gridwidth": 2,
            "linecolor": "white",
            "showbackground": true,
            "ticks": "",
            "zerolinecolor": "white"
           }
          },
          "shapedefaults": {
           "line": {
            "color": "#2a3f5f"
           }
          },
          "ternary": {
           "aaxis": {
            "gridcolor": "white",
            "linecolor": "white",
            "ticks": ""
           },
           "baxis": {
            "gridcolor": "white",
            "linecolor": "white",
            "ticks": ""
           },
           "bgcolor": "#E5ECF6",
           "caxis": {
            "gridcolor": "white",
            "linecolor": "white",
            "ticks": ""
           }
          },
          "title": {
           "x": 0.05
          },
          "xaxis": {
           "automargin": true,
           "gridcolor": "white",
           "linecolor": "white",
           "ticks": "",
           "title": {
            "standoff": 15
           },
           "zerolinecolor": "white",
           "zerolinewidth": 2
          },
          "yaxis": {
           "automargin": true,
           "gridcolor": "white",
           "linecolor": "white",
           "ticks": "",
           "title": {
            "standoff": 15
           },
           "zerolinecolor": "white",
           "zerolinewidth": 2
          }
         }
        },
        "xaxis": {
         "anchor": "y",
         "autorange": true,
         "domain": [
          0,
          1
         ],
         "range": [
          3,
          29
         ],
         "title": {
          "text": "x"
         },
         "type": "linear"
        },
        "yaxis": {
         "anchor": "x",
         "autorange": true,
         "domain": [
          0,
          1
         ],
         "range": [
          477886.44965277775,
          616809.3315972222
         ],
         "title": {
          "text": "y"
         },
         "type": "linear"
        }
       }
      },
      "image/png": "[encoded data removed]",
      "text/html": [
       "<div>                            <div id=\"fe7330d9-1ae1-4fd8-8358-1ca22d3ae7b2\" class=\"plotly-graph-div\" style=\"height:525px; width:100%;\"></div>            <script type=\"text/javascript\">                require([\"plotly\"], function(Plotly) {                    window.PLOTLYENV=window.PLOTLYENV || {};                                    if (document.getElementById(\"fe7330d9-1ae1-4fd8-8358-1ca22d3ae7b2\")) {                    Plotly.newPlot(                        \"fe7330d9-1ae1-4fd8-8358-1ca22d3ae7b2\",                        [{\"hovertemplate\": \"x=%{x}<br>y=%{y}<extra></extra>\", \"legendgroup\": \"\", \"line\": {\"color\": \"#636efa\", \"dash\": \"solid\"}, \"mode\": \"lines\", \"name\": \"\", \"orientation\": \"v\", \"showlegend\": false, \"type\": \"scatter\", \"x\": [3, 4, 5, 6, 7, 8, 9, 10, 11, 12, 13, 14, 15, 16, 17, 18, 19, 20, 21, 22, 23, 24, 25, 26, 27, 28, 29], \"xaxis\": \"x\", \"y\": [609863.1875, 594877.5625, 583285.0625, 573044.875, 563449.9375, 556784.8125, 550478.625, 544473.6875, 538780.5, 533951.1875, 529566.875, 525505.875, 521448.40625, 518537.875, 514571.84375, 511311.28125, 508322.84375, 504935.59375, 502774.25, 499674.5, 497406.4375, 494538.0, 492739.3125, 490741.34375, 489029.125, 486627.78125, 484832.59375], \"yaxis\": \"y\"}],                        {\"legend\": {\"tracegroupgap\": 0}, \"margin\": {\"t\": 60}, \"template\": {\"data\": {\"bar\": [{\"error_x\": {\"color\": \"#2a3f5f\"}, \"error_y\": {\"color\": \"#2a3f5f\"}, \"marker\": {\"line\": {\"color\": \"#E5ECF6\", \"width\": 0.5}}, \"type\": \"bar\"}], \"barpolar\": [{\"marker\": {\"line\": {\"color\": \"#E5ECF6\", \"width\": 0.5}}, \"type\": \"barpolar\"}], \"carpet\": [{\"aaxis\": {\"endlinecolor\": \"#2a3f5f\", \"gridcolor\": \"white\", \"linecolor\": \"white\", \"minorgridcolor\": \"white\", \"startlinecolor\": \"#2a3f5f\"}, \"baxis\": {\"endlinecolor\": \"#2a3f5f\", \"gridcolor\": \"white\", \"linecolor\": \"white\", \"minorgridcolor\": \"white\", \"startlinecolor\": \"#2a3f5f\"}, \"type\": \"carpet\"}], \"choropleth\": [{\"colorbar\": {\"outlinewidth\": 0, \"ticks\": \"\"}, \"type\": \"choropleth\"}], \"contour\": [{\"colorbar\": {\"outlinewidth\": 0, \"ticks\": \"\"}, \"colorscale\": [[0.0, \"#0d0887\"], [0.1111111111111111, \"#46039f\"], [0.2222222222222222, \"#7201a8\"], [0.3333333333333333, \"#9c179e\"], [0.4444444444444444, \"#bd3786\"], [0.5555555555555556, \"#d8576b\"], [0.6666666666666666, \"#ed7953\"], [0.7777777777777778, \"#fb9f3a\"], [0.8888888888888888, \"#fdca26\"], [1.0, \"#f0f921\"]], \"type\": \"contour\"}], \"contourcarpet\": [{\"colorbar\": {\"outlinewidth\": 0, \"ticks\": \"\"}, \"type\": \"contourcarpet\"}], \"heatmap\": [{\"colorbar\": {\"outlinewidth\": 0, \"ticks\": \"\"}, \"colorscale\": [[0.0, \"#0d0887\"], [0.1111111111111111, \"#46039f\"], [0.2222222222222222, \"#7201a8\"], [0.3333333333333333, \"#9c179e\"], [0.4444444444444444, \"#bd3786\"], [0.5555555555555556, \"#d8576b\"], [0.6666666666666666, \"#ed7953\"], [0.7777777777777778, \"#fb9f3a\"], [0.8888888888888888, \"#fdca26\"], [1.0, \"#f0f921\"]], \"type\": \"heatmap\"}], \"heatmapgl\": [{\"colorbar\": {\"outlinewidth\": 0, \"ticks\": \"\"}, \"colorscale\": [[0.0, \"#0d0887\"], [0.1111111111111111, \"#46039f\"], [0.2222222222222222, \"#7201a8\"], [0.3333333333333333, \"#9c179e\"], [0.4444444444444444, \"#bd3786\"], [0.5555555555555556, \"#d8576b\"], [0.6666666666666666, \"#ed7953\"], [0.7777777777777778, \"#fb9f3a\"], [0.8888888888888888, \"#fdca26\"], [1.0, \"#f0f921\"]], \"type\": \"heatmapgl\"}], \"histogram\": [{\"marker\": {\"colorbar\": {\"outlinewidth\": 0, \"ticks\": \"\"}}, \"type\": \"histogram\"}], \"histogram2d\": [{\"colorbar\": {\"outlinewidth\": 0, \"ticks\": \"\"}, \"colorscale\": [[0.0, \"#0d0887\"], [0.1111111111111111, \"#46039f\"], [0.2222222222222222, \"#7201a8\"], [0.3333333333333333, \"#9c179e\"], [0.4444444444444444, \"#bd3786\"], [0.5555555555555556, \"#d8576b\"], [0.6666666666666666, \"#ed7953\"], [0.7777777777777778, \"#fb9f3a\"], [0.8888888888888888, \"#fdca26\"], [1.0, \"#f0f921\"]], \"type\": \"histogram2d\"}], \"histogram2dcontour\": [{\"colorbar\": {\"outlinewidth\": 0, \"ticks\": \"\"}, \"colorscale\": [[0.0, \"#0d0887\"], [0.1111111111111111, \"#46039f\"], [0.2222222222222222, \"#7201a8\"], [0.3333333333333333, \"#9c179e\"], [0.4444444444444444, \"#bd3786\"], [0.5555555555555556, \"#d8576b\"], [0.6666666666666666, \"#ed7953\"], [0.7777777777777778, \"#fb9f3a\"], [0.8888888888888888, \"#fdca26\"], [1.0, \"#f0f921\"]], \"type\": \"histogram2dcontour\"}], \"mesh3d\": [{\"colorbar\": {\"outlinewidth\": 0, \"ticks\": \"\"}, \"type\": \"mesh3d\"}], \"parcoords\": [{\"line\": {\"colorbar\": {\"outlinewidth\": 0, \"ticks\": \"\"}}, \"type\": \"parcoords\"}], \"pie\": [{\"automargin\": true, \"type\": \"pie\"}], \"scatter\": [{\"marker\": {\"colorbar\": {\"outlinewidth\": 0, \"ticks\": \"\"}}, \"type\": \"scatter\"}], \"scatter3d\": [{\"line\": {\"colorbar\": {\"outlinewidth\": 0, \"ticks\": \"\"}}, \"marker\": {\"colorbar\": {\"outlinewidth\": 0, \"ticks\": \"\"}}, \"type\": \"scatter3d\"}], \"scattercarpet\": [{\"marker\": {\"colorbar\": {\"outlinewidth\": 0, \"ticks\": \"\"}}, \"type\": \"scattercarpet\"}], \"scattergeo\": [{\"marker\": {\"colorbar\": {\"outlinewidth\": 0, \"ticks\": \"\"}}, \"type\": \"scattergeo\"}], \"scattergl\": [{\"marker\": {\"colorbar\": {\"outlinewidth\": 0, \"ticks\": \"\"}}, \"type\": \"scattergl\"}], \"scattermapbox\": [{\"marker\": {\"colorbar\": {\"outlinewidth\": 0, \"ticks\": \"\"}}, \"type\": \"scattermapbox\"}], \"scatterpolar\": [{\"marker\": {\"colorbar\": {\"outlinewidth\": 0, \"ticks\": \"\"}}, \"type\": \"scatterpolar\"}], \"scatterpolargl\": [{\"marker\": {\"colorbar\": {\"outlinewidth\": 0, \"ticks\": \"\"}}, \"type\": \"scatterpolargl\"}], \"scatterternary\": [{\"marker\": {\"colorbar\": {\"outlinewidth\": 0, \"ticks\": \"\"}}, \"type\": \"scatterternary\"}], \"surface\": [{\"colorbar\": {\"outlinewidth\": 0, \"ticks\": \"\"}, \"colorscale\": [[0.0, \"#0d0887\"], [0.1111111111111111, \"#46039f\"], [0.2222222222222222, \"#7201a8\"], [0.3333333333333333, \"#9c179e\"], [0.4444444444444444, \"#bd3786\"], [0.5555555555555556, \"#d8576b\"], [0.6666666666666666, \"#ed7953\"], [0.7777777777777778, \"#fb9f3a\"], [0.8888888888888888, \"#fdca26\"], [1.0, \"#f0f921\"]], \"type\": \"surface\"}], \"table\": [{\"cells\": {\"fill\": {\"color\": \"#EBF0F8\"}, \"line\": {\"color\": \"white\"}}, \"header\": {\"fill\": {\"color\": \"#C8D4E3\"}, \"line\": {\"color\": \"white\"}}, \"type\": \"table\"}]}, \"layout\": {\"annotationdefaults\": {\"arrowcolor\": \"#2a3f5f\", \"arrowhead\": 0, \"arrowwidth\": 1}, \"coloraxis\": {\"colorbar\": {\"outlinewidth\": 0, \"ticks\": \"\"}}, \"colorscale\": {\"diverging\": [[0, \"#8e0152\"], [0.1, \"#c51b7d\"], [0.2, \"#de77ae\"], [0.3, \"#f1b6da\"], [0.4, \"#fde0ef\"], [0.5, \"#f7f7f7\"], [0.6, \"#e6f5d0\"], [0.7, \"#b8e186\"], [0.8, \"#7fbc41\"], [0.9, \"#4d9221\"], [1, \"#276419\"]], \"sequential\": [[0.0, \"#0d0887\"], [0.1111111111111111, \"#46039f\"], [0.2222222222222222, \"#7201a8\"], [0.3333333333333333, \"#9c179e\"], [0.4444444444444444, \"#bd3786\"], [0.5555555555555556, \"#d8576b\"], [0.6666666666666666, \"#ed7953\"], [0.7777777777777778, \"#fb9f3a\"], [0.8888888888888888, \"#fdca26\"], [1.0, \"#f0f921\"]], \"sequentialminus\": [[0.0, \"#0d0887\"], [0.1111111111111111, \"#46039f\"], [0.2222222222222222, \"#7201a8\"], [0.3333333333333333, \"#9c179e\"], [0.4444444444444444, \"#bd3786\"], [0.5555555555555556, \"#d8576b\"], [0.6666666666666666, \"#ed7953\"], [0.7777777777777778, \"#fb9f3a\"], [0.8888888888888888, \"#fdca26\"], [1.0, \"#f0f921\"]]}, \"colorway\": [\"#636efa\", \"#EF553B\", \"#00cc96\", \"#ab63fa\", \"#FFA15A\", \"#19d3f3\", \"#FF6692\", \"#B6E880\", \"#FF97FF\", \"#FECB52\"], \"font\": {\"color\": \"#2a3f5f\"}, \"geo\": {\"bgcolor\": \"white\", \"lakecolor\": \"white\", \"landcolor\": \"#E5ECF6\", \"showlakes\": true, \"showland\": true, \"subunitcolor\": \"white\"}, \"hoverlabel\": {\"align\": \"left\"}, \"hovermode\": \"closest\", \"mapbox\": {\"style\": \"light\"}, \"paper_bgcolor\": \"white\", \"plot_bgcolor\": \"#E5ECF6\", \"polar\": {\"angularaxis\": {\"gridcolor\": \"white\", \"linecolor\": \"white\", \"ticks\": \"\"}, \"bgcolor\": \"#E5ECF6\", \"radialaxis\": {\"gridcolor\": \"white\", \"linecolor\": \"white\", \"ticks\": \"\"}}, \"scene\": {\"xaxis\": {\"backgroundcolor\": \"#E5ECF6\", \"gridcolor\": \"white\", \"gridwidth\": 2, \"linecolor\": \"white\", \"showbackground\": true, \"ticks\": \"\", \"zerolinecolor\": \"white\"}, \"yaxis\": {\"backgroundcolor\": \"#E5ECF6\", \"gridcolor\": \"white\", \"gridwidth\": 2, \"linecolor\": \"white\", \"showbackground\": true, \"ticks\": \"\", \"zerolinecolor\": \"white\"}, \"zaxis\": {\"backgroundcolor\": \"#E5ECF6\", \"gridcolor\": \"white\", \"gridwidth\": 2, \"linecolor\": \"white\", \"showbackground\": true, \"ticks\": \"\", \"zerolinecolor\": \"white\"}}, \"shapedefaults\": {\"line\": {\"color\": \"#2a3f5f\"}}, \"ternary\": {\"aaxis\": {\"gridcolor\": \"white\", \"linecolor\": \"white\", \"ticks\": \"\"}, \"baxis\": {\"gridcolor\": \"white\", \"linecolor\": \"white\", \"ticks\": \"\"}, \"bgcolor\": \"#E5ECF6\", \"caxis\": {\"gridcolor\": \"white\", \"linecolor\": \"white\", \"ticks\": \"\"}}, \"title\": {\"x\": 0.05}, \"xaxis\": {\"automargin\": true, \"gridcolor\": \"white\", \"linecolor\": \"white\", \"ticks\": \"\", \"title\": {\"standoff\": 15}, \"zerolinecolor\": \"white\", \"zerolinewidth\": 2}, \"yaxis\": {\"automargin\": true, \"gridcolor\": \"white\", \"linecolor\": \"white\", \"ticks\": \"\", \"title\": {\"standoff\": 15}, \"zerolinecolor\": \"white\", \"zerolinewidth\": 2}}}, \"xaxis\": {\"anchor\": \"y\", \"domain\": [0.0, 1.0], \"title\": {\"text\": \"x\"}}, \"yaxis\": {\"anchor\": \"x\", \"domain\": [0.0, 1.0], \"title\": {\"text\": \"y\"}}},                        {\"responsive\": true}                    ).then(function(){\n",
       "                            \n",
       "var gd = document.getElementById('fe7330d9-1ae1-4fd8-8358-1ca22d3ae7b2');\n",
       "var x = new MutationObserver(function (mutations, observer) {{\n",
       "        var display = window.getComputedStyle(gd).display;\n",
       "        if (!display || display === 'none') {{\n",
       "            console.log([gd, 'removed!']);\n",
       "            Plotly.purge(gd);\n",
       "            observer.disconnect();\n",
       "        }}\n",
       "}});\n",
       "\n",
       "// Listen for the removal of the full notebook cells\n",
       "var notebookContainer = gd.closest('#notebook-container');\n",
       "if (notebookContainer) {{\n",
       "    x.observe(notebookContainer, {childList: true});\n",
       "}}\n",
       "\n",
       "// Listen for the clearing of the current output cell\n",
       "var outputEl = gd.closest('.output');\n",
       "if (outputEl) {{\n",
       "    x.observe(outputEl, {childList: true});\n",
       "}}\n",
       "\n",
       "                        })                };                });            </script>        </div>"
      ]
     },
     "metadata": {},
     "output_type": "display_data"
    }
   ],
   "source": [
    "import plotly.express as px\n",
    "\n",
    "px.line(y = inertia, x = range(3, 30))"
   ]
  },
  {
   "cell_type": "code",
   "execution_count": 293,
   "metadata": {},
   "outputs": [],
   "source": [
    "CLUSTER = 30"
   ]
  },
  {
   "cell_type": "code",
   "execution_count": 294,
   "metadata": {},
   "outputs": [],
   "source": [
    "kmeans = KMeans(n_clusters = CLUSTER)\n",
    "kmeans.fit(X)\n",
    "inertia.append(kmeans.inertia_)\n",
    "X = model.wv[model.wv.vocab]"
   ]
  },
  {
   "cell_type": "code",
   "execution_count": 295,
   "metadata": {},
   "outputs": [],
   "source": [
    "labels = kmeans.labels_\n",
    "centroid = kmeans.cluster_centers_\n",
    "\n",
    "data['cluster_label'] = labels"
   ]
  },
  {
   "cell_type": "code",
   "execution_count": 313,
   "metadata": {},
   "outputs": [
    {
     "name": "stdout",
     "output_type": "stream",
     "text": [
      "****** INDEX: 0 ******\n",
      "['치노', '스트로베리', '모카', '포테이토', '퍼퓸', '크리미', '맥심', '루미', '블러드', '시크', '플랫', '허니', '프렌치', '엑스트라', '스푼', '라즈베리', '립스틱', '코코넛', '스파클링', '펄']\n",
      "****** INDEX: 1 ******\n",
      "['탈구', '종양', '협착증', '요도', '전립선', '뇌졸중', '백내장', '관절염', '당뇨병', '복부', '파킨슨병', '혈관', '비염', '한약', '변비', '호르몬', '갑상선', '고혈압', '고지혈증', '슬개골']\n",
      "****** INDEX: 2 ******\n",
      "['야채', '주스', '양념', '소고기', '구이', '된장', '샐러드', '볶음', '튀김', '간장', '생선', '토마토', '육수', '바나나', '옥수수', '고기', '과일', '국물', '육류', '햄']\n",
      "****** INDEX: 3 ******\n",
      "['추심', '증여세', '양도소득세', '상속세', '계산서', '계약해지', '양도', '벌점', '증여', '계약금', '청구', '추징', '귀속', '도세', '처분', '감액', '납입', '해지', '거절', '미납']\n",
      "****** INDEX: 4 ******\n",
      "['글라스', '믹스', '로우', '나이트', '슈즈', '플렉스', '아쿠아', '와이드', '폴', '드', '소프트', '프렌치', '다이슨', '핏', '리얼', '나이키', '체인지', '큐브', '플로', '블랙']\n",
      "****** INDEX: 5 ******\n",
      "['권고', '절차', '규정', '사유', '법적', '명시', '통지', '여부', '중지', '간소화', '처분', '조항', '즉시', '추후', '요건', '약관', '실효', '일괄', '계약서', '판단']\n",
      "****** INDEX: 6 ******\n",
      "['지하수', '유실', '오염원', '배수로', '하천', '수질오염', '오염', '염분', '악취', '해양오염', '적조', '어구', '해파리', '산사태', '붕괴', '염분농도', '바닷물', '방류', '비산', '해안가']\n",
      "****** INDEX: 7 ******\n",
      "['김선주', '물소', '닌', '김정선', '순열', '장다리', '청산리대첩', '만추', '추리닝', '물떼새', '홍순희', '케르', '낙풍루', '문학동네', '혜란', '이종희', '겁탈', '잔향', '필스너', '왕위']\n",
      "****** INDEX: 8 ******\n",
      "['감염', '방문자', '접촉', '증상', '확진', '환자', '면회', '격리', '이태원', '발열', '무증상', '검체', '종교시설', '밀접', '교인', '유증', '역학', '발병', '개성시', '접종']\n",
      "****** INDEX: 9 ******\n",
      "['싱가포르', '말레이시아', '미주', '동남아', '베트남', '인도네시아', '북미', '중국', '교역', '유럽', '터키', '필리핀', '아랍에미리트', '외국', '대만', '국영', '상하이', '태국', '항로', '해운업']\n",
      "****** INDEX: 10 ******\n",
      "['국정원장', '탄핵', '도부', '국회의장', '당내', '야권', '미래한국당', '인사청문회', '청문회', '야당', '여당', '재선', '공화당', '감사원장', '민주당', '당론', '박지원', '후임', '개헌', '퇴진']\n",
      "****** INDEX: 11 ******\n",
      "['로그인', '다운로드', '웹사이트', '애플리케이션', '모바일', '번가', '앱', '배너', '앱스토어', '페이지', '구독', '네이버', '멤버십', '포털사이트', '구글플레이', '웹', '예약', '인터파크', '접속', '기프트카드']\n",
      "****** INDEX: 12 ******\n",
      "['대학원생', '재학생', '신입생', '졸업생', '간호학', '진학', '휴학생', '이공', '교과', '학년', '본교', '교양', '전공', '동아대', '입학', '교원', '국어', '석사과정', '대학원', '특성화고']\n",
      "****** INDEX: 13 ******\n",
      "['입법', '정책', '논의', '검토', '심의', '실행', '국토부', '균형발전', '수립', '특별법', '의결', '중앙정부', '과제', '개정', '법령', '실효', '법제처', '초안', '지방정부', '공론']\n",
      "****** INDEX: 14 ******\n",
      "['모집', '별', '대상', '종사', '각', '별로', '인원', '해당', '직종', '개별', '자격', '관리자', '근로자', '신청', '채용', '근로', '인턴', '제외', '여개', '참여']\n",
      "****** INDEX: 15 ******\n",
      "['노경은', '박세웅', '호투', '결승', '민병헌', '다저스', '맨유', '레일리', '유격수', '데뷔전', '역전승', '마차도', '이대호', '맨시티', '유나이티드', '아스날', '아놀드', '강팀', '데스', '류현진']\n",
      "****** INDEX: 16 ******\n",
      "['뮤지컬', '연극', '발레', '합창', '국악', '오페라', '마술', '연주', '장르', '문학', '다큐멘터리', '음악', '오케스트라', '서예', '앙상블', '작곡', '음악가', '뮤지션', '안무', '예술가']\n",
      "****** INDEX: 17 ******\n",
      "['평균', '환율', '전월', '생산량', '하락', '순이익', '율도', '상승', '국가채무', '급량', '하량', '망치', '육박', '수익률', '비중', '흑자', '급락', '비율', '급감', '적자']\n",
      "****** INDEX: 18 ******\n",
      "['자동화', '사물인터넷', '전지', '차세대', '최첨단', '상용', '소프트웨어', '반도체', '고도화', '모듈', '메모리', '기술', '제어', '실증', '첨단', '이차전지', '연료', '소자', '나노', '표준화']\n",
      "****** INDEX: 19 ******\n",
      "['강서', '사하', '화명동', '여중', '장림', '용호동', '의창구', '마산합포구', '부곡동', '마산회원구', '진북면', '서동', '진해구', '상록', '성산구', '엄궁', '덕천', '명장동', '울주군', '범일동']\n",
      "****** INDEX: 20 ******\n",
      "['고도화', '혁신', '인프라', '도모', '선도', '지속', '역량', '상생', '활성화', '자립', '기반', '실현', '협력', '다각', '지속가능성', '향상', '노력', '발굴', '양질', '경쟁력']\n",
      "****** INDEX: 21 ******\n",
      "['산책로', '유원지', '전망대', '시가지', '버스정류장', '등산로', '선착장', '정류장', '터널', '해변', '맞은편', '고가도로', '마린시티', '해안', '광안대교', '뒤편', '돝섬', '송도', '호선', '옹벽']\n",
      "****** INDEX: 22 ******\n",
      "['김서현', '김소진', '변산', '강성우', '유치환', '송광사', '한석규', '무소유', '김원봉', '합스부르크', '지은희', '조조', '김동욱', '당나라', '나폴레옹', '대니', '이민영', '루이지애나', '추기경', '살풀이춤']\n",
      "****** INDEX: 23 ******\n",
      "['흡착', '액체', '재질', '전류', '표면', '옷감', '절단', '이온', '가열', '전해질', '분사', '멸균', '튜브', '먼지', '노즐', '개폐', '본체', '뚜껑', '부피', '알루미늄']\n",
      "****** INDEX: 24 ******\n",
      "['피의자', '강간', '방조', '계부', '추행', '폭로', '가담', '명예훼손', '피고', '가해자', '고소', '공범', '협박', '친모', '피고인', '피소', '최씨', '일삼', '죄', '우발']\n",
      "****** INDEX: 25 ******\n",
      "['역설', '근본', '본질', '여실히', '오히려', '현실', '초래', '체적', '맥락', '태도', '부각', '야기', '나가야', '외면', '논리', '지적도', '작용', '혼란', '절실', '타협']\n",
      "****** INDEX: 26 ******\n",
      "['누군가', '진짜', '뭔가', '언니', '애가', '하루하루', '그게', '듯이', '그냥', '슬픔', '그녀', '후회', '표정', '눈물', '일도', '아무', '장난', '당신', '핀잔', '짓']\n",
      "****** INDEX: 27 ******\n",
      "['세액', '한도', '납부', '법인세', '공제', '상환', '출금', '융자', '임대료', '차입', '소액', '인하', '보증금', '채무', '수수료', '연체', '과세', '추심', '회사채', '세금']\n",
      "****** INDEX: 28 ******\n",
      "['이웃', '어르신', '나눔', '성품', '밑반찬', '홀몸', '독거', '봉사활동', '관내', '홀로', '봉사자', '반찬', '삼계탕', '도시락', '거동', '온정', '생필품', '자원봉사자', '명절', '나누기']\n",
      "****** INDEX: 29 ******\n",
      "['협회장', '섭', '연구소장', '태', '고용노동부', '경상북도', '지부', '부총', '실장', '욱', '중앙회', '역임', '상공회의소', '총무', '신임', '상무이사', '김원', '영', '김성진', '노동조합']\n"
     ]
    }
   ],
   "source": [
    "count = 0\n",
    "for vec in centroid:\n",
    "    print(f\"****** INDEX: {count} ******\")\n",
    "    similarity = model.wv.similar_by_vector(vec, topn = 20)\n",
    "    print([key for key, value in similarity])\n",
    "    count += 1"
   ]
  },
  {
   "cell_type": "code",
   "execution_count": 345,
   "metadata": {},
   "outputs": [],
   "source": [
    "def get_cluster(kw):\n",
    "    global data\n",
    "    return data[data['word'] == kw]['cluster_label'].values[0]"
   ]
  },
  {
   "cell_type": "code",
   "execution_count": 350,
   "metadata": {},
   "outputs": [
    {
     "data": {
      "text/plain": [
       "[('치치', 0.8752561211585999),\n",
       " ('백진희', 0.8685622215270996),\n",
       " ('남희석', 0.868144154548645),\n",
       " ('서모', 0.8669694662094116),\n",
       " ('신봉선', 0.8667634725570679),\n",
       " ('박주현', 0.866719126701355),\n",
       " ('오덕', 0.8659499883651733),\n",
       " ('조르바', 0.8639810085296631),\n",
       " ('투루판', 0.8618869781494141),\n",
       " ('남천우', 0.8608510494232178)]"
      ]
     },
     "execution_count": 350,
     "metadata": {},
     "output_type": "execute_result"
    }
   ],
   "source": [
    "model.wv.most_similar('현무')"
   ]
  }
 ],
 "metadata": {
  "kernelspec": {
   "display_name": "Python 3",
   "language": "python",
   "name": "python3"
  },
  "language_info": {
   "codemirror_mode": {
    "name": "ipython",
    "version": 3
   },
   "file_extension": ".py",
   "mimetype": "text/x-python",
   "name": "python",
   "nbconvert_exporter": "python",
   "pygments_lexer": "ipython3",
   "version": "3.8.2"
  }
 },
 "nbformat": 4,
 "nbformat_minor": 4
}
