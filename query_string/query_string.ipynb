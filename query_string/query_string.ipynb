{
 "cells": [
  {
   "cell_type": "code",
   "execution_count": 2,
   "metadata": {},
   "outputs": [],
   "source": [
    "import query_string"
   ]
  },
  {
   "cell_type": "code",
   "execution_count": 6,
   "metadata": {},
   "outputs": [],
   "source": [
    "# Query String train 데이터 전처리 코드\n",
    "data_frame = query_string.keyword_preprocess(file_name = './train_searchkeywords.tab')\n",
    "cross_sectional = query_string.aggregate_keyword_data(data_frame)\n",
    "cross_sectional.to_csv('./preprocess_querystring.csv')"
   ]
  },
  {
   "cell_type": "code",
   "execution_count": 3,
   "metadata": {},
   "outputs": [],
   "source": [
    "# Query String test 데이터 전처리 코드\n",
    "data_frame_test = query_string.keyword_preprocess(file_name = './test_searchkeywords.tab')\n",
    "cross_sectional = query_string.aggregate_keyword_data(data_frame_test)\n",
    "cross_sectional.to_csv('./preprocess_querystring_test.csv')"
   ]
  }
 ],
 "metadata": {
  "kernelspec": {
   "display_name": "Python 3",
   "language": "python",
   "name": "python3"
  },
  "language_info": {
   "codemirror_mode": {
    "name": "ipython",
    "version": 3
   },
   "file_extension": ".py",
   "mimetype": "text/x-python",
   "name": "python",
   "nbconvert_exporter": "python",
   "pygments_lexer": "ipython3",
   "version": "3.8.2"
  }
 },
 "nbformat": 4,
 "nbformat_minor": 4
}
