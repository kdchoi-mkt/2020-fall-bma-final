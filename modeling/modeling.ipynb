{
 "cells": [
  {
   "cell_type": "code",
   "execution_count": 162,
   "metadata": {},
   "outputs": [],
   "source": [
    "import pandas as pd\n",
    "from pycaret.classification import *"
   ]
  },
  {
   "cell_type": "code",
   "execution_count": 16,
   "metadata": {},
   "outputs": [],
   "source": [
    "clickstream = pd.read_csv('./clickstream_preprocess.csv')\\\n",
    "                .set_index('CUS_ID')\n",
    "\n",
    "keyword = pd.read_csv('./keyword_preprocess.csv')\\\n",
    "            .set_index('CUS_ID')\n",
    "\n",
    "profile = pd.read_csv('./profile_preprocess.csv')\\\n",
    "            .set_index('CUS_ID')"
   ]
  },
  {
   "cell_type": "code",
   "execution_count": 183,
   "metadata": {},
   "outputs": [],
   "source": [
    "cross_sectional_data = clickstream.join(keyword, how = 'outer')\\\n",
    "                                  .join(profile, how = 'outer')\\\n",
    "                                  .fillna(0)"
   ]
  },
  {
   "cell_type": "code",
   "execution_count": 189,
   "metadata": {},
   "outputs": [
    {
     "data": {
      "application/vnd.jupyter.widget-view+json": {
       "model_id": "bf19b1636e314d27bde0a2420a51985f",
       "version_major": 2,
       "version_minor": 0
      },
      "text/plain": [
       "IntProgress(value=0, description='Processing: ', max=3)"
      ]
     },
     "metadata": {},
     "output_type": "display_data"
    },
    {
     "data": {
      "text/html": [
       "<div>\n",
       "<style scoped>\n",
       "    .dataframe tbody tr th:only-of-type {\n",
       "        vertical-align: middle;\n",
       "    }\n",
       "\n",
       "    .dataframe tbody tr th {\n",
       "        vertical-align: top;\n",
       "    }\n",
       "\n",
       "    .dataframe thead th {\n",
       "        text-align: right;\n",
       "    }\n",
       "</style>\n",
       "<table border=\"1\" class=\"dataframe\">\n",
       "  <thead>\n",
       "    <tr style=\"text-align: right;\">\n",
       "      <th></th>\n",
       "      <th></th>\n",
       "      <th></th>\n",
       "    </tr>\n",
       "    <tr>\n",
       "      <th></th>\n",
       "      <th></th>\n",
       "      <th></th>\n",
       "    </tr>\n",
       "  </thead>\n",
       "  <tbody>\n",
       "    <tr>\n",
       "      <th>Initiated</th>\n",
       "      <td>. . . . . . . . . . . . . . . . . .</td>\n",
       "      <td>17:36:29</td>\n",
       "    </tr>\n",
       "    <tr>\n",
       "      <th>Status</th>\n",
       "      <td>. . . . . . . . . . . . . . . . . .</td>\n",
       "      <td>Preprocessing Data</td>\n",
       "    </tr>\n",
       "  </tbody>\n",
       "</table>\n",
       "</div>"
      ],
      "text/plain": [
       "                                                                  \n",
       "                                                                  \n",
       "Initiated  . . . . . . . . . . . . . . . . . .            17:36:29\n",
       "Status     . . . . . . . . . . . . . . . . . .  Preprocessing Data"
      ]
     },
     "metadata": {},
     "output_type": "display_data"
    },
    {
     "data": {
      "application/vnd.jupyter.widget-view+json": {
       "model_id": "fd60f5e2255c4ef0ae67c67646471b34",
       "version_major": 2,
       "version_minor": 0
      },
      "text/plain": [
       "Text(value=\"Following data types have been inferred automatically, if they are correct press enter to continue…"
      ]
     },
     "metadata": {},
     "output_type": "display_data"
    },
    {
     "data": {
      "text/html": [
       "<div>\n",
       "<style scoped>\n",
       "    .dataframe tbody tr th:only-of-type {\n",
       "        vertical-align: middle;\n",
       "    }\n",
       "\n",
       "    .dataframe tbody tr th {\n",
       "        vertical-align: top;\n",
       "    }\n",
       "\n",
       "    .dataframe thead th {\n",
       "        text-align: right;\n",
       "    }\n",
       "</style>\n",
       "<table border=\"1\" class=\"dataframe\">\n",
       "  <thead>\n",
       "    <tr style=\"text-align: right;\">\n",
       "      <th></th>\n",
       "      <th>Data Type</th>\n",
       "    </tr>\n",
       "  </thead>\n",
       "  <tbody>\n",
       "    <tr>\n",
       "      <th>SITE_CNT_mean</th>\n",
       "      <td>Numeric</td>\n",
       "    </tr>\n",
       "    <tr>\n",
       "      <th>SITE_CNT_sum</th>\n",
       "      <td>Numeric</td>\n",
       "    </tr>\n",
       "    <tr>\n",
       "      <th>SITE_CNT_mean_Apr</th>\n",
       "      <td>Numeric</td>\n",
       "    </tr>\n",
       "    <tr>\n",
       "      <th>SITE_CNT_mean_Aug</th>\n",
       "      <td>Numeric</td>\n",
       "    </tr>\n",
       "    <tr>\n",
       "      <th>SITE_CNT_mean_Dec</th>\n",
       "      <td>Numeric</td>\n",
       "    </tr>\n",
       "    <tr>\n",
       "      <th>...</th>\n",
       "      <td>...</td>\n",
       "    </tr>\n",
       "    <tr>\n",
       "      <th>WORD_COUNT_AVG_AT_ONCE_FOR_LABEL_36</th>\n",
       "      <td>Numeric</td>\n",
       "    </tr>\n",
       "    <tr>\n",
       "      <th>WORD_COUNT_AVG_AT_ONCE_FOR_LABEL_37</th>\n",
       "      <td>Numeric</td>\n",
       "    </tr>\n",
       "    <tr>\n",
       "      <th>WORD_COUNT_AVG_AT_ONCE_FOR_LABEL_38</th>\n",
       "      <td>Numeric</td>\n",
       "    </tr>\n",
       "    <tr>\n",
       "      <th>WORD_COUNT_AVG_AT_ONCE_FOR_LABEL_39</th>\n",
       "      <td>Numeric</td>\n",
       "    </tr>\n",
       "    <tr>\n",
       "      <th>GROUP</th>\n",
       "      <td>Label</td>\n",
       "    </tr>\n",
       "  </tbody>\n",
       "</table>\n",
       "<p>245 rows × 1 columns</p>\n",
       "</div>"
      ],
      "text/plain": [
       "                                    Data Type\n",
       "SITE_CNT_mean                         Numeric\n",
       "SITE_CNT_sum                          Numeric\n",
       "SITE_CNT_mean_Apr                     Numeric\n",
       "SITE_CNT_mean_Aug                     Numeric\n",
       "SITE_CNT_mean_Dec                     Numeric\n",
       "...                                       ...\n",
       "WORD_COUNT_AVG_AT_ONCE_FOR_LABEL_36   Numeric\n",
       "WORD_COUNT_AVG_AT_ONCE_FOR_LABEL_37   Numeric\n",
       "WORD_COUNT_AVG_AT_ONCE_FOR_LABEL_38   Numeric\n",
       "WORD_COUNT_AVG_AT_ONCE_FOR_LABEL_39   Numeric\n",
       "GROUP                                   Label\n",
       "\n",
       "[245 rows x 1 columns]"
      ]
     },
     "metadata": {},
     "output_type": "display_data"
    },
    {
     "name": "stdin",
     "output_type": "stream",
     "text": [
      " \n"
     ]
    },
    {
     "name": "stdout",
     "output_type": "stream",
     "text": [
      "[LightGBM] [Warning] Accuracy may be bad since you didn't explicitly set num_leaves OR 2^max_depth > num_leaves. (num_leaves=31).\n"
     ]
    },
    {
     "name": "stderr",
     "output_type": "stream",
     "text": [
      "ERROR:root:Internal Python error in the inspect module.\n",
      "Below is the traceback from this internal error.\n",
      "\n",
      "\n",
      "KeyboardInterrupt\n",
      "\n"
     ]
    }
   ],
   "source": [
    "# Auto ML with pycaret\n",
    "\n",
    "setup(\n",
    "    data = cross_sectional_data.drop(columns = ['GENDER','AGE']), \n",
    "    target = 'GROUP', \n",
    "    session_id = 123, \n",
    "    pca = True,\n",
    "    pca_components = 100,\n",
    "    fix_imbalance = True,\n",
    "    ignore_low_variance = True,\n",
    "    remove_multicollinearity = True,\n",
    "    feature_selection = True,\n",
    "    feature_interaction = True,\n",
    "    feature_ratio = True\n",
    ")"
   ]
  },
  {
   "cell_type": "code",
   "execution_count": 186,
   "metadata": {},
   "outputs": [
    {
     "data": {
      "application/vnd.jupyter.widget-view+json": {
       "model_id": "cd5b7deac25c4339ad6bcbd0c7769855",
       "version_major": 2,
       "version_minor": 0
      },
      "text/plain": [
       "IntProgress(value=0, description='Processing: ', max=79)"
      ]
     },
     "metadata": {},
     "output_type": "display_data"
    },
    {
     "data": {
      "text/html": [
       "<div>\n",
       "<style scoped>\n",
       "    .dataframe tbody tr th:only-of-type {\n",
       "        vertical-align: middle;\n",
       "    }\n",
       "\n",
       "    .dataframe tbody tr th {\n",
       "        vertical-align: top;\n",
       "    }\n",
       "\n",
       "    .dataframe thead th {\n",
       "        text-align: right;\n",
       "    }\n",
       "</style>\n",
       "<table border=\"1\" class=\"dataframe\">\n",
       "  <thead>\n",
       "    <tr style=\"text-align: right;\">\n",
       "      <th></th>\n",
       "      <th></th>\n",
       "      <th></th>\n",
       "    </tr>\n",
       "    <tr>\n",
       "      <th></th>\n",
       "      <th></th>\n",
       "      <th></th>\n",
       "    </tr>\n",
       "  </thead>\n",
       "  <tbody>\n",
       "    <tr>\n",
       "      <th>Initiated</th>\n",
       "      <td>. . . . . . . . . . . . . . . . . .</td>\n",
       "      <td>17:36:29</td>\n",
       "    </tr>\n",
       "    <tr>\n",
       "      <th>Status</th>\n",
       "      <td>. . . . . . . . . . . . . . . . . .</td>\n",
       "      <td>Preprocessing Data</td>\n",
       "    </tr>\n",
       "  </tbody>\n",
       "</table>\n",
       "</div>"
      ],
      "text/plain": [
       "                                                                  \n",
       "                                                                  \n",
       "Initiated  . . . . . . . . . . . . . . . . . .            17:36:29\n",
       "Status     . . . . . . . . . . . . . . . . . .  Preprocessing Data"
      ]
     },
     "metadata": {},
     "output_type": "display_data"
    },
    {
     "data": {
      "text/html": [
       "<style  type=\"text/css\" >\n",
       "    #T_96866a18_442f_11eb_a4ec_acde48001122 th {\n",
       "          text-align: left;\n",
       "    }#T_96866a18_442f_11eb_a4ec_acde48001122row0_col0,#T_96866a18_442f_11eb_a4ec_acde48001122row0_col1,#T_96866a18_442f_11eb_a4ec_acde48001122row0_col2,#T_96866a18_442f_11eb_a4ec_acde48001122row0_col3,#T_96866a18_442f_11eb_a4ec_acde48001122row0_col4,#T_96866a18_442f_11eb_a4ec_acde48001122row0_col5,#T_96866a18_442f_11eb_a4ec_acde48001122row0_col6,#T_96866a18_442f_11eb_a4ec_acde48001122row0_col7,#T_96866a18_442f_11eb_a4ec_acde48001122row0_col8,#T_96866a18_442f_11eb_a4ec_acde48001122row1_col0,#T_96866a18_442f_11eb_a4ec_acde48001122row1_col1,#T_96866a18_442f_11eb_a4ec_acde48001122row1_col2,#T_96866a18_442f_11eb_a4ec_acde48001122row1_col3,#T_96866a18_442f_11eb_a4ec_acde48001122row1_col4,#T_96866a18_442f_11eb_a4ec_acde48001122row1_col5,#T_96866a18_442f_11eb_a4ec_acde48001122row1_col6,#T_96866a18_442f_11eb_a4ec_acde48001122row1_col7,#T_96866a18_442f_11eb_a4ec_acde48001122row1_col8,#T_96866a18_442f_11eb_a4ec_acde48001122row2_col0,#T_96866a18_442f_11eb_a4ec_acde48001122row2_col1,#T_96866a18_442f_11eb_a4ec_acde48001122row2_col2,#T_96866a18_442f_11eb_a4ec_acde48001122row2_col3,#T_96866a18_442f_11eb_a4ec_acde48001122row2_col4,#T_96866a18_442f_11eb_a4ec_acde48001122row2_col5,#T_96866a18_442f_11eb_a4ec_acde48001122row2_col6,#T_96866a18_442f_11eb_a4ec_acde48001122row2_col7,#T_96866a18_442f_11eb_a4ec_acde48001122row2_col8,#T_96866a18_442f_11eb_a4ec_acde48001122row3_col0,#T_96866a18_442f_11eb_a4ec_acde48001122row3_col1,#T_96866a18_442f_11eb_a4ec_acde48001122row3_col2,#T_96866a18_442f_11eb_a4ec_acde48001122row3_col3,#T_96866a18_442f_11eb_a4ec_acde48001122row3_col4,#T_96866a18_442f_11eb_a4ec_acde48001122row3_col5,#T_96866a18_442f_11eb_a4ec_acde48001122row3_col6,#T_96866a18_442f_11eb_a4ec_acde48001122row3_col7,#T_96866a18_442f_11eb_a4ec_acde48001122row3_col8,#T_96866a18_442f_11eb_a4ec_acde48001122row4_col0,#T_96866a18_442f_11eb_a4ec_acde48001122row4_col1,#T_96866a18_442f_11eb_a4ec_acde48001122row4_col2,#T_96866a18_442f_11eb_a4ec_acde48001122row4_col3,#T_96866a18_442f_11eb_a4ec_acde48001122row4_col4,#T_96866a18_442f_11eb_a4ec_acde48001122row4_col5,#T_96866a18_442f_11eb_a4ec_acde48001122row4_col6,#T_96866a18_442f_11eb_a4ec_acde48001122row4_col7,#T_96866a18_442f_11eb_a4ec_acde48001122row4_col8,#T_96866a18_442f_11eb_a4ec_acde48001122row5_col0,#T_96866a18_442f_11eb_a4ec_acde48001122row5_col1,#T_96866a18_442f_11eb_a4ec_acde48001122row5_col2,#T_96866a18_442f_11eb_a4ec_acde48001122row5_col3,#T_96866a18_442f_11eb_a4ec_acde48001122row5_col4,#T_96866a18_442f_11eb_a4ec_acde48001122row5_col5,#T_96866a18_442f_11eb_a4ec_acde48001122row5_col6,#T_96866a18_442f_11eb_a4ec_acde48001122row5_col7,#T_96866a18_442f_11eb_a4ec_acde48001122row5_col8,#T_96866a18_442f_11eb_a4ec_acde48001122row6_col0,#T_96866a18_442f_11eb_a4ec_acde48001122row6_col1,#T_96866a18_442f_11eb_a4ec_acde48001122row6_col2,#T_96866a18_442f_11eb_a4ec_acde48001122row6_col3,#T_96866a18_442f_11eb_a4ec_acde48001122row6_col4,#T_96866a18_442f_11eb_a4ec_acde48001122row6_col5,#T_96866a18_442f_11eb_a4ec_acde48001122row6_col6,#T_96866a18_442f_11eb_a4ec_acde48001122row6_col7,#T_96866a18_442f_11eb_a4ec_acde48001122row6_col8,#T_96866a18_442f_11eb_a4ec_acde48001122row7_col0,#T_96866a18_442f_11eb_a4ec_acde48001122row7_col1,#T_96866a18_442f_11eb_a4ec_acde48001122row7_col2,#T_96866a18_442f_11eb_a4ec_acde48001122row7_col3,#T_96866a18_442f_11eb_a4ec_acde48001122row7_col4,#T_96866a18_442f_11eb_a4ec_acde48001122row7_col5,#T_96866a18_442f_11eb_a4ec_acde48001122row7_col6,#T_96866a18_442f_11eb_a4ec_acde48001122row7_col7,#T_96866a18_442f_11eb_a4ec_acde48001122row7_col8,#T_96866a18_442f_11eb_a4ec_acde48001122row8_col0,#T_96866a18_442f_11eb_a4ec_acde48001122row8_col1,#T_96866a18_442f_11eb_a4ec_acde48001122row8_col2,#T_96866a18_442f_11eb_a4ec_acde48001122row8_col3,#T_96866a18_442f_11eb_a4ec_acde48001122row8_col4,#T_96866a18_442f_11eb_a4ec_acde48001122row8_col5,#T_96866a18_442f_11eb_a4ec_acde48001122row8_col6,#T_96866a18_442f_11eb_a4ec_acde48001122row8_col7,#T_96866a18_442f_11eb_a4ec_acde48001122row8_col8,#T_96866a18_442f_11eb_a4ec_acde48001122row9_col0,#T_96866a18_442f_11eb_a4ec_acde48001122row9_col1,#T_96866a18_442f_11eb_a4ec_acde48001122row9_col2,#T_96866a18_442f_11eb_a4ec_acde48001122row9_col3,#T_96866a18_442f_11eb_a4ec_acde48001122row9_col4,#T_96866a18_442f_11eb_a4ec_acde48001122row9_col5,#T_96866a18_442f_11eb_a4ec_acde48001122row9_col6,#T_96866a18_442f_11eb_a4ec_acde48001122row9_col7,#T_96866a18_442f_11eb_a4ec_acde48001122row9_col8,#T_96866a18_442f_11eb_a4ec_acde48001122row10_col0,#T_96866a18_442f_11eb_a4ec_acde48001122row10_col1,#T_96866a18_442f_11eb_a4ec_acde48001122row10_col2,#T_96866a18_442f_11eb_a4ec_acde48001122row10_col3,#T_96866a18_442f_11eb_a4ec_acde48001122row10_col4,#T_96866a18_442f_11eb_a4ec_acde48001122row10_col5,#T_96866a18_442f_11eb_a4ec_acde48001122row10_col6,#T_96866a18_442f_11eb_a4ec_acde48001122row10_col7,#T_96866a18_442f_11eb_a4ec_acde48001122row10_col8,#T_96866a18_442f_11eb_a4ec_acde48001122row11_col0,#T_96866a18_442f_11eb_a4ec_acde48001122row11_col1,#T_96866a18_442f_11eb_a4ec_acde48001122row11_col2,#T_96866a18_442f_11eb_a4ec_acde48001122row11_col3,#T_96866a18_442f_11eb_a4ec_acde48001122row11_col4,#T_96866a18_442f_11eb_a4ec_acde48001122row11_col5,#T_96866a18_442f_11eb_a4ec_acde48001122row11_col6,#T_96866a18_442f_11eb_a4ec_acde48001122row11_col7,#T_96866a18_442f_11eb_a4ec_acde48001122row11_col8,#T_96866a18_442f_11eb_a4ec_acde48001122row12_col0,#T_96866a18_442f_11eb_a4ec_acde48001122row12_col1,#T_96866a18_442f_11eb_a4ec_acde48001122row12_col2,#T_96866a18_442f_11eb_a4ec_acde48001122row12_col3,#T_96866a18_442f_11eb_a4ec_acde48001122row12_col4,#T_96866a18_442f_11eb_a4ec_acde48001122row12_col5,#T_96866a18_442f_11eb_a4ec_acde48001122row12_col6,#T_96866a18_442f_11eb_a4ec_acde48001122row12_col7,#T_96866a18_442f_11eb_a4ec_acde48001122row12_col8,#T_96866a18_442f_11eb_a4ec_acde48001122row13_col0,#T_96866a18_442f_11eb_a4ec_acde48001122row13_col1,#T_96866a18_442f_11eb_a4ec_acde48001122row13_col2,#T_96866a18_442f_11eb_a4ec_acde48001122row13_col3,#T_96866a18_442f_11eb_a4ec_acde48001122row13_col4,#T_96866a18_442f_11eb_a4ec_acde48001122row13_col5,#T_96866a18_442f_11eb_a4ec_acde48001122row13_col6,#T_96866a18_442f_11eb_a4ec_acde48001122row13_col7,#T_96866a18_442f_11eb_a4ec_acde48001122row13_col8{\n",
       "            text-align:  left;\n",
       "        }</style><table id=\"T_96866a18_442f_11eb_a4ec_acde48001122\" ><thead>    <tr>        <th class=\"blank level0\" ></th>        <th class=\"col_heading level0 col0\" >Model</th>        <th class=\"col_heading level0 col1\" >Accuracy</th>        <th class=\"col_heading level0 col2\" >AUC</th>        <th class=\"col_heading level0 col3\" >Recall</th>        <th class=\"col_heading level0 col4\" >Prec.</th>        <th class=\"col_heading level0 col5\" >F1</th>        <th class=\"col_heading level0 col6\" >Kappa</th>        <th class=\"col_heading level0 col7\" >MCC</th>        <th class=\"col_heading level0 col8\" >TT (Sec)</th>    </tr></thead><tbody>\n",
       "                <tr>\n",
       "                        <th id=\"T_96866a18_442f_11eb_a4ec_acde48001122level0_row0\" class=\"row_heading level0 row0\" >rf</th>\n",
       "                        <td id=\"T_96866a18_442f_11eb_a4ec_acde48001122row0_col0\" class=\"data row0 col0\" >Random Forest Classifier</td>\n",
       "                        <td id=\"T_96866a18_442f_11eb_a4ec_acde48001122row0_col1\" class=\"data row0 col1\" >0.3362</td>\n",
       "                        <td id=\"T_96866a18_442f_11eb_a4ec_acde48001122row0_col2\" class=\"data row0 col2\" >0.6306</td>\n",
       "                        <td id=\"T_96866a18_442f_11eb_a4ec_acde48001122row0_col3\" class=\"data row0 col3\" >0.2358</td>\n",
       "                        <td id=\"T_96866a18_442f_11eb_a4ec_acde48001122row0_col4\" class=\"data row0 col4\" >0.3076</td>\n",
       "                        <td id=\"T_96866a18_442f_11eb_a4ec_acde48001122row0_col5\" class=\"data row0 col5\" >0.2802</td>\n",
       "                        <td id=\"T_96866a18_442f_11eb_a4ec_acde48001122row0_col6\" class=\"data row0 col6\" >0.1160</td>\n",
       "                        <td id=\"T_96866a18_442f_11eb_a4ec_acde48001122row0_col7\" class=\"data row0 col7\" >0.1251</td>\n",
       "                        <td id=\"T_96866a18_442f_11eb_a4ec_acde48001122row0_col8\" class=\"data row0 col8\" >0.2680</td>\n",
       "            </tr>\n",
       "            <tr>\n",
       "                        <th id=\"T_96866a18_442f_11eb_a4ec_acde48001122level0_row1\" class=\"row_heading level0 row1\" >lightgbm</th>\n",
       "                        <td id=\"T_96866a18_442f_11eb_a4ec_acde48001122row1_col0\" class=\"data row1 col0\" >Light Gradient Boosting Machine</td>\n",
       "                        <td id=\"T_96866a18_442f_11eb_a4ec_acde48001122row1_col1\" class=\"data row1 col1\" >0.3299</td>\n",
       "                        <td id=\"T_96866a18_442f_11eb_a4ec_acde48001122row1_col2\" class=\"data row1 col2\" >0.6204</td>\n",
       "                        <td id=\"T_96866a18_442f_11eb_a4ec_acde48001122row1_col3\" class=\"data row1 col3\" >0.2425</td>\n",
       "                        <td id=\"T_96866a18_442f_11eb_a4ec_acde48001122row1_col4\" class=\"data row1 col4\" >0.3010</td>\n",
       "                        <td id=\"T_96866a18_442f_11eb_a4ec_acde48001122row1_col5\" class=\"data row1 col5\" >0.2860</td>\n",
       "                        <td id=\"T_96866a18_442f_11eb_a4ec_acde48001122row1_col6\" class=\"data row1 col6\" >0.1162</td>\n",
       "                        <td id=\"T_96866a18_442f_11eb_a4ec_acde48001122row1_col7\" class=\"data row1 col7\" >0.1227</td>\n",
       "                        <td id=\"T_96866a18_442f_11eb_a4ec_acde48001122row1_col8\" class=\"data row1 col8\" >4.6190</td>\n",
       "            </tr>\n",
       "            <tr>\n",
       "                        <th id=\"T_96866a18_442f_11eb_a4ec_acde48001122level0_row2\" class=\"row_heading level0 row2\" >et</th>\n",
       "                        <td id=\"T_96866a18_442f_11eb_a4ec_acde48001122row2_col0\" class=\"data row2 col0\" >Extra Trees Classifier</td>\n",
       "                        <td id=\"T_96866a18_442f_11eb_a4ec_acde48001122row2_col1\" class=\"data row2 col1\" >0.3294</td>\n",
       "                        <td id=\"T_96866a18_442f_11eb_a4ec_acde48001122row2_col2\" class=\"data row2 col2\" >0.6275</td>\n",
       "                        <td id=\"T_96866a18_442f_11eb_a4ec_acde48001122row2_col3\" class=\"data row2 col3\" >0.2288</td>\n",
       "                        <td id=\"T_96866a18_442f_11eb_a4ec_acde48001122row2_col4\" class=\"data row2 col4\" >0.3170</td>\n",
       "                        <td id=\"T_96866a18_442f_11eb_a4ec_acde48001122row2_col5\" class=\"data row2 col5\" >0.2705</td>\n",
       "                        <td id=\"T_96866a18_442f_11eb_a4ec_acde48001122row2_col6\" class=\"data row2 col6\" >0.1036</td>\n",
       "                        <td id=\"T_96866a18_442f_11eb_a4ec_acde48001122row2_col7\" class=\"data row2 col7\" >0.1129</td>\n",
       "                        <td id=\"T_96866a18_442f_11eb_a4ec_acde48001122row2_col8\" class=\"data row2 col8\" >0.1630</td>\n",
       "            </tr>\n",
       "            <tr>\n",
       "                        <th id=\"T_96866a18_442f_11eb_a4ec_acde48001122level0_row3\" class=\"row_heading level0 row3\" >gbc</th>\n",
       "                        <td id=\"T_96866a18_442f_11eb_a4ec_acde48001122row3_col0\" class=\"data row3 col0\" >Gradient Boosting Classifier</td>\n",
       "                        <td id=\"T_96866a18_442f_11eb_a4ec_acde48001122row3_col1\" class=\"data row3 col1\" >0.3231</td>\n",
       "                        <td id=\"T_96866a18_442f_11eb_a4ec_acde48001122row3_col2\" class=\"data row3 col2\" >0.6230</td>\n",
       "                        <td id=\"T_96866a18_442f_11eb_a4ec_acde48001122row3_col3\" class=\"data row3 col3\" >0.2437</td>\n",
       "                        <td id=\"T_96866a18_442f_11eb_a4ec_acde48001122row3_col4\" class=\"data row3 col4\" >0.2950</td>\n",
       "                        <td id=\"T_96866a18_442f_11eb_a4ec_acde48001122row3_col5\" class=\"data row3 col5\" >0.2902</td>\n",
       "                        <td id=\"T_96866a18_442f_11eb_a4ec_acde48001122row3_col6\" class=\"data row3 col6\" >0.1175</td>\n",
       "                        <td id=\"T_96866a18_442f_11eb_a4ec_acde48001122row3_col7\" class=\"data row3 col7\" >0.1215</td>\n",
       "                        <td id=\"T_96866a18_442f_11eb_a4ec_acde48001122row3_col8\" class=\"data row3 col8\" >7.5780</td>\n",
       "            </tr>\n",
       "            <tr>\n",
       "                        <th id=\"T_96866a18_442f_11eb_a4ec_acde48001122level0_row4\" class=\"row_heading level0 row4\" >xgboost</th>\n",
       "                        <td id=\"T_96866a18_442f_11eb_a4ec_acde48001122row4_col0\" class=\"data row4 col0\" >Extreme Gradient Boosting</td>\n",
       "                        <td id=\"T_96866a18_442f_11eb_a4ec_acde48001122row4_col1\" class=\"data row4 col1\" >0.3219</td>\n",
       "                        <td id=\"T_96866a18_442f_11eb_a4ec_acde48001122row4_col2\" class=\"data row4 col2\" >0.6218</td>\n",
       "                        <td id=\"T_96866a18_442f_11eb_a4ec_acde48001122row4_col3\" class=\"data row4 col3\" >0.2456</td>\n",
       "                        <td id=\"T_96866a18_442f_11eb_a4ec_acde48001122row4_col4\" class=\"data row4 col4\" >0.3011</td>\n",
       "                        <td id=\"T_96866a18_442f_11eb_a4ec_acde48001122row4_col5\" class=\"data row4 col5\" >0.2942</td>\n",
       "                        <td id=\"T_96866a18_442f_11eb_a4ec_acde48001122row4_col6\" class=\"data row4 col6\" >0.1184</td>\n",
       "                        <td id=\"T_96866a18_442f_11eb_a4ec_acde48001122row4_col7\" class=\"data row4 col7\" >0.1222</td>\n",
       "                        <td id=\"T_96866a18_442f_11eb_a4ec_acde48001122row4_col8\" class=\"data row4 col8\" >6.3350</td>\n",
       "            </tr>\n",
       "            <tr>\n",
       "                        <th id=\"T_96866a18_442f_11eb_a4ec_acde48001122level0_row5\" class=\"row_heading level0 row5\" >ridge</th>\n",
       "                        <td id=\"T_96866a18_442f_11eb_a4ec_acde48001122row5_col0\" class=\"data row5 col0\" >Ridge Classifier</td>\n",
       "                        <td id=\"T_96866a18_442f_11eb_a4ec_acde48001122row5_col1\" class=\"data row5 col1\" >0.3025</td>\n",
       "                        <td id=\"T_96866a18_442f_11eb_a4ec_acde48001122row5_col2\" class=\"data row5 col2\" >0.0000</td>\n",
       "                        <td id=\"T_96866a18_442f_11eb_a4ec_acde48001122row5_col3\" class=\"data row5 col3\" >0.2343</td>\n",
       "                        <td id=\"T_96866a18_442f_11eb_a4ec_acde48001122row5_col4\" class=\"data row5 col4\" >0.2835</td>\n",
       "                        <td id=\"T_96866a18_442f_11eb_a4ec_acde48001122row5_col5\" class=\"data row5 col5\" >0.2798</td>\n",
       "                        <td id=\"T_96866a18_442f_11eb_a4ec_acde48001122row5_col6\" class=\"data row5 col6\" >0.1006</td>\n",
       "                        <td id=\"T_96866a18_442f_11eb_a4ec_acde48001122row5_col7\" class=\"data row5 col7\" >0.1026</td>\n",
       "                        <td id=\"T_96866a18_442f_11eb_a4ec_acde48001122row5_col8\" class=\"data row5 col8\" >0.0270</td>\n",
       "            </tr>\n",
       "            <tr>\n",
       "                        <th id=\"T_96866a18_442f_11eb_a4ec_acde48001122level0_row6\" class=\"row_heading level0 row6\" >lr</th>\n",
       "                        <td id=\"T_96866a18_442f_11eb_a4ec_acde48001122row6_col0\" class=\"data row6 col0\" >Logistic Regression</td>\n",
       "                        <td id=\"T_96866a18_442f_11eb_a4ec_acde48001122row6_col1\" class=\"data row6 col1\" >0.2979</td>\n",
       "                        <td id=\"T_96866a18_442f_11eb_a4ec_acde48001122row6_col2\" class=\"data row6 col2\" >0.5637</td>\n",
       "                        <td id=\"T_96866a18_442f_11eb_a4ec_acde48001122row6_col3\" class=\"data row6 col3\" >0.2125</td>\n",
       "                        <td id=\"T_96866a18_442f_11eb_a4ec_acde48001122row6_col4\" class=\"data row6 col4\" >0.2590</td>\n",
       "                        <td id=\"T_96866a18_442f_11eb_a4ec_acde48001122row6_col5\" class=\"data row6 col5\" >0.2474</td>\n",
       "                        <td id=\"T_96866a18_442f_11eb_a4ec_acde48001122row6_col6\" class=\"data row6 col6\" >0.0709</td>\n",
       "                        <td id=\"T_96866a18_442f_11eb_a4ec_acde48001122row6_col7\" class=\"data row6 col7\" >0.0757</td>\n",
       "                        <td id=\"T_96866a18_442f_11eb_a4ec_acde48001122row6_col8\" class=\"data row6 col8\" >0.9410</td>\n",
       "            </tr>\n",
       "            <tr>\n",
       "                        <th id=\"T_96866a18_442f_11eb_a4ec_acde48001122level0_row7\" class=\"row_heading level0 row7\" >lda</th>\n",
       "                        <td id=\"T_96866a18_442f_11eb_a4ec_acde48001122row7_col0\" class=\"data row7 col0\" >Linear Discriminant Analysis</td>\n",
       "                        <td id=\"T_96866a18_442f_11eb_a4ec_acde48001122row7_col1\" class=\"data row7 col1\" >0.2927</td>\n",
       "                        <td id=\"T_96866a18_442f_11eb_a4ec_acde48001122row7_col2\" class=\"data row7 col2\" >0.6087</td>\n",
       "                        <td id=\"T_96866a18_442f_11eb_a4ec_acde48001122row7_col3\" class=\"data row7 col3\" >0.2432</td>\n",
       "                        <td id=\"T_96866a18_442f_11eb_a4ec_acde48001122row7_col4\" class=\"data row7 col4\" >0.2822</td>\n",
       "                        <td id=\"T_96866a18_442f_11eb_a4ec_acde48001122row7_col5\" class=\"data row7 col5\" >0.2838</td>\n",
       "                        <td id=\"T_96866a18_442f_11eb_a4ec_acde48001122row7_col6\" class=\"data row7 col6\" >0.1051</td>\n",
       "                        <td id=\"T_96866a18_442f_11eb_a4ec_acde48001122row7_col7\" class=\"data row7 col7\" >0.1057</td>\n",
       "                        <td id=\"T_96866a18_442f_11eb_a4ec_acde48001122row7_col8\" class=\"data row7 col8\" >0.0500</td>\n",
       "            </tr>\n",
       "            <tr>\n",
       "                        <th id=\"T_96866a18_442f_11eb_a4ec_acde48001122level0_row8\" class=\"row_heading level0 row8\" >ada</th>\n",
       "                        <td id=\"T_96866a18_442f_11eb_a4ec_acde48001122row8_col0\" class=\"data row8 col0\" >Ada Boost Classifier</td>\n",
       "                        <td id=\"T_96866a18_442f_11eb_a4ec_acde48001122row8_col1\" class=\"data row8 col1\" >0.2785</td>\n",
       "                        <td id=\"T_96866a18_442f_11eb_a4ec_acde48001122row8_col2\" class=\"data row8 col2\" >0.5886</td>\n",
       "                        <td id=\"T_96866a18_442f_11eb_a4ec_acde48001122row8_col3\" class=\"data row8 col3\" >0.2195</td>\n",
       "                        <td id=\"T_96866a18_442f_11eb_a4ec_acde48001122row8_col4\" class=\"data row8 col4\" >0.2546</td>\n",
       "                        <td id=\"T_96866a18_442f_11eb_a4ec_acde48001122row8_col5\" class=\"data row8 col5\" >0.2579</td>\n",
       "                        <td id=\"T_96866a18_442f_11eb_a4ec_acde48001122row8_col6\" class=\"data row8 col6\" >0.0774</td>\n",
       "                        <td id=\"T_96866a18_442f_11eb_a4ec_acde48001122row8_col7\" class=\"data row8 col7\" >0.0788</td>\n",
       "                        <td id=\"T_96866a18_442f_11eb_a4ec_acde48001122row8_col8\" class=\"data row8 col8\" >0.3170</td>\n",
       "            </tr>\n",
       "            <tr>\n",
       "                        <th id=\"T_96866a18_442f_11eb_a4ec_acde48001122level0_row9\" class=\"row_heading level0 row9\" >qda</th>\n",
       "                        <td id=\"T_96866a18_442f_11eb_a4ec_acde48001122row9_col0\" class=\"data row9 col0\" >Quadratic Discriminant Analysis</td>\n",
       "                        <td id=\"T_96866a18_442f_11eb_a4ec_acde48001122row9_col1\" class=\"data row9 col1\" >0.2384</td>\n",
       "                        <td id=\"T_96866a18_442f_11eb_a4ec_acde48001122row9_col2\" class=\"data row9 col2\" >0.5032</td>\n",
       "                        <td id=\"T_96866a18_442f_11eb_a4ec_acde48001122row9_col3\" class=\"data row9 col3\" >0.1838</td>\n",
       "                        <td id=\"T_96866a18_442f_11eb_a4ec_acde48001122row9_col4\" class=\"data row9 col4\" >0.2031</td>\n",
       "                        <td id=\"T_96866a18_442f_11eb_a4ec_acde48001122row9_col5\" class=\"data row9 col5\" >0.1884</td>\n",
       "                        <td id=\"T_96866a18_442f_11eb_a4ec_acde48001122row9_col6\" class=\"data row9 col6\" >0.0164</td>\n",
       "                        <td id=\"T_96866a18_442f_11eb_a4ec_acde48001122row9_col7\" class=\"data row9 col7\" >0.0180</td>\n",
       "                        <td id=\"T_96866a18_442f_11eb_a4ec_acde48001122row9_col8\" class=\"data row9 col8\" >0.0580</td>\n",
       "            </tr>\n",
       "            <tr>\n",
       "                        <th id=\"T_96866a18_442f_11eb_a4ec_acde48001122level0_row10\" class=\"row_heading level0 row10\" >dt</th>\n",
       "                        <td id=\"T_96866a18_442f_11eb_a4ec_acde48001122row10_col0\" class=\"data row10 col0\" >Decision Tree Classifier</td>\n",
       "                        <td id=\"T_96866a18_442f_11eb_a4ec_acde48001122row10_col1\" class=\"data row10 col1\" >0.2378</td>\n",
       "                        <td id=\"T_96866a18_442f_11eb_a4ec_acde48001122row10_col2\" class=\"data row10 col2\" >0.5262</td>\n",
       "                        <td id=\"T_96866a18_442f_11eb_a4ec_acde48001122row10_col3\" class=\"data row10 col3\" >0.2108</td>\n",
       "                        <td id=\"T_96866a18_442f_11eb_a4ec_acde48001122row10_col4\" class=\"data row10 col4\" >0.2395</td>\n",
       "                        <td id=\"T_96866a18_442f_11eb_a4ec_acde48001122row10_col5\" class=\"data row10 col5\" >0.2371</td>\n",
       "                        <td id=\"T_96866a18_442f_11eb_a4ec_acde48001122row10_col6\" class=\"data row10 col6\" >0.0518</td>\n",
       "                        <td id=\"T_96866a18_442f_11eb_a4ec_acde48001122row10_col7\" class=\"data row10 col7\" >0.0519</td>\n",
       "                        <td id=\"T_96866a18_442f_11eb_a4ec_acde48001122row10_col8\" class=\"data row10 col8\" >0.0840</td>\n",
       "            </tr>\n",
       "            <tr>\n",
       "                        <th id=\"T_96866a18_442f_11eb_a4ec_acde48001122level0_row11\" class=\"row_heading level0 row11\" >knn</th>\n",
       "                        <td id=\"T_96866a18_442f_11eb_a4ec_acde48001122row11_col0\" class=\"data row11 col0\" >K Neighbors Classifier</td>\n",
       "                        <td id=\"T_96866a18_442f_11eb_a4ec_acde48001122row11_col1\" class=\"data row11 col1\" >0.2230</td>\n",
       "                        <td id=\"T_96866a18_442f_11eb_a4ec_acde48001122row11_col2\" class=\"data row11 col2\" >0.5180</td>\n",
       "                        <td id=\"T_96866a18_442f_11eb_a4ec_acde48001122row11_col3\" class=\"data row11 col3\" >0.1899</td>\n",
       "                        <td id=\"T_96866a18_442f_11eb_a4ec_acde48001122row11_col4\" class=\"data row11 col4\" >0.2210</td>\n",
       "                        <td id=\"T_96866a18_442f_11eb_a4ec_acde48001122row11_col5\" class=\"data row11 col5\" >0.2190</td>\n",
       "                        <td id=\"T_96866a18_442f_11eb_a4ec_acde48001122row11_col6\" class=\"data row11 col6\" >0.0245</td>\n",
       "                        <td id=\"T_96866a18_442f_11eb_a4ec_acde48001122row11_col7\" class=\"data row11 col7\" >0.0246</td>\n",
       "                        <td id=\"T_96866a18_442f_11eb_a4ec_acde48001122row11_col8\" class=\"data row11 col8\" >0.0470</td>\n",
       "            </tr>\n",
       "            <tr>\n",
       "                        <th id=\"T_96866a18_442f_11eb_a4ec_acde48001122level0_row12\" class=\"row_heading level0 row12\" >svm</th>\n",
       "                        <td id=\"T_96866a18_442f_11eb_a4ec_acde48001122row12_col0\" class=\"data row12 col0\" >SVM - Linear Kernel</td>\n",
       "                        <td id=\"T_96866a18_442f_11eb_a4ec_acde48001122row12_col1\" class=\"data row12 col1\" >0.2036</td>\n",
       "                        <td id=\"T_96866a18_442f_11eb_a4ec_acde48001122row12_col2\" class=\"data row12 col2\" >0.0000</td>\n",
       "                        <td id=\"T_96866a18_442f_11eb_a4ec_acde48001122row12_col3\" class=\"data row12 col3\" >0.1763</td>\n",
       "                        <td id=\"T_96866a18_442f_11eb_a4ec_acde48001122row12_col4\" class=\"data row12 col4\" >0.1772</td>\n",
       "                        <td id=\"T_96866a18_442f_11eb_a4ec_acde48001122row12_col5\" class=\"data row12 col5\" >0.1174</td>\n",
       "                        <td id=\"T_96866a18_442f_11eb_a4ec_acde48001122row12_col6\" class=\"data row12 col6\" >0.0150</td>\n",
       "                        <td id=\"T_96866a18_442f_11eb_a4ec_acde48001122row12_col7\" class=\"data row12 col7\" >0.0257</td>\n",
       "                        <td id=\"T_96866a18_442f_11eb_a4ec_acde48001122row12_col8\" class=\"data row12 col8\" >0.0680</td>\n",
       "            </tr>\n",
       "            <tr>\n",
       "                        <th id=\"T_96866a18_442f_11eb_a4ec_acde48001122level0_row13\" class=\"row_heading level0 row13\" >nb</th>\n",
       "                        <td id=\"T_96866a18_442f_11eb_a4ec_acde48001122row13_col0\" class=\"data row13 col0\" >Naive Bayes</td>\n",
       "                        <td id=\"T_96866a18_442f_11eb_a4ec_acde48001122row13_col1\" class=\"data row13 col1\" >0.1990</td>\n",
       "                        <td id=\"T_96866a18_442f_11eb_a4ec_acde48001122row13_col2\" class=\"data row13 col2\" >0.5651</td>\n",
       "                        <td id=\"T_96866a18_442f_11eb_a4ec_acde48001122row13_col3\" class=\"data row13 col3\" >0.2281</td>\n",
       "                        <td id=\"T_96866a18_442f_11eb_a4ec_acde48001122row13_col4\" class=\"data row13 col4\" >0.2809</td>\n",
       "                        <td id=\"T_96866a18_442f_11eb_a4ec_acde48001122row13_col5\" class=\"data row13 col5\" >0.1624</td>\n",
       "                        <td id=\"T_96866a18_442f_11eb_a4ec_acde48001122row13_col6\" class=\"data row13 col6\" >0.0588</td>\n",
       "                        <td id=\"T_96866a18_442f_11eb_a4ec_acde48001122row13_col7\" class=\"data row13 col7\" >0.0743</td>\n",
       "                        <td id=\"T_96866a18_442f_11eb_a4ec_acde48001122row13_col8\" class=\"data row13 col8\" >0.0250</td>\n",
       "            </tr>\n",
       "    </tbody></table>"
      ],
      "text/plain": [
       "<pandas.io.formats.style.Styler at 0x131c036d0>"
      ]
     },
     "metadata": {},
     "output_type": "display_data"
    },
    {
     "name": "stderr",
     "output_type": "stream",
     "text": [
      "Exception in thread Thread-1009:\n",
      "Traceback (most recent call last):\n",
      "  File \"/Applications/Xcode.app/Contents/Developer/Library/Frameworks/Python3.framework/Versions/3.8/lib/python3.8/threading.py\", line 932, in _bootstrap_inner\n",
      "    self.run()\n",
      "  File \"/Users/kdchoi/Library/Python/3.8/lib/python/site-packages/joblib/externals/loky/process_executor.py\", line 567, in run\n",
      "    self.flag_executor_shutting_down()\n",
      "  File \"/Users/kdchoi/Library/Python/3.8/lib/python/site-packages/joblib/externals/loky/process_executor.py\", line 756, in flag_executor_shutting_down\n",
      "    self.kill_workers()\n",
      "  File \"/Users/kdchoi/Library/Python/3.8/lib/python/site-packages/joblib/externals/loky/process_executor.py\", line 766, in kill_workers\n",
      "    recursive_terminate(p)\n",
      "  File \"/Users/kdchoi/Library/Python/3.8/lib/python/site-packages/joblib/externals/loky/backend/utils.py\", line 28, in recursive_terminate\n",
      "    _recursive_terminate_without_psutil(process)\n",
      "  File \"/Users/kdchoi/Library/Python/3.8/lib/python/site-packages/joblib/externals/loky/backend/utils.py\", line 53, in _recursive_terminate_without_psutil\n",
      "    _recursive_terminate(process.pid)\n",
      "  File \"/Users/kdchoi/Library/Python/3.8/lib/python/site-packages/joblib/externals/loky/backend/utils.py\", line 92, in _recursive_terminate\n",
      "    children_pids = subprocess.check_output(\n",
      "  File \"/Applications/Xcode.app/Contents/Developer/Library/Frameworks/Python3.framework/Versions/3.8/lib/python3.8/subprocess.py\", line 411, in check_output\n",
      "    return run(*popenargs, stdout=PIPE, timeout=timeout, check=True,\n",
      "  File \"/Applications/Xcode.app/Contents/Developer/Library/Frameworks/Python3.framework/Versions/3.8/lib/python3.8/subprocess.py\", line 512, in run\n",
      "    raise CalledProcessError(retcode, process.args,\n",
      "subprocess.CalledProcessError: Command '['pgrep', '-P', '17225']' died with <Signals.SIGINT: 2>.\n"
     ]
    },
    {
     "ename": "KeyboardInterrupt",
     "evalue": "",
     "output_type": "error",
     "traceback": [
      "\u001b[0;31m---------------------------------------------------------------------------\u001b[0m",
      "\u001b[0;31mKeyboardInterrupt\u001b[0m                         Traceback (most recent call last)",
      "\u001b[0;32m<ipython-input-186-9ff5ccfe3077>\u001b[0m in \u001b[0;36m<module>\u001b[0;34m\u001b[0m\n\u001b[0;32m----> 1\u001b[0;31m \u001b[0mcompare_models\u001b[0m\u001b[0;34m(\u001b[0m\u001b[0;34m)\u001b[0m\u001b[0;34m\u001b[0m\u001b[0;34m\u001b[0m\u001b[0m\n\u001b[0m",
      "\u001b[0;32m~/Library/Python/3.8/lib/python/site-packages/pycaret/classification.py\u001b[0m in \u001b[0;36mcompare_models\u001b[0;34m(include, exclude, fold, round, cross_validation, sort, n_select, budget_time, turbo, errors, fit_kwargs, groups, verbose)\u001b[0m\n\u001b[1;32m    769\u001b[0m     \"\"\"\n\u001b[1;32m    770\u001b[0m \u001b[0;34m\u001b[0m\u001b[0m\n\u001b[0;32m--> 771\u001b[0;31m     return pycaret.internal.tabular.compare_models(\n\u001b[0m\u001b[1;32m    772\u001b[0m         \u001b[0minclude\u001b[0m\u001b[0;34m=\u001b[0m\u001b[0minclude\u001b[0m\u001b[0;34m,\u001b[0m\u001b[0;34m\u001b[0m\u001b[0;34m\u001b[0m\u001b[0m\n\u001b[1;32m    773\u001b[0m         \u001b[0mexclude\u001b[0m\u001b[0;34m=\u001b[0m\u001b[0mexclude\u001b[0m\u001b[0;34m,\u001b[0m\u001b[0;34m\u001b[0m\u001b[0;34m\u001b[0m\u001b[0m\n",
      "\u001b[0;32m~/Library/Python/3.8/lib/python/site-packages/pycaret/internal/tabular.py\u001b[0m in \u001b[0;36mcompare_models\u001b[0;34m(include, exclude, fold, round, cross_validation, sort, n_select, budget_time, turbo, errors, fit_kwargs, groups, verbose, display)\u001b[0m\n\u001b[1;32m   2276\u001b[0m                 \u001b[0mdisplay\u001b[0m\u001b[0;34m.\u001b[0m\u001b[0mupdate_monitor\u001b[0m\u001b[0;34m(\u001b[0m\u001b[0;36m2\u001b[0m\u001b[0;34m,\u001b[0m \u001b[0m_get_model_name\u001b[0m\u001b[0;34m(\u001b[0m\u001b[0mmodel\u001b[0m\u001b[0;34m)\u001b[0m\u001b[0;34m)\u001b[0m\u001b[0;34m\u001b[0m\u001b[0;34m\u001b[0m\u001b[0m\n\u001b[1;32m   2277\u001b[0m                 \u001b[0mdisplay\u001b[0m\u001b[0;34m.\u001b[0m\u001b[0mdisplay_monitor\u001b[0m\u001b[0;34m(\u001b[0m\u001b[0;34m)\u001b[0m\u001b[0;34m\u001b[0m\u001b[0;34m\u001b[0m\u001b[0m\n\u001b[0;32m-> 2278\u001b[0;31m                 model, model_fit_time = create_model_supervised(\n\u001b[0m\u001b[1;32m   2279\u001b[0m                     \u001b[0mestimator\u001b[0m\u001b[0;34m=\u001b[0m\u001b[0mmodel\u001b[0m\u001b[0;34m,\u001b[0m\u001b[0;34m\u001b[0m\u001b[0;34m\u001b[0m\u001b[0m\n\u001b[1;32m   2280\u001b[0m                     \u001b[0msystem\u001b[0m\u001b[0;34m=\u001b[0m\u001b[0;32mFalse\u001b[0m\u001b[0;34m,\u001b[0m\u001b[0;34m\u001b[0m\u001b[0;34m\u001b[0m\u001b[0m\n",
      "\u001b[0;32m~/Library/Python/3.8/lib/python/site-packages/pycaret/internal/tabular.py\u001b[0m in \u001b[0;36mcreate_model_supervised\u001b[0;34m(estimator, fold, round, cross_validation, predict, fit_kwargs, groups, refit, verbose, system, X_train_data, y_train_data, metrics, display, **kwargs)\u001b[0m\n\u001b[1;32m   3019\u001b[0m             \u001b[0mmodel_fit_start\u001b[0m \u001b[0;34m=\u001b[0m \u001b[0mtime\u001b[0m\u001b[0;34m.\u001b[0m\u001b[0mtime\u001b[0m\u001b[0;34m(\u001b[0m\u001b[0;34m)\u001b[0m\u001b[0;34m\u001b[0m\u001b[0;34m\u001b[0m\u001b[0m\n\u001b[1;32m   3020\u001b[0m             \u001b[0;32mwith\u001b[0m \u001b[0mio\u001b[0m\u001b[0;34m.\u001b[0m\u001b[0mcapture_output\u001b[0m\u001b[0;34m(\u001b[0m\u001b[0;34m)\u001b[0m\u001b[0;34m:\u001b[0m\u001b[0;34m\u001b[0m\u001b[0;34m\u001b[0m\u001b[0m\n\u001b[0;32m-> 3021\u001b[0;31m                 \u001b[0mpipeline_with_model\u001b[0m\u001b[0;34m.\u001b[0m\u001b[0mfit\u001b[0m\u001b[0;34m(\u001b[0m\u001b[0mdata_X\u001b[0m\u001b[0;34m,\u001b[0m \u001b[0mdata_y\u001b[0m\u001b[0;34m,\u001b[0m \u001b[0;34m**\u001b[0m\u001b[0mfit_kwargs\u001b[0m\u001b[0;34m)\u001b[0m\u001b[0;34m\u001b[0m\u001b[0;34m\u001b[0m\u001b[0m\n\u001b[0m\u001b[1;32m   3022\u001b[0m             \u001b[0mmodel_fit_end\u001b[0m \u001b[0;34m=\u001b[0m \u001b[0mtime\u001b[0m\u001b[0;34m.\u001b[0m\u001b[0mtime\u001b[0m\u001b[0;34m(\u001b[0m\u001b[0;34m)\u001b[0m\u001b[0;34m\u001b[0m\u001b[0;34m\u001b[0m\u001b[0m\n\u001b[1;32m   3023\u001b[0m \u001b[0;34m\u001b[0m\u001b[0m\n",
      "\u001b[0;32m~/Library/Python/3.8/lib/python/site-packages/pycaret/internal/pipeline.py\u001b[0m in \u001b[0;36mfit\u001b[0;34m(self, X, y, **fit_kwargs)\u001b[0m\n\u001b[1;32m    116\u001b[0m \u001b[0;34m\u001b[0m\u001b[0m\n\u001b[1;32m    117\u001b[0m     \u001b[0;32mdef\u001b[0m \u001b[0mfit\u001b[0m\u001b[0;34m(\u001b[0m\u001b[0mself\u001b[0m\u001b[0;34m,\u001b[0m \u001b[0mX\u001b[0m\u001b[0;34m,\u001b[0m \u001b[0my\u001b[0m\u001b[0;34m=\u001b[0m\u001b[0;32mNone\u001b[0m\u001b[0;34m,\u001b[0m \u001b[0;34m**\u001b[0m\u001b[0mfit_kwargs\u001b[0m\u001b[0;34m)\u001b[0m\u001b[0;34m:\u001b[0m\u001b[0;34m\u001b[0m\u001b[0;34m\u001b[0m\u001b[0m\n\u001b[0;32m--> 118\u001b[0;31m         \u001b[0mresult\u001b[0m \u001b[0;34m=\u001b[0m \u001b[0msuper\u001b[0m\u001b[0;34m(\u001b[0m\u001b[0;34m)\u001b[0m\u001b[0;34m.\u001b[0m\u001b[0mfit\u001b[0m\u001b[0;34m(\u001b[0m\u001b[0mX\u001b[0m\u001b[0;34m,\u001b[0m \u001b[0my\u001b[0m\u001b[0;34m=\u001b[0m\u001b[0my\u001b[0m\u001b[0;34m,\u001b[0m \u001b[0;34m**\u001b[0m\u001b[0mfit_kwargs\u001b[0m\u001b[0;34m)\u001b[0m\u001b[0;34m\u001b[0m\u001b[0;34m\u001b[0m\u001b[0m\n\u001b[0m\u001b[1;32m    119\u001b[0m \u001b[0;34m\u001b[0m\u001b[0m\n\u001b[1;32m    120\u001b[0m         \u001b[0mself\u001b[0m\u001b[0;34m.\u001b[0m\u001b[0m_carry_over_final_estimator_fit_vars\u001b[0m\u001b[0;34m(\u001b[0m\u001b[0;34m)\u001b[0m\u001b[0;34m\u001b[0m\u001b[0;34m\u001b[0m\u001b[0m\n",
      "\u001b[0;32m~/Library/Python/3.8/lib/python/site-packages/imblearn/pipeline.py\u001b[0m in \u001b[0;36mfit\u001b[0;34m(self, X, y, **fit_params)\u001b[0m\n\u001b[1;32m    279\u001b[0m                                  self._log_message(len(self.steps) - 1)):\n\u001b[1;32m    280\u001b[0m             \u001b[0;32mif\u001b[0m \u001b[0mself\u001b[0m\u001b[0;34m.\u001b[0m\u001b[0m_final_estimator\u001b[0m \u001b[0;34m!=\u001b[0m \u001b[0;34m\"passthrough\"\u001b[0m\u001b[0;34m:\u001b[0m\u001b[0;34m\u001b[0m\u001b[0;34m\u001b[0m\u001b[0m\n\u001b[0;32m--> 281\u001b[0;31m                 \u001b[0mself\u001b[0m\u001b[0;34m.\u001b[0m\u001b[0m_final_estimator\u001b[0m\u001b[0;34m.\u001b[0m\u001b[0mfit\u001b[0m\u001b[0;34m(\u001b[0m\u001b[0mXt\u001b[0m\u001b[0;34m,\u001b[0m \u001b[0myt\u001b[0m\u001b[0;34m,\u001b[0m \u001b[0;34m**\u001b[0m\u001b[0mfit_params\u001b[0m\u001b[0;34m)\u001b[0m\u001b[0;34m\u001b[0m\u001b[0;34m\u001b[0m\u001b[0m\n\u001b[0m\u001b[1;32m    282\u001b[0m         \u001b[0;32mreturn\u001b[0m \u001b[0mself\u001b[0m\u001b[0;34m\u001b[0m\u001b[0;34m\u001b[0m\u001b[0m\n\u001b[1;32m    283\u001b[0m \u001b[0;34m\u001b[0m\u001b[0m\n",
      "\u001b[0;32m~/Library/Python/3.8/lib/python/site-packages/sklearn/ensemble/_forest.py\u001b[0m in \u001b[0;36mfit\u001b[0;34m(self, X, y, sample_weight)\u001b[0m\n\u001b[1;32m    374\u001b[0m                 \u001b[0mrandom_state\u001b[0m\u001b[0;34m.\u001b[0m\u001b[0mrandint\u001b[0m\u001b[0;34m(\u001b[0m\u001b[0mMAX_INT\u001b[0m\u001b[0;34m,\u001b[0m \u001b[0msize\u001b[0m\u001b[0;34m=\u001b[0m\u001b[0mlen\u001b[0m\u001b[0;34m(\u001b[0m\u001b[0mself\u001b[0m\u001b[0;34m.\u001b[0m\u001b[0mestimators_\u001b[0m\u001b[0;34m)\u001b[0m\u001b[0;34m)\u001b[0m\u001b[0;34m\u001b[0m\u001b[0;34m\u001b[0m\u001b[0m\n\u001b[1;32m    375\u001b[0m \u001b[0;34m\u001b[0m\u001b[0m\n\u001b[0;32m--> 376\u001b[0;31m             trees = [self._make_estimator(append=False,\n\u001b[0m\u001b[1;32m    377\u001b[0m                                           random_state=random_state)\n\u001b[1;32m    378\u001b[0m                      for i in range(n_more_estimators)]\n",
      "\u001b[0;32m~/Library/Python/3.8/lib/python/site-packages/sklearn/ensemble/_forest.py\u001b[0m in \u001b[0;36m<listcomp>\u001b[0;34m(.0)\u001b[0m\n\u001b[1;32m    374\u001b[0m                 \u001b[0mrandom_state\u001b[0m\u001b[0;34m.\u001b[0m\u001b[0mrandint\u001b[0m\u001b[0;34m(\u001b[0m\u001b[0mMAX_INT\u001b[0m\u001b[0;34m,\u001b[0m \u001b[0msize\u001b[0m\u001b[0;34m=\u001b[0m\u001b[0mlen\u001b[0m\u001b[0;34m(\u001b[0m\u001b[0mself\u001b[0m\u001b[0;34m.\u001b[0m\u001b[0mestimators_\u001b[0m\u001b[0;34m)\u001b[0m\u001b[0;34m)\u001b[0m\u001b[0;34m\u001b[0m\u001b[0;34m\u001b[0m\u001b[0m\n\u001b[1;32m    375\u001b[0m \u001b[0;34m\u001b[0m\u001b[0m\n\u001b[0;32m--> 376\u001b[0;31m             trees = [self._make_estimator(append=False,\n\u001b[0m\u001b[1;32m    377\u001b[0m                                           random_state=random_state)\n\u001b[1;32m    378\u001b[0m                      for i in range(n_more_estimators)]\n",
      "\u001b[0;32m~/Library/Python/3.8/lib/python/site-packages/sklearn/ensemble/_base.py\u001b[0m in \u001b[0;36m_make_estimator\u001b[0;34m(self, append, random_state)\u001b[0m\n\u001b[1;32m    150\u001b[0m         \"\"\"\n\u001b[1;32m    151\u001b[0m         \u001b[0mestimator\u001b[0m \u001b[0;34m=\u001b[0m \u001b[0mclone\u001b[0m\u001b[0;34m(\u001b[0m\u001b[0mself\u001b[0m\u001b[0;34m.\u001b[0m\u001b[0mbase_estimator_\u001b[0m\u001b[0;34m)\u001b[0m\u001b[0;34m\u001b[0m\u001b[0;34m\u001b[0m\u001b[0m\n\u001b[0;32m--> 152\u001b[0;31m         estimator.set_params(**{p: getattr(self, p)\n\u001b[0m\u001b[1;32m    153\u001b[0m                                 for p in self.estimator_params})\n\u001b[1;32m    154\u001b[0m \u001b[0;34m\u001b[0m\u001b[0m\n",
      "\u001b[0;32m~/Library/Python/3.8/lib/python/site-packages/sklearn/base.py\u001b[0m in \u001b[0;36mset_params\u001b[0;34m(self, **params)\u001b[0m\n\u001b[1;32m    241\u001b[0m             \u001b[0;31m# Simple optimization to gain speed (inspect is slow)\u001b[0m\u001b[0;34m\u001b[0m\u001b[0;34m\u001b[0m\u001b[0;34m\u001b[0m\u001b[0m\n\u001b[1;32m    242\u001b[0m             \u001b[0;32mreturn\u001b[0m \u001b[0mself\u001b[0m\u001b[0;34m\u001b[0m\u001b[0;34m\u001b[0m\u001b[0m\n\u001b[0;32m--> 243\u001b[0;31m         \u001b[0mvalid_params\u001b[0m \u001b[0;34m=\u001b[0m \u001b[0mself\u001b[0m\u001b[0;34m.\u001b[0m\u001b[0mget_params\u001b[0m\u001b[0;34m(\u001b[0m\u001b[0mdeep\u001b[0m\u001b[0;34m=\u001b[0m\u001b[0;32mTrue\u001b[0m\u001b[0;34m)\u001b[0m\u001b[0;34m\u001b[0m\u001b[0;34m\u001b[0m\u001b[0m\n\u001b[0m\u001b[1;32m    244\u001b[0m \u001b[0;34m\u001b[0m\u001b[0m\n\u001b[1;32m    245\u001b[0m         \u001b[0mnested_params\u001b[0m \u001b[0;34m=\u001b[0m \u001b[0mdefaultdict\u001b[0m\u001b[0;34m(\u001b[0m\u001b[0mdict\u001b[0m\u001b[0;34m)\u001b[0m  \u001b[0;31m# grouped by prefix\u001b[0m\u001b[0;34m\u001b[0m\u001b[0;34m\u001b[0m\u001b[0m\n",
      "\u001b[0;31mKeyboardInterrupt\u001b[0m: "
     ]
    }
   ],
   "source": [
    "# Comparison\n",
    "\n",
    "compare_models()"
   ]
  },
  {
   "cell_type": "markdown",
   "metadata": {},
   "source": [
    "### model을 비교한 결과, random forest 모델이 가장 좋았다. 따라서 이를 통해 하이퍼 파라미터 튜닝을 진행해보려 한다."
   ]
  },
  {
   "cell_type": "code",
   "execution_count": null,
   "metadata": {},
   "outputs": [],
   "source": [
    "model = create_model('rf')\n",
    "tuned_model = tune_model(model)"
   ]
  },
  {
   "cell_type": "code",
   "execution_count": null,
   "metadata": {},
   "outputs": [],
   "source": [
    "model, tuned_model"
   ]
  },
  {
   "cell_type": "code",
   "execution_count": 118,
   "metadata": {},
   "outputs": [],
   "source": [
    "from sklearn.metrics import log_loss\n",
    "from sklearn.linear_model import RidgeClassifier\n",
    "from sklearn.model_selection import train_test_split\n",
    "import numpy as np"
   ]
  },
  {
   "cell_type": "code",
   "execution_count": 52,
   "metadata": {},
   "outputs": [],
   "source": [
    "X = cross_sectional_data.drop(columns = ['GENDER', 'AGE', 'GROUP'])\n",
    "y = cross_sectional_data[['GROUP']]\n",
    "\n",
    "train_x, test_x, train_y, test_y = train_test_split(X, y, train_size = 0.7, random_state = 123)"
   ]
  },
  {
   "cell_type": "code",
   "execution_count": 190,
   "metadata": {},
   "outputs": [],
   "source": [
    "model_log_loss = -((np.log(model.predict_proba(test_x)) * np.array(pd.get_dummies(test_y))).sum(axis = 1)).mean()"
   ]
  },
  {
   "cell_type": "code",
   "execution_count": null,
   "metadata": {},
   "outputs": [],
   "source": [
    "tuned_log_loss = -((np.log(tuned_model.predict_proba(test_x)) * np.array(pd.get_dummies(test_y))).sum(axis = 1)).mean()"
   ]
  }
 ],
 "metadata": {
  "kernelspec": {
   "display_name": "Python 3",
   "language": "python",
   "name": "python3"
  },
  "language_info": {
   "codemirror_mode": {
    "name": "ipython",
    "version": 3
   },
   "file_extension": ".py",
   "mimetype": "text/x-python",
   "name": "python",
   "nbconvert_exporter": "python",
   "pygments_lexer": "ipython3",
   "version": "3.8.2"
  }
 },
 "nbformat": 4,
 "nbformat_minor": 4
}
