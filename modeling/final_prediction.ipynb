{
 "cells": [
  {
   "cell_type": "code",
   "execution_count": 10,
   "metadata": {
    "ExecuteTime": {
     "end_time": "2020-12-23T09:35:34.352987Z",
     "start_time": "2020-12-23T09:35:34.330806Z"
    }
   },
   "outputs": [],
   "source": [
    "import pickle as pkl\n",
    "\n",
    "PATH = '/Users/wonjae/Documents/GitHub/2020-fall-bma-final'\n",
    "\n",
    "with open(f\"{PATH}/modeling/predict_selected_model.pkl\", 'rb') as f:\n",
    "    selected_model_info = pkl.load(f)"
   ]
  },
  {
   "cell_type": "code",
   "execution_count": 12,
   "metadata": {
    "ExecuteTime": {
     "end_time": "2020-12-23T09:35:57.520824Z",
     "start_time": "2020-12-23T09:35:57.518412Z"
    }
   },
   "outputs": [],
   "source": [
    "model = selected_model_info['model']\n",
    "selected_columns = selected_model_info['column']"
   ]
  },
  {
   "cell_type": "code",
   "execution_count": 15,
   "metadata": {
    "ExecuteTime": {
     "end_time": "2020-12-23T09:49:00.950016Z",
     "start_time": "2020-12-23T09:49:00.781550Z"
    }
   },
   "outputs": [],
   "source": [
    "clickstream_test = pd.read_csv(f'{PATH}/modeling/preprocess_clickstream_test.csv')\\\n",
    "                     .set_index('CUS_ID')\n",
    "\n",
    "keyword_test = pd.read_csv(f'{PATH}/modeling/preprocess_querystring_test.csv')\\\n",
    "                 .set_index('CUS_ID')\n",
    "\n",
    "test_set = clickstream_test.join(keyword_test, how = 'outer')\\\n",
    "                           .fillna(0)\n",
    "\n",
    "test_set = test_set[selected_columns]\n",
    "\n",
    "prediction = pd.DataFrame(model.predict_proba(test_set), \n",
    "                          columns = ['F20-', 'F30', 'F40', 'M20-', 'M30', 'M40+'],\n",
    "                         index = test_set.index)"
   ]
  },
  {
   "cell_type": "code",
   "execution_count": 17,
   "metadata": {
    "ExecuteTime": {
     "end_time": "2020-12-23T09:49:10.854715Z",
     "start_time": "2020-12-23T09:49:10.833936Z"
    }
   },
   "outputs": [],
   "source": [
    "prediction.to_csv('./group_prediction.csv')"
   ]
  }
 ],
 "metadata": {
  "hide_input": false,
  "kernelspec": {
   "display_name": "Python 3",
   "language": "python",
   "name": "python3"
  },
  "language_info": {
   "codemirror_mode": {
    "name": "ipython",
    "version": 3
   },
   "file_extension": ".py",
   "mimetype": "text/x-python",
   "name": "python",
   "nbconvert_exporter": "python",
   "pygments_lexer": "ipython3",
   "version": "3.8.2"
  },
  "toc": {
   "base_numbering": 1,
   "nav_menu": {},
   "number_sections": false,
   "sideBar": true,
   "skip_h1_title": false,
   "title_cell": "Table of Contents",
   "title_sidebar": "Contents",
   "toc_cell": false,
   "toc_position": {},
   "toc_section_display": true,
   "toc_window_display": false
  },
  "varInspector": {
   "cols": {
    "lenName": 16,
    "lenType": 16,
    "lenVar": 40
   },
   "kernels_config": {
    "python": {
     "delete_cmd_postfix": "",
     "delete_cmd_prefix": "del ",
     "library": "var_list.py",
     "varRefreshCmd": "print(var_dic_list())"
    },
    "r": {
     "delete_cmd_postfix": ") ",
     "delete_cmd_prefix": "rm(",
     "library": "var_list.r",
     "varRefreshCmd": "cat(var_dic_list()) "
    }
   },
   "types_to_exclude": [
    "module",
    "function",
    "builtin_function_or_method",
    "instance",
    "_Feature"
   ],
   "window_display": false
  }
 },
 "nbformat": 4,
 "nbformat_minor": 4
}
